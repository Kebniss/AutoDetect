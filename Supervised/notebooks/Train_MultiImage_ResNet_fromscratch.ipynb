{
 "cells": [
  {
   "cell_type": "code",
   "execution_count": 1,
   "metadata": {
    "collapsed": true
   },
   "outputs": [],
   "source": [
    "import torch\n",
    "from torch import nn\n",
    "\n",
    "import torchvision\n",
    "from torchvision.datasets import ImageFolder\n",
    "\n",
    "from torchvision import transforms\n",
    "\n",
    "from torch.utils.data import DataLoader\n",
    "from pathlib import Path\n",
    "from torchvision.models import resnet101"
   ]
  },
  {
   "cell_type": "code",
   "execution_count": 2,
   "metadata": {
    "collapsed": true
   },
   "outputs": [],
   "source": [
    "import sys\n",
    "sys.path.append(\"..\")"
   ]
  },
  {
   "cell_type": "code",
   "execution_count": 3,
   "metadata": {
    "collapsed": true
   },
   "outputs": [],
   "source": [
    "from video_classification.datasets import FolderOfFrameFoldersDataset, FrameWindowDataset"
   ]
  },
  {
   "cell_type": "code",
   "execution_count": 4,
   "metadata": {
    "collapsed": true
   },
   "outputs": [],
   "source": [
    "device = torch.device(\"cuda\" if torch.cuda.is_available() else \"cpu\")"
   ]
  },
  {
   "cell_type": "code",
   "execution_count": 5,
   "metadata": {
    "collapsed": true
   },
   "outputs": [],
   "source": [
    "ROOT = Path(\"/home/ubuntu/SupervisedVideoClassification\")\n",
    "DATA_ROOT = Path(ROOT/\"data\")"
   ]
  },
  {
   "cell_type": "code",
   "execution_count": 6,
   "metadata": {
    "collapsed": true
   },
   "outputs": [],
   "source": [
    "train_transforms = transforms.Compose([\n",
    "    torchvision.transforms.ColorJitter(),\n",
    "    transforms.RandomHorizontalFlip(p=0.25),\n",
    "    transforms.RandomVerticalFlip(p=0.25),\n",
    "    transforms.ToTensor(),\n",
    "    transforms.Normalize(mean=[0.485, 0.456, 0.406],std=[0.229, 0.224, 0.225]),\n",
    "])\n",
    "\n",
    "valid_transforms = transforms.Compose([\n",
    "    transforms.ToTensor(),\n",
    "    transforms.Normalize(mean=[0.485, 0.456, 0.406],std=[0.229, 0.224, 0.225]),\n",
    "])"
   ]
  },
  {
   "cell_type": "code",
   "execution_count": 7,
   "metadata": {
    "collapsed": true
   },
   "outputs": [],
   "source": [
    "train_ds = FolderOfFrameFoldersDataset(DATA_ROOT/'train', \n",
    "                                       transform=train_transforms, \n",
    "                                       base_class=FrameWindowDataset,\n",
    "                                       window_size=3,\n",
    "                                       overlapping=True,)\n",
    "valid_ds = FolderOfFrameFoldersDataset(DATA_ROOT/'validation', \n",
    "                                       transform=valid_transforms, \n",
    "                                       base_class=FrameWindowDataset,\n",
    "                                       window_size=3,\n",
    "                                       overlapping=True,)"
   ]
  },
  {
   "cell_type": "code",
   "execution_count": 8,
   "metadata": {
    "collapsed": true
   },
   "outputs": [],
   "source": [
    "from torch import nn\n",
    "from torchvision.models import resnet101\n",
    "from video_classification.models.mlp import MLP\n",
    "\n",
    "\n",
    "class SingleImageResNetModel(nn.Module):\n",
    "    def __init__(self, mlp_sizes=[768, 128, 2]):\n",
    "        super().__init__()\n",
    "        resnet = resnet101(pretrained=True)\n",
    "        modules = list(resnet.children())[:-1]\n",
    "        self.resnet = nn.Sequential(*modules)\n",
    "\n",
    "        self.clf = MLP(2048, mlp_sizes)\n",
    "        self.freeze_resnet()\n",
    "\n",
    "    def forward(self, x):\n",
    "        x = self.resnet(x).squeeze()\n",
    "        x = self.clf(x)\n",
    "        return x\n",
    "\n",
    "    def freeze_resnet(self):\n",
    "        for p in self.resnet.parameters():\n",
    "            p.requires_grad = False\n",
    "\n",
    "    def unfreeze_resnet(self):\n",
    "        for p in self.resnet.parameters():\n",
    "            p.requires_grad = True\n"
   ]
  },
  {
   "cell_type": "code",
   "execution_count": 9,
   "metadata": {
    "collapsed": true
   },
   "outputs": [],
   "source": [
    "import torch\n",
    "from torch import nn\n",
    "from video_classification.models.mlp import MLP\n",
    "\n",
    "\n",
    "class MultiImageModel(nn.Module):\n",
    "    def __init__(self,\n",
    "                 window_size=3,\n",
    "                 single_mlp_sizes=[768, 128],\n",
    "                 joint_mlp_sizes=[64, 2]):\n",
    "        super().__init__()\n",
    "        self.window_size = window_size\n",
    "        self.single_mlp_sizes = single_mlp_sizes\n",
    "        self.joint_mlp_sizes = joint_mlp_sizes\n",
    "        \n",
    "        self.single_image_model = SingleImageResNetModel(self.single_mlp_sizes)\n",
    "        self.in_features = self.single_mlp_sizes[-1] * self.window_size\n",
    "        self.clf = MLP(self.in_features, joint_mlp_sizes)\n",
    "\n",
    "    def forward(self, x):\n",
    "        # x is of size [B, T, C, H, W]. In other words, a batch of windows.\n",
    "        # each img for the same window goes through SingleImageModel\n",
    "        x = x.transpose(0, 1)  # -> [T, B, C, H, W]\n",
    "        x = torch.cat([self.single_image_model(window) for window in x], 1)\n",
    "        # x is now of size [B, T * single_mlp_sizes[-1]]\n",
    "        \n",
    "        x = self.clf(x)\n",
    "        # Now size is [B, joint_mlp_sizes[-1]] which should always be 2\n",
    "\n",
    "        return x\n",
    "    \n",
    "    def freeze_single_image_model(self):\n",
    "        # Freeze the VGG classifier\n",
    "        for p in self.single_image_model.parameters():\n",
    "            p.requires_grad = False\n",
    "            \n",
    "    def unfreeze_single_image_model(self):\n",
    "        # Unfreeze the VGG classifier. Training the whole VGG is a no-go, so we only train the classifier part.\n",
    "        for p in self.single_image_model.clf.parameters():\n",
    "            p.requires_grad = True "
   ]
  },
  {
   "cell_type": "code",
   "execution_count": 10,
   "metadata": {
    "collapsed": true
   },
   "outputs": [],
   "source": [
    "model = MultiImageModel(\n",
    "                 window_size=3,\n",
    "                 single_mlp_sizes=[1024, 256],\n",
    "                 joint_mlp_sizes=[128, 2])\n",
    "\n",
    "model = model.to(device)"
   ]
  },
  {
   "cell_type": "code",
   "execution_count": 11,
   "metadata": {
    "collapsed": true
   },
   "outputs": [],
   "source": [
    "x = torch.stack([train_ds[0][0], train_ds[1][0], train_ds[2][0], train_ds[3][0]]).to(device)"
   ]
  },
  {
   "cell_type": "code",
   "execution_count": 12,
   "metadata": {},
   "outputs": [
    {
     "data": {
      "text/plain": [
       "tensor([[-0.1784,  0.2266],\n",
       "        [-0.7380, -0.4095],\n",
       "        [ 0.2799, -0.2015],\n",
       "        [ 0.2494, -0.8661]], device='cuda:0', grad_fn=<AddmmBackward>)"
      ]
     },
     "execution_count": 12,
     "metadata": {},
     "output_type": "execute_result"
    }
   ],
   "source": [
    "model(x)"
   ]
  },
  {
   "cell_type": "code",
   "execution_count": 13,
   "metadata": {
    "collapsed": true
   },
   "outputs": [],
   "source": [
    "from video_classification.trainer import Trainer\n",
    "\n",
    "classes_weights = torch.Tensor([0.3, 1.0]).to(device)\n",
    "criterion = nn.CrossEntropyLoss(weight=classes_weights)"
   ]
  },
  {
   "cell_type": "code",
   "execution_count": 14,
   "metadata": {},
   "outputs": [
    {
     "name": "stdout",
     "output_type": "stream",
     "text": [
      "Selected optimization level O1:  Insert automatic casts around Pytorch functions and Tensor methods.\n",
      "\n",
      "Defaults for this optimization level are:\n",
      "enabled                : True\n",
      "opt_level              : O1\n",
      "cast_model_type        : None\n",
      "patch_torch_functions  : True\n",
      "keep_batchnorm_fp32    : None\n",
      "master_weights         : None\n",
      "loss_scale             : dynamic\n",
      "Processing user overrides (additional kwargs that are not None)...\n",
      "After processing overrides, optimization options are:\n",
      "enabled                : True\n",
      "opt_level              : O1\n",
      "cast_model_type        : None\n",
      "patch_torch_functions  : True\n",
      "keep_batchnorm_fp32    : None\n",
      "master_weights         : None\n",
      "loss_scale             : dynamic\n"
     ]
    }
   ],
   "source": [
    "trainer = Trainer(train_ds, \n",
    "                  valid_ds, \n",
    "                  model, \n",
    "                  criterion,\n",
    "                  \"multi_frame_resnet101_from_scratch\",\n",
    "                  str(ROOT/'checkpoints'),\n",
    "                  device=device,\n",
    "                  amp_opt_level=\"O1\",\n",
    "                  cycle_mult=0.9,\n",
    "                 )"
   ]
  },
  {
   "cell_type": "code",
   "execution_count": 15,
   "metadata": {},
   "outputs": [
    {
     "name": "stderr",
     "output_type": "stream",
     "text": [
      "/home/ubuntu/anaconda3/envs/pytorch_p36/lib/python3.6/site-packages/tqdm/autonotebook/__init__.py:14: TqdmExperimentalWarning: Using `tqdm.autonotebook.tqdm` in notebook mode. Use `tqdm.tqdm` instead to force console mode (e.g. in jupyter console)\n",
      "  \" (e.g. in jupyter console)\", TqdmExperimentalWarning)\n"
     ]
    },
    {
     "data": {
      "application/vnd.jupyter.widget-view+json": {
       "model_id": "",
       "version_major": 2,
       "version_minor": 0
      },
      "text/plain": [
       "HBox(children=(IntProgress(value=0, max=209), HTML(value='')))"
      ]
     },
     "metadata": {},
     "output_type": "display_data"
    },
    {
     "name": "stdout",
     "output_type": "stream",
     "text": [
      "Training Results - Epoch: 1: Avg accuracy: 0.94 |Precision: 0.95, 0.61 |Recall: 0.98, 0.40 | F1: 0.72 | Avg loss: 0.38\n",
      "Validation Results - Epoch: 1: Avg accuracy: 0.93 |Precision: 0.93, 0.90 |Recall: 1.00, 0.28 | F1: 0.70 | Avg loss: 0.46\n"
     ]
    },
    {
     "data": {
      "application/vnd.jupyter.widget-view+json": {
       "model_id": "",
       "version_major": 2,
       "version_minor": 0
      },
      "text/plain": [
       "HBox(children=(IntProgress(value=0, max=209), HTML(value='')))"
      ]
     },
     "metadata": {},
     "output_type": "display_data"
    },
    {
     "name": "stdout",
     "output_type": "stream",
     "text": [
      "Training Results - Epoch: 2: Avg accuracy: 0.95 |Precision: 0.96, 0.84 |Recall: 0.99, 0.47 | F1: 0.79 | Avg loss: 0.29\n",
      "Validation Results - Epoch: 2: Avg accuracy: 0.93 |Precision: 0.94, 0.74 |Recall: 0.99, 0.30 | F1: 0.70 | Avg loss: 0.39\n"
     ]
    },
    {
     "data": {
      "application/vnd.jupyter.widget-view+json": {
       "model_id": "",
       "version_major": 2,
       "version_minor": 0
      },
      "text/plain": [
       "HBox(children=(IntProgress(value=0, max=209), HTML(value='')))"
      ]
     },
     "metadata": {},
     "output_type": "display_data"
    },
    {
     "name": "stdout",
     "output_type": "stream",
     "text": [
      "Training Results - Epoch: 3: Avg accuracy: 0.93 |Precision: 0.97, 0.55 |Recall: 0.96, 0.63 | F1: 0.78 | Avg loss: 0.27\n",
      "Validation Results - Epoch: 3: Avg accuracy: 0.88 |Precision: 0.94, 0.34 |Recall: 0.93, 0.35 | F1: 0.64 | Avg loss: 0.47\n"
     ]
    },
    {
     "data": {
      "application/vnd.jupyter.widget-view+json": {
       "model_id": "",
       "version_major": 2,
       "version_minor": 0
      },
      "text/plain": [
       "HBox(children=(IntProgress(value=0, max=209), HTML(value='')))"
      ]
     },
     "metadata": {},
     "output_type": "display_data"
    },
    {
     "name": "stdout",
     "output_type": "stream",
     "text": [
      "Training Results - Epoch: 4: Avg accuracy: 0.88 |Precision: 0.98, 0.35 |Recall: 0.89, 0.72 | F1: 0.70 | Avg loss: 0.35\n",
      "Validation Results - Epoch: 4: Avg accuracy: 0.74 |Precision: 0.95, 0.18 |Recall: 0.76, 0.56 | F1: 0.56 | Avg loss: 0.70\n"
     ]
    },
    {
     "data": {
      "application/vnd.jupyter.widget-view+json": {
       "model_id": "",
       "version_major": 2,
       "version_minor": 0
      },
      "text/plain": [
       "HBox(children=(IntProgress(value=0, max=209), HTML(value='')))"
      ]
     },
     "metadata": {},
     "output_type": "display_data"
    },
    {
     "name": "stdout",
     "output_type": "stream",
     "text": [
      "Training Results - Epoch: 5: Avg accuracy: 0.96 |Precision: 0.97, 0.78 |Recall: 0.99, 0.67 | F1: 0.85 | Avg loss: 0.21\n",
      "Validation Results - Epoch: 5: Avg accuracy: 0.90 |Precision: 0.94, 0.44 |Recall: 0.95, 0.37 | F1: 0.67 | Avg loss: 0.46\n"
     ]
    },
    {
     "data": {
      "application/vnd.jupyter.widget-view+json": {
       "model_id": "",
       "version_major": 2,
       "version_minor": 0
      },
      "text/plain": [
       "HBox(children=(IntProgress(value=0, max=209), HTML(value='')))"
      ]
     },
     "metadata": {},
     "output_type": "display_data"
    },
    {
     "name": "stdout",
     "output_type": "stream",
     "text": [
      "Training Results - Epoch: 6: Avg accuracy: 0.96 |Precision: 0.96, 0.86 |Recall: 0.99, 0.54 | F1: 0.82 | Avg loss: 0.26\n",
      "Validation Results - Epoch: 6: Avg accuracy: 0.93 |Precision: 0.94, 0.67 |Recall: 0.98, 0.35 | F1: 0.71 | Avg loss: 0.44\n"
     ]
    },
    {
     "data": {
      "application/vnd.jupyter.widget-view+json": {
       "model_id": "",
       "version_major": 2,
       "version_minor": 0
      },
      "text/plain": [
       "HBox(children=(IntProgress(value=0, max=209), HTML(value='')))"
      ]
     },
     "metadata": {},
     "output_type": "display_data"
    },
    {
     "name": "stdout",
     "output_type": "stream",
     "text": [
      "Training Results - Epoch: 7: Avg accuracy: 0.92 |Precision: 0.98, 0.49 |Recall: 0.94, 0.76 | F1: 0.78 | Avg loss: 0.23\n",
      "Validation Results - Epoch: 7: Avg accuracy: 0.91 |Precision: 0.96, 0.49 |Recall: 0.94, 0.55 | F1: 0.73 | Avg loss: 0.35\n"
     ]
    },
    {
     "data": {
      "application/vnd.jupyter.widget-view+json": {
       "model_id": "",
       "version_major": 2,
       "version_minor": 0
      },
      "text/plain": [
       "HBox(children=(IntProgress(value=0, max=209), HTML(value='')))"
      ]
     },
     "metadata": {},
     "output_type": "display_data"
    },
    {
     "name": "stdout",
     "output_type": "stream",
     "text": [
      "Training Results - Epoch: 8: Avg accuracy: 0.96 |Precision: 0.97, 0.88 |Recall: 0.99, 0.59 | F1: 0.84 | Avg loss: 0.22\n",
      "Validation Results - Epoch: 8: Avg accuracy: 0.92 |Precision: 0.95, 0.59 |Recall: 0.97, 0.45 | F1: 0.73 | Avg loss: 0.42\n"
     ]
    },
    {
     "data": {
      "application/vnd.jupyter.widget-view+json": {
       "model_id": "",
       "version_major": 2,
       "version_minor": 0
      },
      "text/plain": [
       "HBox(children=(IntProgress(value=0, max=209), HTML(value='')))"
      ]
     },
     "metadata": {},
     "output_type": "display_data"
    },
    {
     "name": "stdout",
     "output_type": "stream",
     "text": [
      "Training Results - Epoch: 9: Avg accuracy: 0.96 |Precision: 0.98, 0.69 |Recall: 0.97, 0.72 | F1: 0.84 | Avg loss: 0.19\n",
      "Validation Results - Epoch: 9: Avg accuracy: 0.91 |Precision: 0.95, 0.51 |Recall: 0.96, 0.47 | F1: 0.72 | Avg loss: 0.43\n"
     ]
    },
    {
     "data": {
      "application/vnd.jupyter.widget-view+json": {
       "model_id": "",
       "version_major": 2,
       "version_minor": 0
      },
      "text/plain": [
       "HBox(children=(IntProgress(value=0, max=209), HTML(value='')))"
      ]
     },
     "metadata": {},
     "output_type": "display_data"
    },
    {
     "name": "stdout",
     "output_type": "stream",
     "text": [
      "Training Results - Epoch: 10: Avg accuracy: 0.94 |Precision: 0.99, 0.58 |Recall: 0.95, 0.84 | F1: 0.83 | Avg loss: 0.18\n",
      "Validation Results - Epoch: 10: Avg accuracy: 0.92 |Precision: 0.95, 0.52 |Recall: 0.96, 0.50 | F1: 0.73 | Avg loss: 0.38\n"
     ]
    },
    {
     "data": {
      "application/vnd.jupyter.widget-view+json": {
       "model_id": "",
       "version_major": 2,
       "version_minor": 0
      },
      "text/plain": [
       "HBox(children=(IntProgress(value=0, max=209), HTML(value='')))"
      ]
     },
     "metadata": {},
     "output_type": "display_data"
    },
    {
     "name": "stdout",
     "output_type": "stream",
     "text": [
      "Training Results - Epoch: 11: Avg accuracy: 0.95 |Precision: 0.98, 0.63 |Recall: 0.96, 0.81 | F1: 0.84 | Avg loss: 0.17\n",
      "Validation Results - Epoch: 11: Avg accuracy: 0.84 |Precision: 0.95, 0.28 |Recall: 0.87, 0.53 | F1: 0.64 | Avg loss: 0.52\n"
     ]
    },
    {
     "data": {
      "application/vnd.jupyter.widget-view+json": {
       "model_id": "",
       "version_major": 2,
       "version_minor": 0
      },
      "text/plain": [
       "HBox(children=(IntProgress(value=0, max=209), HTML(value='')))"
      ]
     },
     "metadata": {},
     "output_type": "display_data"
    },
    {
     "name": "stdout",
     "output_type": "stream",
     "text": [
      "Training Results - Epoch: 12: Avg accuracy: 0.92 |Precision: 0.98, 0.49 |Recall: 0.94, 0.76 | F1: 0.78 | Avg loss: 0.24\n",
      "Validation Results - Epoch: 12: Avg accuracy: 0.93 |Precision: 0.96, 0.62 |Recall: 0.96, 0.63 | F1: 0.79 | Avg loss: 0.33\n"
     ]
    },
    {
     "data": {
      "application/vnd.jupyter.widget-view+json": {
       "model_id": "",
       "version_major": 2,
       "version_minor": 0
      },
      "text/plain": [
       "HBox(children=(IntProgress(value=0, max=209), HTML(value='')))"
      ]
     },
     "metadata": {},
     "output_type": "display_data"
    },
    {
     "name": "stdout",
     "output_type": "stream",
     "text": [
      "Training Results - Epoch: 13: Avg accuracy: 0.97 |Precision: 0.98, 0.78 |Recall: 0.98, 0.74 | F1: 0.87 | Avg loss: 0.17\n",
      "Validation Results - Epoch: 13: Avg accuracy: 0.92 |Precision: 0.95, 0.55 |Recall: 0.96, 0.45 | F1: 0.72 | Avg loss: 0.44\n"
     ]
    },
    {
     "data": {
      "application/vnd.jupyter.widget-view+json": {
       "model_id": "",
       "version_major": 2,
       "version_minor": 0
      },
      "text/plain": [
       "HBox(children=(IntProgress(value=0, max=209), HTML(value='')))"
      ]
     },
     "metadata": {},
     "output_type": "display_data"
    },
    {
     "name": "stdout",
     "output_type": "stream",
     "text": [
      "Training Results - Epoch: 14: Avg accuracy: 0.97 |Precision: 0.98, 0.83 |Recall: 0.99, 0.69 | F1: 0.87 | Avg loss: 0.18\n",
      "Validation Results - Epoch: 14: Avg accuracy: 0.93 |Precision: 0.94, 0.72 |Recall: 0.98, 0.41 | F1: 0.74 | Avg loss: 0.50\n"
     ]
    },
    {
     "data": {
      "application/vnd.jupyter.widget-view+json": {
       "model_id": "",
       "version_major": 2,
       "version_minor": 0
      },
      "text/plain": [
       "HBox(children=(IntProgress(value=0, max=209), HTML(value='')))"
      ]
     },
     "metadata": {},
     "output_type": "display_data"
    },
    {
     "name": "stdout",
     "output_type": "stream",
     "text": [
      "Training Results - Epoch: 15: Avg accuracy: 0.97 |Precision: 0.98, 0.77 |Recall: 0.98, 0.81 | F1: 0.89 | Avg loss: 0.14\n",
      "Validation Results - Epoch: 15: Avg accuracy: 0.92 |Precision: 0.96, 0.58 |Recall: 0.96, 0.53 | F1: 0.76 | Avg loss: 0.38\n"
     ]
    },
    {
     "data": {
      "application/vnd.jupyter.widget-view+json": {
       "model_id": "",
       "version_major": 2,
       "version_minor": 0
      },
      "text/plain": [
       "HBox(children=(IntProgress(value=0, max=209), HTML(value='')))"
      ]
     },
     "metadata": {},
     "output_type": "display_data"
    },
    {
     "name": "stdout",
     "output_type": "stream",
     "text": [
      "Training Results - Epoch: 16: Avg accuracy: 0.97 |Precision: 0.98, 0.83 |Recall: 0.99, 0.77 | F1: 0.89 | Avg loss: 0.14\n",
      "Validation Results - Epoch: 16: Avg accuracy: 0.94 |Precision: 0.95, 0.70 |Recall: 0.98, 0.50 | F1: 0.77 | Avg loss: 0.38\n"
     ]
    },
    {
     "data": {
      "application/vnd.jupyter.widget-view+json": {
       "model_id": "",
       "version_major": 2,
       "version_minor": 0
      },
      "text/plain": [
       "HBox(children=(IntProgress(value=0, max=209), HTML(value='')))"
      ]
     },
     "metadata": {},
     "output_type": "display_data"
    },
    {
     "name": "stdout",
     "output_type": "stream",
     "text": [
      "Training Results - Epoch: 17: Avg accuracy: 0.97 |Precision: 0.98, 0.86 |Recall: 0.99, 0.76 | F1: 0.89 | Avg loss: 0.14\n",
      "Validation Results - Epoch: 17: Avg accuracy: 0.93 |Precision: 0.96, 0.65 |Recall: 0.97, 0.56 | F1: 0.78 | Avg loss: 0.38\n"
     ]
    },
    {
     "data": {
      "application/vnd.jupyter.widget-view+json": {
       "model_id": "",
       "version_major": 2,
       "version_minor": 0
      },
      "text/plain": [
       "HBox(children=(IntProgress(value=0, max=209), HTML(value='')))"
      ]
     },
     "metadata": {},
     "output_type": "display_data"
    },
    {
     "name": "stdout",
     "output_type": "stream",
     "text": [
      "Training Results - Epoch: 18: Avg accuracy: 0.96 |Precision: 0.99, 0.71 |Recall: 0.97, 0.85 | F1: 0.88 | Avg loss: 0.13\n",
      "Validation Results - Epoch: 18: Avg accuracy: 0.92 |Precision: 0.95, 0.55 |Recall: 0.96, 0.46 | F1: 0.73 | Avg loss: 0.48\n"
     ]
    },
    {
     "data": {
      "application/vnd.jupyter.widget-view+json": {
       "model_id": "",
       "version_major": 2,
       "version_minor": 0
      },
      "text/plain": [
       "HBox(children=(IntProgress(value=0, max=209), HTML(value='')))"
      ]
     },
     "metadata": {},
     "output_type": "display_data"
    },
    {
     "name": "stdout",
     "output_type": "stream",
     "text": [
      "Training Results - Epoch: 19: Avg accuracy: 0.97 |Precision: 0.99, 0.78 |Recall: 0.98, 0.84 | F1: 0.90 | Avg loss: 0.12\n",
      "Validation Results - Epoch: 19: Avg accuracy: 0.91 |Precision: 0.96, 0.50 |Recall: 0.95, 0.57 | F1: 0.74 | Avg loss: 0.40\n"
     ]
    },
    {
     "data": {
      "application/vnd.jupyter.widget-view+json": {
       "model_id": "",
       "version_major": 2,
       "version_minor": 0
      },
      "text/plain": [
       "HBox(children=(IntProgress(value=0, max=209), HTML(value='')))"
      ]
     },
     "metadata": {},
     "output_type": "display_data"
    },
    {
     "name": "stdout",
     "output_type": "stream",
     "text": [
      "Training Results - Epoch: 20: Avg accuracy: 0.95 |Precision: 0.99, 0.64 |Recall: 0.96, 0.85 | F1: 0.85 | Avg loss: 0.14\n",
      "Validation Results - Epoch: 20: Avg accuracy: 0.90 |Precision: 0.96, 0.45 |Recall: 0.93, 0.62 | F1: 0.73 | Avg loss: 0.42\n"
     ]
    }
   ],
   "source": [
    "trainer.train(lr=1e-3, \n",
    "              batch_size=128, \n",
    "              n_epochs=20,\n",
    "              gradient_accumulation_steps=2,\n",
    "              num_workers=8,\n",
    "              max_gradient_norm=2.0,\n",
    "             )"
   ]
  },
  {
   "cell_type": "code",
   "execution_count": 16,
   "metadata": {
    "scrolled": false
   },
   "outputs": [
    {
     "data": {
      "text/html": [
       "<div>\n",
       "<style scoped>\n",
       "    .dataframe tbody tr th:only-of-type {\n",
       "        vertical-align: middle;\n",
       "    }\n",
       "\n",
       "    .dataframe tbody tr th {\n",
       "        vertical-align: top;\n",
       "    }\n",
       "\n",
       "    .dataframe thead th {\n",
       "        text-align: right;\n",
       "    }\n",
       "</style>\n",
       "<table border=\"1\" class=\"dataframe\">\n",
       "  <thead>\n",
       "    <tr style=\"text-align: right;\">\n",
       "      <th></th>\n",
       "      <th></th>\n",
       "      <th>accuracy</th>\n",
       "      <th>f1</th>\n",
       "      <th>nll</th>\n",
       "      <th>precision</th>\n",
       "      <th>recall</th>\n",
       "    </tr>\n",
       "  </thead>\n",
       "  <tbody>\n",
       "    <tr>\n",
       "      <th rowspan=\"2\" valign=\"top\">1</th>\n",
       "      <th>train</th>\n",
       "      <td>0.936958</td>\n",
       "      <td>0.723321</td>\n",
       "      <td>0.381039</td>\n",
       "      <td>[0.953193333595997, 0.61198738170347]</td>\n",
       "      <td>[0.9800688677334414, 0.395112016293279]</td>\n",
       "    </tr>\n",
       "    <tr>\n",
       "      <th>test</th>\n",
       "      <td>0.93398</td>\n",
       "      <td>0.698448</td>\n",
       "      <td>0.455625</td>\n",
       "      <td>[0.9349099587763072, 0.9015151515151515]</td>\n",
       "      <td>[0.9969921332716335, 0.2840095465393795]</td>\n",
       "    </tr>\n",
       "    <tr>\n",
       "      <th rowspan=\"2\" valign=\"top\">2</th>\n",
       "      <th>train</th>\n",
       "      <td>0.954407</td>\n",
       "      <td>0.788925</td>\n",
       "      <td>0.288283</td>\n",
       "      <td>[0.9591158059467919, 0.8438934802571166]</td>\n",
       "      <td>[0.9931132266558639, 0.4679226069246436]</td>\n",
       "    </tr>\n",
       "    <tr>\n",
       "      <th>test</th>\n",
       "      <td>0.929129</td>\n",
       "      <td>0.696361</td>\n",
       "      <td>0.387364</td>\n",
       "      <td>[0.9361050328227571, 0.7426900584795322]</td>\n",
       "      <td>[0.989819527996298, 0.3031026252983294]</td>\n",
       "    </tr>\n",
       "    <tr>\n",
       "      <th rowspan=\"2\" valign=\"top\">3</th>\n",
       "      <th>train</th>\n",
       "      <td>0.934519</td>\n",
       "      <td>0.776292</td>\n",
       "      <td>0.26769</td>\n",
       "      <td>[0.9705447981621267, 0.5481742190937088]</td>\n",
       "      <td>[0.9583957869151306, 0.6344195519348269]</td>\n",
       "    </tr>\n",
       "    <tr>\n",
       "      <th>test</th>\n",
       "      <td>0.881881</td>\n",
       "      <td>0.640437</td>\n",
       "      <td>0.470022</td>\n",
       "      <td>[0.9370353159851301, 0.33867276887871856]</td>\n",
       "      <td>[0.9331328088847756, 0.3532219570405728]</td>\n",
       "    </tr>\n",
       "    <tr>\n",
       "      <th rowspan=\"2\" valign=\"top\">4</th>\n",
       "      <th>train</th>\n",
       "      <td>0.880296</td>\n",
       "      <td>0.700706</td>\n",
       "      <td>0.347542</td>\n",
       "      <td>[0.9754058477462733, 0.3483424047501237]</td>\n",
       "      <td>[0.8932955235973263, 0.7169042769857433]</td>\n",
       "    </tr>\n",
       "    <tr>\n",
       "      <th>test</th>\n",
       "      <td>0.739085</td>\n",
       "      <td>0.557308</td>\n",
       "      <td>0.702977</td>\n",
       "      <td>[0.9461961238067689, 0.18146417445482865]</td>\n",
       "      <td>[0.7568255437297547, 0.5560859188544153]</td>\n",
       "    </tr>\n",
       "    <tr>\n",
       "      <th rowspan=\"2\" valign=\"top\">5</th>\n",
       "      <th>train</th>\n",
       "      <td>0.962062</td>\n",
       "      <td>0.851589</td>\n",
       "      <td>0.206908</td>\n",
       "      <td>[0.974314794037506, 0.7814530419373893]</td>\n",
       "      <td>[0.9850111403686449, 0.6736252545824847]</td>\n",
       "    </tr>\n",
       "    <tr>\n",
       "      <th>test</th>\n",
       "      <td>0.901919</td>\n",
       "      <td>0.672527</td>\n",
       "      <td>0.46011</td>\n",
       "      <td>[0.9395942557556417, 0.4350282485875706]</td>\n",
       "      <td>[0.9537251272559001, 0.36754176610978523]</td>\n",
       "    </tr>\n",
       "    <tr>\n",
       "      <th rowspan=\"2\" valign=\"top\">6</th>\n",
       "      <th>train</th>\n",
       "      <td>0.959811</td>\n",
       "      <td>0.821811</td>\n",
       "      <td>0.263137</td>\n",
       "      <td>[0.9645498898331759, 0.862124898621249]</td>\n",
       "      <td>[0.9931132266558639, 0.5412423625254582]</td>\n",
       "    </tr>\n",
       "    <tr>\n",
       "      <th>test</th>\n",
       "      <td>0.926809</td>\n",
       "      <td>0.708014</td>\n",
       "      <td>0.44321</td>\n",
       "      <td>[0.9394207384479328, 0.6651376146788991]</td>\n",
       "      <td>[0.9831096714484036, 0.3460620525059666]</td>\n",
       "    </tr>\n",
       "    <tr>\n",
       "      <th rowspan=\"2\" valign=\"top\">7</th>\n",
       "      <th>train</th>\n",
       "      <td>0.924725</td>\n",
       "      <td>0.778395</td>\n",
       "      <td>0.233971</td>\n",
       "      <td>[0.9801007663321902, 0.49306930693069306]</td>\n",
       "      <td>[0.9377759773141584, 0.7606924643584522]</td>\n",
       "    </tr>\n",
       "    <tr>\n",
       "      <th>test</th>\n",
       "      <td>0.908669</td>\n",
       "      <td>0.732888</td>\n",
       "      <td>0.348829</td>\n",
       "      <td>[0.9559202813599063, 0.4852941176470588]</td>\n",
       "      <td>[0.9433132808884775, 0.5513126491646778]</td>\n",
       "    </tr>\n",
       "    <tr>\n",
       "      <th rowspan=\"2\" valign=\"top\">8</th>\n",
       "      <th>train</th>\n",
       "      <td>0.963638</td>\n",
       "      <td>0.842913</td>\n",
       "      <td>0.215154</td>\n",
       "      <td>[0.9682144831398563, 0.8760393046107332]</td>\n",
       "      <td>[0.9933562892444805, 0.590122199592668]</td>\n",
       "    </tr>\n",
       "    <tr>\n",
       "      <th>test</th>\n",
       "      <td>0.923434</td>\n",
       "      <td>0.733638</td>\n",
       "      <td>0.422452</td>\n",
       "      <td>[0.9477493779687853, 0.5875]</td>\n",
       "      <td>[0.9694585839888941, 0.4486873508353222]</td>\n",
       "    </tr>\n",
       "    <tr>\n",
       "      <th rowspan=\"2\" valign=\"top\">9</th>\n",
       "      <th>train</th>\n",
       "      <td>0.95527</td>\n",
       "      <td>0.84023</td>\n",
       "      <td>0.191698</td>\n",
       "      <td>[0.9779468608861944, 0.6862934362934363]</td>\n",
       "      <td>[0.9736682195665384, 0.7240325865580448]</td>\n",
       "    </tr>\n",
       "    <tr>\n",
       "      <th>test</th>\n",
       "      <td>0.912466</td>\n",
       "      <td>0.719586</td>\n",
       "      <td>0.43496</td>\n",
       "      <td>[0.9489772466099747, 0.5051282051282051]</td>\n",
       "      <td>[0.9553447478019436, 0.4701670644391408]</td>\n",
       "    </tr>\n",
       "    <tr>\n",
       "      <th rowspan=\"2\" valign=\"top\">10</th>\n",
       "      <th>train</th>\n",
       "      <td>0.943938</td>\n",
       "      <td>0.828908</td>\n",
       "      <td>0.183182</td>\n",
       "      <td>[0.9868990132269578, 0.5829216654904729]</td>\n",
       "      <td>[0.952116670042536, 0.8411405295315683]</td>\n",
       "    </tr>\n",
       "    <tr>\n",
       "      <th>test</th>\n",
       "      <td>0.91563</td>\n",
       "      <td>0.733596</td>\n",
       "      <td>0.379819</td>\n",
       "      <td>[0.9520516366989396, 0.5235732009925558]</td>\n",
       "      <td>[0.955576122165664, 0.5035799522673031]</td>\n",
       "    </tr>\n",
       "    <tr>\n",
       "      <th rowspan=\"2\" valign=\"top\">11</th>\n",
       "      <th>train</th>\n",
       "      <td>0.950505</td>\n",
       "      <td>0.840155</td>\n",
       "      <td>0.167205</td>\n",
       "      <td>[0.9846511242014436, 0.6268187180495478]</td>\n",
       "      <td>[0.9615556005671461, 0.8116089613034623]</td>\n",
       "    </tr>\n",
       "    <tr>\n",
       "      <th>test</th>\n",
       "      <td>0.840962</td>\n",
       "      <td>0.639284</td>\n",
       "      <td>0.521018</td>\n",
       "      <td>[0.950050454086781, 0.28442728442728443]</td>\n",
       "      <td>[0.8713558537714021, 0.5274463007159904]</td>\n",
       "    </tr>\n",
       "    <tr>\n",
       "      <th rowspan=\"2\" valign=\"top\">12</th>\n",
       "      <th>train</th>\n",
       "      <td>0.9242</td>\n",
       "      <td>0.776527</td>\n",
       "      <td>0.2359</td>\n",
       "      <td>[0.9796419350742794, 0.49073461283917935]</td>\n",
       "      <td>[0.9376544460198502, 0.755091649694501]</td>\n",
       "    </tr>\n",
       "    <tr>\n",
       "      <th>test</th>\n",
       "      <td>0.932926</td>\n",
       "      <td>0.794521</td>\n",
       "      <td>0.33281</td>\n",
       "      <td>[0.9645011600928074, 0.617169373549884]</td>\n",
       "      <td>[0.9618232299861176, 0.6348448687350835]</td>\n",
       "    </tr>\n",
       "    <tr>\n",
       "      <th rowspan=\"2\" valign=\"top\">13</th>\n",
       "      <th>train</th>\n",
       "      <td>0.96529</td>\n",
       "      <td>0.869421</td>\n",
       "      <td>0.167939</td>\n",
       "      <td>[0.9790708928139366, 0.7806591031874662]</td>\n",
       "      <td>[0.9835527648369455, 0.7357433808553971]</td>\n",
       "    </tr>\n",
       "    <tr>\n",
       "      <th>test</th>\n",
       "      <td>0.918583</td>\n",
       "      <td>0.723925</td>\n",
       "      <td>0.438031</td>\n",
       "      <td>[0.9472727272727273, 0.5483870967741935]</td>\n",
       "      <td>[0.9643683479870431, 0.44630071599045346]</td>\n",
       "    </tr>\n",
       "    <tr>\n",
       "      <th rowspan=\"2\" valign=\"top\">14</th>\n",
       "      <th>train</th>\n",
       "      <td>0.966753</td>\n",
       "      <td>0.867621</td>\n",
       "      <td>0.18252</td>\n",
       "      <td>[0.9755044955044955, 0.8318965517241379]</td>\n",
       "      <td>[0.9889406522179461, 0.6878818737270875]</td>\n",
       "    </tr>\n",
       "    <tr>\n",
       "      <th>test</th>\n",
       "      <td>0.933558</td>\n",
       "      <td>0.741699</td>\n",
       "      <td>0.499725</td>\n",
       "      <td>[0.9447280799112098, 0.7203389830508474]</td>\n",
       "      <td>[0.984729291994447, 0.40572792362768495]</td>\n",
       "    </tr>\n",
       "    <tr>\n",
       "      <th rowspan=\"2\" valign=\"top\">15</th>\n",
       "      <th>train</th>\n",
       "      <td>0.968029</td>\n",
       "      <td>0.885385</td>\n",
       "      <td>0.138624</td>\n",
       "      <td>[0.984548448745578, 0.7704280155642024]</td>\n",
       "      <td>[0.9808790763621632, 0.8065173116089613]</td>\n",
       "    </tr>\n",
       "    <tr>\n",
       "      <th>test</th>\n",
       "      <td>0.924278</td>\n",
       "      <td>0.75688</td>\n",
       "      <td>0.380356</td>\n",
       "      <td>[0.9552033080634046, 0.5773195876288659]</td>\n",
       "      <td>[0.962054604349838, 0.5346062052505967]</td>\n",
       "    </tr>\n",
       "    <tr>\n",
       "      <th rowspan=\"2\" valign=\"top\">16</th>\n",
       "      <th>train</th>\n",
       "      <td>0.971331</td>\n",
       "      <td>0.891704</td>\n",
       "      <td>0.141106</td>\n",
       "      <td>[0.9819867015917791, 0.8271537622682661]</td>\n",
       "      <td>[0.987158193234758, 0.7724032586558045]</td>\n",
       "    </tr>\n",
       "    <tr>\n",
       "      <th>test</th>\n",
       "      <td>0.936722</td>\n",
       "      <td>0.773971</td>\n",
       "      <td>0.383102</td>\n",
       "      <td>[0.9527239981990094, 0.6989966555183946]</td>\n",
       "      <td>[0.979176307265155, 0.4988066825775656]</td>\n",
       "    </tr>\n",
       "    <tr>\n",
       "      <th rowspan=\"2\" valign=\"top\">17</th>\n",
       "      <th>train</th>\n",
       "      <td>0.972682</td>\n",
       "      <td>0.894124</td>\n",
       "      <td>0.13829</td>\n",
       "      <td>[0.9806974597696537, 0.8572254335260115]</td>\n",
       "      <td>[0.9899939234352846, 0.755091649694501]</td>\n",
       "    </tr>\n",
       "    <tr>\n",
       "      <th>test</th>\n",
       "      <td>0.934613</td>\n",
       "      <td>0.783974</td>\n",
       "      <td>0.376983</td>\n",
       "      <td>[0.9582000913659205, 0.650137741046832]</td>\n",
       "      <td>[0.9706154558074965, 0.5632458233890215]</td>\n",
       "    </tr>\n",
       "    <tr>\n",
       "      <th rowspan=\"2\" valign=\"top\">18</th>\n",
       "      <th>train</th>\n",
       "      <td>0.963338</td>\n",
       "      <td>0.876921</td>\n",
       "      <td>0.131934</td>\n",
       "      <td>[0.9879394089075492, 0.7095541401273885]</td>\n",
       "      <td>[0.9722908648977112, 0.8508146639511202]</td>\n",
       "    </tr>\n",
       "    <tr>\n",
       "      <th>test</th>\n",
       "      <td>0.918794</td>\n",
       "      <td>0.728867</td>\n",
       "      <td>0.478138</td>\n",
       "      <td>[0.9487121039434694, 0.5480225988700564]</td>\n",
       "      <td>[0.96298010180472, 0.4630071599045346]</td>\n",
       "    </tr>\n",
       "    <tr>\n",
       "      <th rowspan=\"2\" valign=\"top\">19</th>\n",
       "      <th>train</th>\n",
       "      <td>0.970318</td>\n",
       "      <td>0.895193</td>\n",
       "      <td>0.122849</td>\n",
       "      <td>[0.987115713936231, 0.7762600094206312]</td>\n",
       "      <td>[0.980757545067855, 0.8391038696537678]</td>\n",
       "    </tr>\n",
       "    <tr>\n",
       "      <th>test</th>\n",
       "      <td>0.912255</td>\n",
       "      <td>0.742084</td>\n",
       "      <td>0.395623</td>\n",
       "      <td>[0.9573770491803278, 0.5031847133757962]</td>\n",
       "      <td>[0.945858398889403, 0.5656324582338902]</td>\n",
       "    </tr>\n",
       "    <tr>\n",
       "      <th rowspan=\"2\" valign=\"top\">20</th>\n",
       "      <th>train</th>\n",
       "      <td>0.954145</td>\n",
       "      <td>0.854052</td>\n",
       "      <td>0.144967</td>\n",
       "      <td>[0.9881413057046561, 0.6418195718654435]</td>\n",
       "      <td>[0.9620417257443792, 0.854887983706721]</td>\n",
       "    </tr>\n",
       "    <tr>\n",
       "      <th>test</th>\n",
       "      <td>0.899599</td>\n",
       "      <td>0.732524</td>\n",
       "      <td>0.42257</td>\n",
       "      <td>[0.9615938550168027, 0.4504347826086956]</td>\n",
       "      <td>[0.9268857010643221, 0.6181384248210023]</td>\n",
       "    </tr>\n",
       "  </tbody>\n",
       "</table>\n",
       "</div>"
      ],
      "text/plain": [
       "          accuracy        f1       nll  \\\n",
       "1  train  0.936958  0.723321  0.381039   \n",
       "   test    0.93398  0.698448  0.455625   \n",
       "2  train  0.954407  0.788925  0.288283   \n",
       "   test   0.929129  0.696361  0.387364   \n",
       "3  train  0.934519  0.776292   0.26769   \n",
       "   test   0.881881  0.640437  0.470022   \n",
       "4  train  0.880296  0.700706  0.347542   \n",
       "   test   0.739085  0.557308  0.702977   \n",
       "5  train  0.962062  0.851589  0.206908   \n",
       "   test   0.901919  0.672527   0.46011   \n",
       "6  train  0.959811  0.821811  0.263137   \n",
       "   test   0.926809  0.708014   0.44321   \n",
       "7  train  0.924725  0.778395  0.233971   \n",
       "   test   0.908669  0.732888  0.348829   \n",
       "8  train  0.963638  0.842913  0.215154   \n",
       "   test   0.923434  0.733638  0.422452   \n",
       "9  train   0.95527   0.84023  0.191698   \n",
       "   test   0.912466  0.719586   0.43496   \n",
       "10 train  0.943938  0.828908  0.183182   \n",
       "   test    0.91563  0.733596  0.379819   \n",
       "11 train  0.950505  0.840155  0.167205   \n",
       "   test   0.840962  0.639284  0.521018   \n",
       "12 train    0.9242  0.776527    0.2359   \n",
       "   test   0.932926  0.794521   0.33281   \n",
       "13 train   0.96529  0.869421  0.167939   \n",
       "   test   0.918583  0.723925  0.438031   \n",
       "14 train  0.966753  0.867621   0.18252   \n",
       "   test   0.933558  0.741699  0.499725   \n",
       "15 train  0.968029  0.885385  0.138624   \n",
       "   test   0.924278   0.75688  0.380356   \n",
       "16 train  0.971331  0.891704  0.141106   \n",
       "   test   0.936722  0.773971  0.383102   \n",
       "17 train  0.972682  0.894124   0.13829   \n",
       "   test   0.934613  0.783974  0.376983   \n",
       "18 train  0.963338  0.876921  0.131934   \n",
       "   test   0.918794  0.728867  0.478138   \n",
       "19 train  0.970318  0.895193  0.122849   \n",
       "   test   0.912255  0.742084  0.395623   \n",
       "20 train  0.954145  0.854052  0.144967   \n",
       "   test   0.899599  0.732524   0.42257   \n",
       "\n",
       "                                          precision  \\\n",
       "1  train      [0.953193333595997, 0.61198738170347]   \n",
       "   test    [0.9349099587763072, 0.9015151515151515]   \n",
       "2  train   [0.9591158059467919, 0.8438934802571166]   \n",
       "   test    [0.9361050328227571, 0.7426900584795322]   \n",
       "3  train   [0.9705447981621267, 0.5481742190937088]   \n",
       "   test   [0.9370353159851301, 0.33867276887871856]   \n",
       "4  train   [0.9754058477462733, 0.3483424047501237]   \n",
       "   test   [0.9461961238067689, 0.18146417445482865]   \n",
       "5  train    [0.974314794037506, 0.7814530419373893]   \n",
       "   test    [0.9395942557556417, 0.4350282485875706]   \n",
       "6  train    [0.9645498898331759, 0.862124898621249]   \n",
       "   test    [0.9394207384479328, 0.6651376146788991]   \n",
       "7  train  [0.9801007663321902, 0.49306930693069306]   \n",
       "   test    [0.9559202813599063, 0.4852941176470588]   \n",
       "8  train   [0.9682144831398563, 0.8760393046107332]   \n",
       "   test                [0.9477493779687853, 0.5875]   \n",
       "9  train   [0.9779468608861944, 0.6862934362934363]   \n",
       "   test    [0.9489772466099747, 0.5051282051282051]   \n",
       "10 train   [0.9868990132269578, 0.5829216654904729]   \n",
       "   test    [0.9520516366989396, 0.5235732009925558]   \n",
       "11 train   [0.9846511242014436, 0.6268187180495478]   \n",
       "   test    [0.950050454086781, 0.28442728442728443]   \n",
       "12 train  [0.9796419350742794, 0.49073461283917935]   \n",
       "   test     [0.9645011600928074, 0.617169373549884]   \n",
       "13 train   [0.9790708928139366, 0.7806591031874662]   \n",
       "   test    [0.9472727272727273, 0.5483870967741935]   \n",
       "14 train   [0.9755044955044955, 0.8318965517241379]   \n",
       "   test    [0.9447280799112098, 0.7203389830508474]   \n",
       "15 train    [0.984548448745578, 0.7704280155642024]   \n",
       "   test    [0.9552033080634046, 0.5773195876288659]   \n",
       "16 train   [0.9819867015917791, 0.8271537622682661]   \n",
       "   test    [0.9527239981990094, 0.6989966555183946]   \n",
       "17 train   [0.9806974597696537, 0.8572254335260115]   \n",
       "   test     [0.9582000913659205, 0.650137741046832]   \n",
       "18 train   [0.9879394089075492, 0.7095541401273885]   \n",
       "   test    [0.9487121039434694, 0.5480225988700564]   \n",
       "19 train    [0.987115713936231, 0.7762600094206312]   \n",
       "   test    [0.9573770491803278, 0.5031847133757962]   \n",
       "20 train   [0.9881413057046561, 0.6418195718654435]   \n",
       "   test    [0.9615938550168027, 0.4504347826086956]   \n",
       "\n",
       "                                             recall  \n",
       "1  train    [0.9800688677334414, 0.395112016293279]  \n",
       "   test    [0.9969921332716335, 0.2840095465393795]  \n",
       "2  train   [0.9931132266558639, 0.4679226069246436]  \n",
       "   test     [0.989819527996298, 0.3031026252983294]  \n",
       "3  train   [0.9583957869151306, 0.6344195519348269]  \n",
       "   test    [0.9331328088847756, 0.3532219570405728]  \n",
       "4  train   [0.8932955235973263, 0.7169042769857433]  \n",
       "   test    [0.7568255437297547, 0.5560859188544153]  \n",
       "5  train   [0.9850111403686449, 0.6736252545824847]  \n",
       "   test   [0.9537251272559001, 0.36754176610978523]  \n",
       "6  train   [0.9931132266558639, 0.5412423625254582]  \n",
       "   test    [0.9831096714484036, 0.3460620525059666]  \n",
       "7  train   [0.9377759773141584, 0.7606924643584522]  \n",
       "   test    [0.9433132808884775, 0.5513126491646778]  \n",
       "8  train    [0.9933562892444805, 0.590122199592668]  \n",
       "   test    [0.9694585839888941, 0.4486873508353222]  \n",
       "9  train   [0.9736682195665384, 0.7240325865580448]  \n",
       "   test    [0.9553447478019436, 0.4701670644391408]  \n",
       "10 train    [0.952116670042536, 0.8411405295315683]  \n",
       "   test     [0.955576122165664, 0.5035799522673031]  \n",
       "11 train   [0.9615556005671461, 0.8116089613034623]  \n",
       "   test    [0.8713558537714021, 0.5274463007159904]  \n",
       "12 train    [0.9376544460198502, 0.755091649694501]  \n",
       "   test    [0.9618232299861176, 0.6348448687350835]  \n",
       "13 train   [0.9835527648369455, 0.7357433808553971]  \n",
       "   test   [0.9643683479870431, 0.44630071599045346]  \n",
       "14 train   [0.9889406522179461, 0.6878818737270875]  \n",
       "   test    [0.984729291994447, 0.40572792362768495]  \n",
       "15 train   [0.9808790763621632, 0.8065173116089613]  \n",
       "   test     [0.962054604349838, 0.5346062052505967]  \n",
       "16 train    [0.987158193234758, 0.7724032586558045]  \n",
       "   test     [0.979176307265155, 0.4988066825775656]  \n",
       "17 train    [0.9899939234352846, 0.755091649694501]  \n",
       "   test    [0.9706154558074965, 0.5632458233890215]  \n",
       "18 train   [0.9722908648977112, 0.8508146639511202]  \n",
       "   test      [0.96298010180472, 0.4630071599045346]  \n",
       "19 train    [0.980757545067855, 0.8391038696537678]  \n",
       "   test     [0.945858398889403, 0.5656324582338902]  \n",
       "20 train    [0.9620417257443792, 0.854887983706721]  \n",
       "   test    [0.9268857010643221, 0.6181384248210023]  "
      ]
     },
     "execution_count": 16,
     "metadata": {},
     "output_type": "execute_result"
    }
   ],
   "source": [
    "import pandas as pd\n",
    "reform = {(outerKey, innerKey): values for outerKey, innerDict in trainer.epoch_state.items() for innerKey, values in innerDict.items()}\n",
    "df = pd.DataFrame(reform).T\n",
    "df"
   ]
  },
  {
   "cell_type": "code",
   "execution_count": null,
   "metadata": {
    "collapsed": true
   },
   "outputs": [],
   "source": []
  }
 ],
 "metadata": {
  "kernelspec": {
   "display_name": "Insight",
   "language": "python",
   "name": "python3"
  },
  "language_info": {
   "codemirror_mode": {
    "name": "ipython",
    "version": 3
   },
   "file_extension": ".py",
   "mimetype": "text/x-python",
   "name": "python",
   "nbconvert_exporter": "python",
   "pygments_lexer": "ipython3",
   "version": "3.7.3"
  }
 },
 "nbformat": 4,
 "nbformat_minor": 2
}
