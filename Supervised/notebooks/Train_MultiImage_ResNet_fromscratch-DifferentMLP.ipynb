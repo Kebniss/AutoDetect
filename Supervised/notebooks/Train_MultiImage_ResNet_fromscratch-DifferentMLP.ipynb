{
 "cells": [
  {
   "cell_type": "code",
   "execution_count": 1,
   "metadata": {
    "collapsed": true
   },
   "outputs": [],
   "source": [
    "import torch\n",
    "from torch import nn\n",
    "\n",
    "import torchvision\n",
    "from torchvision.datasets import ImageFolder\n",
    "\n",
    "from torchvision import transforms\n",
    "\n",
    "from torch.utils.data import DataLoader\n",
    "from pathlib import Path\n",
    "from torchvision.models import resnet101"
   ]
  },
  {
   "cell_type": "code",
   "execution_count": 2,
   "metadata": {
    "collapsed": true
   },
   "outputs": [],
   "source": [
    "import sys\n",
    "sys.path.append(\"..\")"
   ]
  },
  {
   "cell_type": "code",
   "execution_count": 3,
   "metadata": {
    "collapsed": true
   },
   "outputs": [],
   "source": [
    "from video_classification.datasets import FolderOfFrameFoldersDataset, FrameWindowDataset"
   ]
  },
  {
   "cell_type": "code",
   "execution_count": 4,
   "metadata": {
    "collapsed": true
   },
   "outputs": [],
   "source": [
    "device = torch.device(\"cuda\" if torch.cuda.is_available() else \"cpu\")"
   ]
  },
  {
   "cell_type": "code",
   "execution_count": 5,
   "metadata": {
    "collapsed": true
   },
   "outputs": [],
   "source": [
    "ROOT = Path(\"/home/ubuntu/SupervisedVideoClassification\")\n",
    "DATA_ROOT = Path(ROOT/\"data\")"
   ]
  },
  {
   "cell_type": "code",
   "execution_count": 6,
   "metadata": {
    "collapsed": true
   },
   "outputs": [],
   "source": [
    "train_transforms = transforms.Compose([\n",
    "    transforms.ColorJitter(),\n",
    "    transforms.RandomHorizontalFlip(p=0.25),\n",
    "    transforms.RandomVerticalFlip(p=0.25),\n",
    "    transforms.ToTensor(),\n",
    "    transforms.Normalize(mean=[0.485, 0.456, 0.406],std=[0.229, 0.224, 0.225]),\n",
    "])\n",
    "\n",
    "valid_transforms = transforms.Compose([\n",
    "    transforms.ToTensor(),\n",
    "    transforms.Normalize(mean=[0.485, 0.456, 0.406],std=[0.229, 0.224, 0.225]),\n",
    "])"
   ]
  },
  {
   "cell_type": "code",
   "execution_count": 7,
   "metadata": {
    "collapsed": true
   },
   "outputs": [],
   "source": [
    "train_ds = FolderOfFrameFoldersDataset(DATA_ROOT/'train', \n",
    "                                       transform=train_transforms, \n",
    "                                       base_class=FrameWindowDataset,\n",
    "                                       window_size=3,\n",
    "                                       overlapping=True,)\n",
    "valid_ds = FolderOfFrameFoldersDataset(DATA_ROOT/'validation', \n",
    "                                       transform=valid_transforms, \n",
    "                                       base_class=FrameWindowDataset,\n",
    "                                       window_size=3,\n",
    "                                       overlapping=True,)"
   ]
  },
  {
   "cell_type": "code",
   "execution_count": 8,
   "metadata": {
    "collapsed": true
   },
   "outputs": [],
   "source": [
    "from torch import nn\n",
    "from torchvision.models import resnet101\n",
    "from video_classification.models.mlp import MLP\n",
    "\n",
    "\n",
    "class SingleImageResNetModel(nn.Module):\n",
    "    def __init__(self, mlp_sizes=[768, 128, 2]):\n",
    "        super().__init__()\n",
    "        resnet = resnet101(pretrained=True)\n",
    "        modules = list(resnet.children())[:-1]\n",
    "        self.resnet = nn.Sequential(*modules)\n",
    "\n",
    "        self.clf = MLP(2048, mlp_sizes)\n",
    "        self.freeze_resnet()\n",
    "\n",
    "    def forward(self, x):\n",
    "        x = self.resnet(x).squeeze()\n",
    "        x = self.clf(x)\n",
    "        return x\n",
    "\n",
    "    def freeze_resnet(self):\n",
    "        for p in self.resnet.parameters():\n",
    "            p.requires_grad = False\n",
    "\n",
    "    def unfreeze_resnet(self):\n",
    "        for p in self.resnet.parameters():\n",
    "            p.requires_grad = True\n"
   ]
  },
  {
   "cell_type": "code",
   "execution_count": 9,
   "metadata": {
    "collapsed": true
   },
   "outputs": [],
   "source": [
    "import torch\n",
    "from torch import nn\n",
    "from video_classification.models.mlp import MLP\n",
    "\n",
    "\n",
    "class MultiImageModel(nn.Module):\n",
    "    def __init__(self,\n",
    "                 window_size=3,\n",
    "                 single_mlp_sizes=[768, 128],\n",
    "                 joint_mlp_sizes=[64, 2]):\n",
    "        super().__init__()\n",
    "        self.window_size = window_size\n",
    "        self.single_mlp_sizes = single_mlp_sizes\n",
    "        self.joint_mlp_sizes = joint_mlp_sizes\n",
    "        \n",
    "        self.single_image_models = nn.ModuleList([SingleImageResNetModel(self.single_mlp_sizes) for _ in range(window_size)])\n",
    "        self.in_features = self.single_mlp_sizes[-1] * self.window_size\n",
    "        self.clf = MLP(self.in_features, joint_mlp_sizes)\n",
    "\n",
    "    def forward(self, x):\n",
    "        # x is of size [B, T, C, H, W]. In other words, a batch of windows.\n",
    "        # each img for the same window goes through SingleImageModel\n",
    "        x = x.transpose(0, 1)  # -> [T, B, C, H, W]\n",
    "        encoded_windows = [m(window) for m, window in zip(self.single_image_models, x)]  # List of len T, each elem of size [B, single_mlp_sizes[-1]]\n",
    "        x = torch.cat(encoded_windows, dim=1)\n",
    "        # x is now of size [B, T * single_mlp_sizes[-1]]\n",
    "        \n",
    "        x = self.clf(x)\n",
    "        # Now size is [B, joint_mlp_sizes[-1]] which should always be 2\n",
    "\n",
    "        return x\n",
    "    \n",
    "    def freeze_single_image_model(self):\n",
    "        # Freeze the VGG classifier\n",
    "        for p in self.single_image_model.parameters():\n",
    "            p.requires_grad = False\n",
    "            \n",
    "    def unfreeze_single_image_model(self):\n",
    "        # Unfreeze the VGG classifier. Training the whole VGG is a no-go, so we only train the classifier part.\n",
    "        for p in self.single_image_model.clf.parameters():\n",
    "            p.requires_grad = True "
   ]
  },
  {
   "cell_type": "code",
   "execution_count": 10,
   "metadata": {
    "collapsed": true
   },
   "outputs": [],
   "source": [
    "model = MultiImageModel(\n",
    "                 window_size=3,\n",
    "                 single_mlp_sizes=[1024, 256],\n",
    "                 joint_mlp_sizes=[128, 2])\n",
    "\n",
    "model = model.to(device)"
   ]
  },
  {
   "cell_type": "code",
   "execution_count": 11,
   "metadata": {
    "collapsed": true
   },
   "outputs": [],
   "source": [
    "x = torch.stack([train_ds[0][0], train_ds[1][0], train_ds[2][0], train_ds[3][0]]).to(device)"
   ]
  },
  {
   "cell_type": "code",
   "execution_count": 12,
   "metadata": {},
   "outputs": [
    {
     "data": {
      "text/plain": [
       "tensor([[ 1.0122,  0.4045],\n",
       "        [ 0.1436, -0.0671],\n",
       "        [ 0.1872, -0.1722],\n",
       "        [-1.1248,  0.1971]], device='cuda:0', grad_fn=<AddmmBackward>)"
      ]
     },
     "execution_count": 12,
     "metadata": {},
     "output_type": "execute_result"
    }
   ],
   "source": [
    "model(x)"
   ]
  },
  {
   "cell_type": "code",
   "execution_count": 13,
   "metadata": {
    "collapsed": true
   },
   "outputs": [],
   "source": [
    "from video_classification.trainer import Trainer\n",
    "\n",
    "classes_weights = torch.Tensor([0.3, 1.0]).to(device)\n",
    "criterion = nn.CrossEntropyLoss(weight=classes_weights)"
   ]
  },
  {
   "cell_type": "code",
   "execution_count": 14,
   "metadata": {},
   "outputs": [
    {
     "name": "stdout",
     "output_type": "stream",
     "text": [
      "Selected optimization level O1:  Insert automatic casts around Pytorch functions and Tensor methods.\n",
      "\n",
      "Defaults for this optimization level are:\n",
      "enabled                : True\n",
      "opt_level              : O1\n",
      "cast_model_type        : None\n",
      "patch_torch_functions  : True\n",
      "keep_batchnorm_fp32    : None\n",
      "master_weights         : None\n",
      "loss_scale             : dynamic\n",
      "Processing user overrides (additional kwargs that are not None)...\n",
      "After processing overrides, optimization options are:\n",
      "enabled                : True\n",
      "opt_level              : O1\n",
      "cast_model_type        : None\n",
      "patch_torch_functions  : True\n",
      "keep_batchnorm_fp32    : None\n",
      "master_weights         : None\n",
      "loss_scale             : dynamic\n"
     ]
    }
   ],
   "source": [
    "trainer = Trainer(train_ds, \n",
    "                  valid_ds, \n",
    "                  model, \n",
    "                  criterion,\n",
    "                  \"multi_frame_resnet101_differentMLP\",\n",
    "                  str(ROOT/'checkpoints'),\n",
    "                  device=device,\n",
    "                  amp_opt_level=\"O1\",\n",
    "                  cycle_mult=0.9,\n",
    "                 )"
   ]
  },
  {
   "cell_type": "code",
   "execution_count": 15,
   "metadata": {},
   "outputs": [
    {
     "name": "stderr",
     "output_type": "stream",
     "text": [
      "/home/ubuntu/anaconda3/envs/pytorch_p36/lib/python3.6/site-packages/tqdm/autonotebook/__init__.py:14: TqdmExperimentalWarning: Using `tqdm.autonotebook.tqdm` in notebook mode. Use `tqdm.tqdm` instead to force console mode (e.g. in jupyter console)\n",
      "  \" (e.g. in jupyter console)\", TqdmExperimentalWarning)\n"
     ]
    }
   ],
   "source": [
    "from tqdm.autonotebook import tqdm"
   ]
  },
  {
   "cell_type": "code",
   "execution_count": 16,
   "metadata": {},
   "outputs": [
    {
     "data": {
      "application/vnd.jupyter.widget-view+json": {
       "model_id": "",
       "version_major": 2,
       "version_minor": 0
      },
      "text/plain": [
       "HBox(children=(IntProgress(value=0, max=209), HTML(value='')))"
      ]
     },
     "metadata": {},
     "output_type": "display_data"
    },
    {
     "name": "stdout",
     "output_type": "stream",
     "text": [
      "Validation Results - Epoch: 1: Avg accuracy: 0.62 |Precision: 0.15 |Recall: 0.74 | F1: 0.25 | Avg loss: 0.77\n"
     ]
    },
    {
     "data": {
      "application/vnd.jupyter.widget-view+json": {
       "model_id": "",
       "version_major": 2,
       "version_minor": 0
      },
      "text/plain": [
       "HBox(children=(IntProgress(value=0, max=209), HTML(value='')))"
      ]
     },
     "metadata": {},
     "output_type": "display_data"
    },
    {
     "name": "stdout",
     "output_type": "stream",
     "text": [
      "Validation Results - Epoch: 2: Avg accuracy: 0.76 |Precision: 0.19 |Recall: 0.53 | F1: 0.28 | Avg loss: 0.55\n"
     ]
    },
    {
     "data": {
      "application/vnd.jupyter.widget-view+json": {
       "model_id": "",
       "version_major": 2,
       "version_minor": 0
      },
      "text/plain": [
       "HBox(children=(IntProgress(value=0, max=209), HTML(value='')))"
      ]
     },
     "metadata": {},
     "output_type": "display_data"
    },
    {
     "name": "stdout",
     "output_type": "stream",
     "text": [
      "Validation Results - Epoch: 3: Avg accuracy: 0.89 |Precision: 0.36 |Recall: 0.32 | F1: 0.34 | Avg loss: 0.43\n"
     ]
    },
    {
     "data": {
      "application/vnd.jupyter.widget-view+json": {
       "model_id": "",
       "version_major": 2,
       "version_minor": 0
      },
      "text/plain": [
       "HBox(children=(IntProgress(value=0, max=209), HTML(value='')))"
      ]
     },
     "metadata": {},
     "output_type": "display_data"
    },
    {
     "name": "stdout",
     "output_type": "stream",
     "text": [
      "Validation Results - Epoch: 4: Avg accuracy: 0.93 |Precision: 0.67 |Recall: 0.34 | F1: 0.45 | Avg loss: 0.39\n"
     ]
    },
    {
     "data": {
      "application/vnd.jupyter.widget-view+json": {
       "model_id": "",
       "version_major": 2,
       "version_minor": 0
      },
      "text/plain": [
       "HBox(children=(IntProgress(value=0, max=209), HTML(value='')))"
      ]
     },
     "metadata": {},
     "output_type": "display_data"
    },
    {
     "name": "stdout",
     "output_type": "stream",
     "text": [
      "Validation Results - Epoch: 5: Avg accuracy: 0.92 |Precision: 0.55 |Recall: 0.37 | F1: 0.44 | Avg loss: 0.42\n"
     ]
    },
    {
     "data": {
      "application/vnd.jupyter.widget-view+json": {
       "model_id": "",
       "version_major": 2,
       "version_minor": 0
      },
      "text/plain": [
       "HBox(children=(IntProgress(value=0, max=209), HTML(value='')))"
      ]
     },
     "metadata": {},
     "output_type": "display_data"
    },
    {
     "name": "stdout",
     "output_type": "stream",
     "text": [
      "Validation Results - Epoch: 6: Avg accuracy: 0.67 |Precision: 0.15 |Recall: 0.58 | F1: 0.24 | Avg loss: 0.67\n"
     ]
    },
    {
     "data": {
      "application/vnd.jupyter.widget-view+json": {
       "model_id": "",
       "version_major": 2,
       "version_minor": 0
      },
      "text/plain": [
       "HBox(children=(IntProgress(value=0, max=209), HTML(value='')))"
      ]
     },
     "metadata": {},
     "output_type": "display_data"
    },
    {
     "name": "stdout",
     "output_type": "stream",
     "text": [
      "Validation Results - Epoch: 7: Avg accuracy: 0.90 |Precision: 0.47 |Recall: 0.59 | F1: 0.52 | Avg loss: 0.36\n"
     ]
    },
    {
     "data": {
      "application/vnd.jupyter.widget-view+json": {
       "model_id": "",
       "version_major": 2,
       "version_minor": 0
      },
      "text/plain": [
       "HBox(children=(IntProgress(value=0, max=209), HTML(value='')))"
      ]
     },
     "metadata": {},
     "output_type": "display_data"
    },
    {
     "name": "stdout",
     "output_type": "stream",
     "text": [
      "Validation Results - Epoch: 8: Avg accuracy: 0.90 |Precision: 0.44 |Recall: 0.38 | F1: 0.41 | Avg loss: 0.51\n"
     ]
    },
    {
     "data": {
      "application/vnd.jupyter.widget-view+json": {
       "model_id": "",
       "version_major": 2,
       "version_minor": 0
      },
      "text/plain": [
       "HBox(children=(IntProgress(value=0, max=209), HTML(value='')))"
      ]
     },
     "metadata": {},
     "output_type": "display_data"
    },
    {
     "name": "stdout",
     "output_type": "stream",
     "text": [
      "Validation Results - Epoch: 9: Avg accuracy: 0.92 |Precision: 0.54 |Recall: 0.40 | F1: 0.46 | Avg loss: 0.45\n"
     ]
    },
    {
     "data": {
      "application/vnd.jupyter.widget-view+json": {
       "model_id": "",
       "version_major": 2,
       "version_minor": 0
      },
      "text/plain": [
       "HBox(children=(IntProgress(value=0, max=209), HTML(value='')))"
      ]
     },
     "metadata": {},
     "output_type": "display_data"
    },
    {
     "name": "stdout",
     "output_type": "stream",
     "text": [
      "Validation Results - Epoch: 10: Avg accuracy: 0.94 |Precision: 0.87 |Recall: 0.31 | F1: 0.46 | Avg loss: 0.54\n"
     ]
    },
    {
     "data": {
      "application/vnd.jupyter.widget-view+json": {
       "model_id": "",
       "version_major": 2,
       "version_minor": 0
      },
      "text/plain": [
       "HBox(children=(IntProgress(value=0, max=209), HTML(value='')))"
      ]
     },
     "metadata": {},
     "output_type": "display_data"
    },
    {
     "name": "stdout",
     "output_type": "stream",
     "text": [
      "Validation Results - Epoch: 11: Avg accuracy: 0.83 |Precision: 0.28 |Recall: 0.59 | F1: 0.38 | Avg loss: 0.48\n"
     ]
    },
    {
     "data": {
      "application/vnd.jupyter.widget-view+json": {
       "model_id": "",
       "version_major": 2,
       "version_minor": 0
      },
      "text/plain": [
       "HBox(children=(IntProgress(value=0, max=209), HTML(value='')))"
      ]
     },
     "metadata": {},
     "output_type": "display_data"
    },
    {
     "name": "stdout",
     "output_type": "stream",
     "text": [
      "Validation Results - Epoch: 12: Avg accuracy: 0.93 |Precision: 0.67 |Recall: 0.40 | F1: 0.50 | Avg loss: 0.49\n"
     ]
    },
    {
     "data": {
      "application/vnd.jupyter.widget-view+json": {
       "model_id": "",
       "version_major": 2,
       "version_minor": 0
      },
      "text/plain": [
       "HBox(children=(IntProgress(value=0, max=209), HTML(value='')))"
      ]
     },
     "metadata": {},
     "output_type": "display_data"
    },
    {
     "name": "stdout",
     "output_type": "stream",
     "text": [
      "Validation Results - Epoch: 13: Avg accuracy: 0.93 |Precision: 0.65 |Recall: 0.41 | F1: 0.50 | Avg loss: 0.46\n"
     ]
    },
    {
     "data": {
      "application/vnd.jupyter.widget-view+json": {
       "model_id": "",
       "version_major": 2,
       "version_minor": 0
      },
      "text/plain": [
       "HBox(children=(IntProgress(value=0, max=209), HTML(value='')))"
      ]
     },
     "metadata": {},
     "output_type": "display_data"
    },
    {
     "name": "stdout",
     "output_type": "stream",
     "text": [
      "Validation Results - Epoch: 14: Avg accuracy: 0.93 |Precision: 0.63 |Recall: 0.53 | F1: 0.58 | Avg loss: 0.39\n"
     ]
    },
    {
     "data": {
      "application/vnd.jupyter.widget-view+json": {
       "model_id": "",
       "version_major": 2,
       "version_minor": 0
      },
      "text/plain": [
       "HBox(children=(IntProgress(value=0, max=209), HTML(value='')))"
      ]
     },
     "metadata": {},
     "output_type": "display_data"
    },
    {
     "name": "stdout",
     "output_type": "stream",
     "text": [
      "Validation Results - Epoch: 15: Avg accuracy: 0.87 |Precision: 0.33 |Recall: 0.47 | F1: 0.39 | Avg loss: 0.55\n"
     ]
    },
    {
     "data": {
      "application/vnd.jupyter.widget-view+json": {
       "model_id": "",
       "version_major": 2,
       "version_minor": 0
      },
      "text/plain": [
       "HBox(children=(IntProgress(value=0, max=209), HTML(value='')))"
      ]
     },
     "metadata": {},
     "output_type": "display_data"
    },
    {
     "name": "stdout",
     "output_type": "stream",
     "text": [
      "Validation Results - Epoch: 16: Avg accuracy: 0.94 |Precision: 0.74 |Recall: 0.47 | F1: 0.57 | Avg loss: 0.42\n"
     ]
    },
    {
     "data": {
      "application/vnd.jupyter.widget-view+json": {
       "model_id": "",
       "version_major": 2,
       "version_minor": 0
      },
      "text/plain": [
       "HBox(children=(IntProgress(value=0, max=209), HTML(value='')))"
      ]
     },
     "metadata": {},
     "output_type": "display_data"
    },
    {
     "name": "stdout",
     "output_type": "stream",
     "text": [
      "Validation Results - Epoch: 17: Avg accuracy: 0.93 |Precision: 0.61 |Recall: 0.52 | F1: 0.56 | Avg loss: 0.39\n"
     ]
    },
    {
     "data": {
      "application/vnd.jupyter.widget-view+json": {
       "model_id": "",
       "version_major": 2,
       "version_minor": 0
      },
      "text/plain": [
       "HBox(children=(IntProgress(value=0, max=209), HTML(value='')))"
      ]
     },
     "metadata": {},
     "output_type": "display_data"
    },
    {
     "name": "stdout",
     "output_type": "stream",
     "text": [
      "Validation Results - Epoch: 18: Avg accuracy: 0.94 |Precision: 0.67 |Recall: 0.52 | F1: 0.58 | Avg loss: 0.41\n"
     ]
    },
    {
     "data": {
      "application/vnd.jupyter.widget-view+json": {
       "model_id": "",
       "version_major": 2,
       "version_minor": 0
      },
      "text/plain": [
       "HBox(children=(IntProgress(value=0, max=209), HTML(value='')))"
      ]
     },
     "metadata": {},
     "output_type": "display_data"
    },
    {
     "name": "stdout",
     "output_type": "stream",
     "text": [
      "Validation Results - Epoch: 19: Avg accuracy: 0.91 |Precision: 0.49 |Recall: 0.47 | F1: 0.48 | Avg loss: 0.49\n"
     ]
    },
    {
     "data": {
      "application/vnd.jupyter.widget-view+json": {
       "model_id": "",
       "version_major": 2,
       "version_minor": 0
      },
      "text/plain": [
       "HBox(children=(IntProgress(value=0, max=209), HTML(value='')))"
      ]
     },
     "metadata": {},
     "output_type": "display_data"
    },
    {
     "name": "stdout",
     "output_type": "stream",
     "text": [
      "Validation Results - Epoch: 20: Avg accuracy: 0.93 |Precision: 0.69 |Recall: 0.42 | F1: 0.52 | Avg loss: 0.48\n"
     ]
    },
    {
     "data": {
      "application/vnd.jupyter.widget-view+json": {
       "model_id": "",
       "version_major": 2,
       "version_minor": 0
      },
      "text/plain": [
       "HBox(children=(IntProgress(value=0, max=209), HTML(value='')))"
      ]
     },
     "metadata": {},
     "output_type": "display_data"
    },
    {
     "name": "stdout",
     "output_type": "stream",
     "text": [
      "Validation Results - Epoch: 21: Avg accuracy: 0.92 |Precision: 0.60 |Recall: 0.46 | F1: 0.52 | Avg loss: 0.50\n"
     ]
    },
    {
     "data": {
      "application/vnd.jupyter.widget-view+json": {
       "model_id": "",
       "version_major": 2,
       "version_minor": 0
      },
      "text/plain": [
       "HBox(children=(IntProgress(value=0, max=209), HTML(value='')))"
      ]
     },
     "metadata": {},
     "output_type": "display_data"
    },
    {
     "name": "stdout",
     "output_type": "stream",
     "text": [
      "Validation Results - Epoch: 22: Avg accuracy: 0.94 |Precision: 0.72 |Recall: 0.50 | F1: 0.59 | Avg loss: 0.41\n"
     ]
    },
    {
     "data": {
      "application/vnd.jupyter.widget-view+json": {
       "model_id": "",
       "version_major": 2,
       "version_minor": 0
      },
      "text/plain": [
       "HBox(children=(IntProgress(value=0, max=209), HTML(value='')))"
      ]
     },
     "metadata": {},
     "output_type": "display_data"
    },
    {
     "name": "stdout",
     "output_type": "stream",
     "text": [
      "Validation Results - Epoch: 23: Avg accuracy: 0.93 |Precision: 0.70 |Recall: 0.42 | F1: 0.53 | Avg loss: 0.51\n"
     ]
    },
    {
     "data": {
      "application/vnd.jupyter.widget-view+json": {
       "model_id": "",
       "version_major": 2,
       "version_minor": 0
      },
      "text/plain": [
       "HBox(children=(IntProgress(value=0, max=209), HTML(value='')))"
      ]
     },
     "metadata": {},
     "output_type": "display_data"
    },
    {
     "name": "stdout",
     "output_type": "stream",
     "text": [
      "Validation Results - Epoch: 24: Avg accuracy: 0.93 |Precision: 0.71 |Recall: 0.40 | F1: 0.51 | Avg loss: 0.53\n"
     ]
    },
    {
     "data": {
      "application/vnd.jupyter.widget-view+json": {
       "model_id": "",
       "version_major": 2,
       "version_minor": 0
      },
      "text/plain": [
       "HBox(children=(IntProgress(value=0, max=209), HTML(value='')))"
      ]
     },
     "metadata": {},
     "output_type": "display_data"
    },
    {
     "name": "stdout",
     "output_type": "stream",
     "text": [
      "Validation Results - Epoch: 25: Avg accuracy: 0.93 |Precision: 0.71 |Recall: 0.39 | F1: 0.51 | Avg loss: 0.53\n"
     ]
    },
    {
     "data": {
      "application/vnd.jupyter.widget-view+json": {
       "model_id": "",
       "version_major": 2,
       "version_minor": 0
      },
      "text/plain": [
       "HBox(children=(IntProgress(value=0, max=209), HTML(value='')))"
      ]
     },
     "metadata": {},
     "output_type": "display_data"
    },
    {
     "name": "stdout",
     "output_type": "stream",
     "text": [
      "Validation Results - Epoch: 26: Avg accuracy: 0.92 |Precision: 0.59 |Recall: 0.46 | F1: 0.52 | Avg loss: 0.50\n"
     ]
    },
    {
     "data": {
      "application/vnd.jupyter.widget-view+json": {
       "model_id": "",
       "version_major": 2,
       "version_minor": 0
      },
      "text/plain": [
       "HBox(children=(IntProgress(value=0, max=209), HTML(value='')))"
      ]
     },
     "metadata": {},
     "output_type": "display_data"
    },
    {
     "name": "stdout",
     "output_type": "stream",
     "text": [
      "Validation Results - Epoch: 27: Avg accuracy: 0.93 |Precision: 0.66 |Recall: 0.43 | F1: 0.52 | Avg loss: 0.51\n"
     ]
    },
    {
     "data": {
      "application/vnd.jupyter.widget-view+json": {
       "model_id": "",
       "version_major": 2,
       "version_minor": 0
      },
      "text/plain": [
       "HBox(children=(IntProgress(value=0, max=209), HTML(value='')))"
      ]
     },
     "metadata": {},
     "output_type": "display_data"
    },
    {
     "name": "stdout",
     "output_type": "stream",
     "text": [
      "Validation Results - Epoch: 28: Avg accuracy: 0.93 |Precision: 0.62 |Recall: 0.45 | F1: 0.52 | Avg loss: 0.48\n"
     ]
    },
    {
     "data": {
      "application/vnd.jupyter.widget-view+json": {
       "model_id": "",
       "version_major": 2,
       "version_minor": 0
      },
      "text/plain": [
       "HBox(children=(IntProgress(value=0, max=209), HTML(value='')))"
      ]
     },
     "metadata": {},
     "output_type": "display_data"
    },
    {
     "name": "stdout",
     "output_type": "stream",
     "text": [
      "Validation Results - Epoch: 29: Avg accuracy: 0.94 |Precision: 0.71 |Recall: 0.46 | F1: 0.56 | Avg loss: 0.49\n"
     ]
    },
    {
     "data": {
      "application/vnd.jupyter.widget-view+json": {
       "model_id": "",
       "version_major": 2,
       "version_minor": 0
      },
      "text/plain": [
       "HBox(children=(IntProgress(value=0, max=209), HTML(value='')))"
      ]
     },
     "metadata": {},
     "output_type": "display_data"
    },
    {
     "name": "stdout",
     "output_type": "stream",
     "text": [
      "Gradient overflow.  Skipping step, loss scaler 0 reducing loss scale to 262144.0\n",
      "Validation Results - Epoch: 30: Avg accuracy: 0.93 |Precision: 0.69 |Recall: 0.40 | F1: 0.51 | Avg loss: 0.57\n"
     ]
    },
    {
     "data": {
      "application/vnd.jupyter.widget-view+json": {
       "model_id": "",
       "version_major": 2,
       "version_minor": 0
      },
      "text/plain": [
       "HBox(children=(IntProgress(value=0, max=209), HTML(value='')))"
      ]
     },
     "metadata": {},
     "output_type": "display_data"
    },
    {
     "name": "stdout",
     "output_type": "stream",
     "text": [
      "Validation Results - Epoch: 31: Avg accuracy: 0.93 |Precision: 0.65 |Recall: 0.44 | F1: 0.52 | Avg loss: 0.51\n"
     ]
    },
    {
     "data": {
      "application/vnd.jupyter.widget-view+json": {
       "model_id": "",
       "version_major": 2,
       "version_minor": 0
      },
      "text/plain": [
       "HBox(children=(IntProgress(value=0, max=209), HTML(value='')))"
      ]
     },
     "metadata": {},
     "output_type": "display_data"
    },
    {
     "name": "stdout",
     "output_type": "stream",
     "text": [
      "Validation Results - Epoch: 32: Avg accuracy: 0.93 |Precision: 0.69 |Recall: 0.42 | F1: 0.53 | Avg loss: 0.53\n"
     ]
    },
    {
     "data": {
      "application/vnd.jupyter.widget-view+json": {
       "model_id": "",
       "version_major": 2,
       "version_minor": 0
      },
      "text/plain": [
       "HBox(children=(IntProgress(value=0, max=209), HTML(value='')))"
      ]
     },
     "metadata": {},
     "output_type": "display_data"
    },
    {
     "name": "stdout",
     "output_type": "stream",
     "text": [
      "Validation Results - Epoch: 33: Avg accuracy: 0.93 |Precision: 0.64 |Recall: 0.46 | F1: 0.53 | Avg loss: 0.49\n"
     ]
    },
    {
     "data": {
      "application/vnd.jupyter.widget-view+json": {
       "model_id": "",
       "version_major": 2,
       "version_minor": 0
      },
      "text/plain": [
       "HBox(children=(IntProgress(value=0, max=209), HTML(value='')))"
      ]
     },
     "metadata": {},
     "output_type": "display_data"
    },
    {
     "name": "stdout",
     "output_type": "stream",
     "text": [
      "Validation Results - Epoch: 34: Avg accuracy: 0.93 |Precision: 0.68 |Recall: 0.42 | F1: 0.52 | Avg loss: 0.51\n"
     ]
    },
    {
     "data": {
      "application/vnd.jupyter.widget-view+json": {
       "model_id": "",
       "version_major": 2,
       "version_minor": 0
      },
      "text/plain": [
       "HBox(children=(IntProgress(value=0, max=209), HTML(value='')))"
      ]
     },
     "metadata": {},
     "output_type": "display_data"
    },
    {
     "name": "stdout",
     "output_type": "stream",
     "text": [
      "Validation Results - Epoch: 35: Avg accuracy: 0.94 |Precision: 0.72 |Recall: 0.44 | F1: 0.55 | Avg loss: 0.51\n"
     ]
    },
    {
     "data": {
      "application/vnd.jupyter.widget-view+json": {
       "model_id": "",
       "version_major": 2,
       "version_minor": 0
      },
      "text/plain": [
       "HBox(children=(IntProgress(value=0, max=209), HTML(value='')))"
      ]
     },
     "metadata": {},
     "output_type": "display_data"
    },
    {
     "name": "stdout",
     "output_type": "stream",
     "text": [
      "Validation Results - Epoch: 36: Avg accuracy: 0.94 |Precision: 0.73 |Recall: 0.44 | F1: 0.55 | Avg loss: 0.51\n"
     ]
    },
    {
     "data": {
      "application/vnd.jupyter.widget-view+json": {
       "model_id": "",
       "version_major": 2,
       "version_minor": 0
      },
      "text/plain": [
       "HBox(children=(IntProgress(value=0, max=209), HTML(value='')))"
      ]
     },
     "metadata": {},
     "output_type": "display_data"
    },
    {
     "name": "stdout",
     "output_type": "stream",
     "text": [
      "Validation Results - Epoch: 37: Avg accuracy: 0.93 |Precision: 0.68 |Recall: 0.43 | F1: 0.53 | Avg loss: 0.52\n"
     ]
    },
    {
     "data": {
      "application/vnd.jupyter.widget-view+json": {
       "model_id": "",
       "version_major": 2,
       "version_minor": 0
      },
      "text/plain": [
       "HBox(children=(IntProgress(value=0, max=209), HTML(value='')))"
      ]
     },
     "metadata": {},
     "output_type": "display_data"
    },
    {
     "name": "stdout",
     "output_type": "stream",
     "text": [
      "Validation Results - Epoch: 38: Avg accuracy: 0.93 |Precision: 0.71 |Recall: 0.42 | F1: 0.53 | Avg loss: 0.55\n"
     ]
    },
    {
     "data": {
      "application/vnd.jupyter.widget-view+json": {
       "model_id": "",
       "version_major": 2,
       "version_minor": 0
      },
      "text/plain": [
       "HBox(children=(IntProgress(value=0, max=209), HTML(value='')))"
      ]
     },
     "metadata": {},
     "output_type": "display_data"
    },
    {
     "name": "stdout",
     "output_type": "stream",
     "text": [
      "Validation Results - Epoch: 39: Avg accuracy: 0.93 |Precision: 0.67 |Recall: 0.42 | F1: 0.51 | Avg loss: 0.55\n"
     ]
    },
    {
     "data": {
      "application/vnd.jupyter.widget-view+json": {
       "model_id": "",
       "version_major": 2,
       "version_minor": 0
      },
      "text/plain": [
       "HBox(children=(IntProgress(value=0, max=209), HTML(value='')))"
      ]
     },
     "metadata": {},
     "output_type": "display_data"
    },
    {
     "name": "stdout",
     "output_type": "stream",
     "text": [
      "Validation Results - Epoch: 40: Avg accuracy: 0.93 |Precision: 0.67 |Recall: 0.46 | F1: 0.54 | Avg loss: 0.50\n"
     ]
    }
   ],
   "source": [
    "trainer.train(lr=1e-3, \n",
    "              batch_size=128, \n",
    "              n_epochs=40,\n",
    "              gradient_accumulation_steps=2,\n",
    "              num_workers=8,\n",
    "              max_gradient_norm=2.0,\n",
    "             )"
   ]
  },
  {
   "cell_type": "code",
   "execution_count": 17,
   "metadata": {
    "scrolled": false
   },
   "outputs": [
    {
     "data": {
      "text/html": [
       "<div>\n",
       "<style scoped>\n",
       "    .dataframe tbody tr th:only-of-type {\n",
       "        vertical-align: middle;\n",
       "    }\n",
       "\n",
       "    .dataframe tbody tr th {\n",
       "        vertical-align: top;\n",
       "    }\n",
       "\n",
       "    .dataframe thead th {\n",
       "        text-align: right;\n",
       "    }\n",
       "</style>\n",
       "<table border=\"1\" class=\"dataframe\">\n",
       "  <thead>\n",
       "    <tr style=\"text-align: right;\">\n",
       "      <th></th>\n",
       "      <th>accuracy</th>\n",
       "      <th>f1</th>\n",
       "      <th>nll</th>\n",
       "      <th>precision</th>\n",
       "      <th>recall</th>\n",
       "    </tr>\n",
       "  </thead>\n",
       "  <tbody>\n",
       "    <tr>\n",
       "      <th>1</th>\n",
       "      <td>0.617380</td>\n",
       "      <td>0.254725</td>\n",
       "      <td>0.773548</td>\n",
       "      <td>0.153846</td>\n",
       "      <td>0.739857</td>\n",
       "    </tr>\n",
       "    <tr>\n",
       "      <th>2</th>\n",
       "      <td>0.759755</td>\n",
       "      <td>0.279570</td>\n",
       "      <td>0.546239</td>\n",
       "      <td>0.190189</td>\n",
       "      <td>0.527446</td>\n",
       "    </tr>\n",
       "    <tr>\n",
       "      <th>3</th>\n",
       "      <td>0.889475</td>\n",
       "      <td>0.340050</td>\n",
       "      <td>0.433296</td>\n",
       "      <td>0.360000</td>\n",
       "      <td>0.322196</td>\n",
       "    </tr>\n",
       "    <tr>\n",
       "      <th>4</th>\n",
       "      <td>0.927020</td>\n",
       "      <td>0.454259</td>\n",
       "      <td>0.388901</td>\n",
       "      <td>0.669767</td>\n",
       "      <td>0.343675</td>\n",
       "    </tr>\n",
       "    <tr>\n",
       "      <th>5</th>\n",
       "      <td>0.917106</td>\n",
       "      <td>0.439372</td>\n",
       "      <td>0.419865</td>\n",
       "      <td>0.546099</td>\n",
       "      <td>0.367542</td>\n",
       "    </tr>\n",
       "    <tr>\n",
       "      <th>6</th>\n",
       "      <td>0.672643</td>\n",
       "      <td>0.236971</td>\n",
       "      <td>0.673203</td>\n",
       "      <td>0.149226</td>\n",
       "      <td>0.575179</td>\n",
       "    </tr>\n",
       "    <tr>\n",
       "      <th>7</th>\n",
       "      <td>0.904240</td>\n",
       "      <td>0.520085</td>\n",
       "      <td>0.357694</td>\n",
       "      <td>0.466793</td>\n",
       "      <td>0.587112</td>\n",
       "    </tr>\n",
       "    <tr>\n",
       "      <th>8</th>\n",
       "      <td>0.903185</td>\n",
       "      <td>0.409266</td>\n",
       "      <td>0.505089</td>\n",
       "      <td>0.444134</td>\n",
       "      <td>0.379475</td>\n",
       "    </tr>\n",
       "    <tr>\n",
       "      <th>9</th>\n",
       "      <td>0.916895</td>\n",
       "      <td>0.461749</td>\n",
       "      <td>0.446874</td>\n",
       "      <td>0.539936</td>\n",
       "      <td>0.403341</td>\n",
       "    </tr>\n",
       "    <tr>\n",
       "      <th>10</th>\n",
       "      <td>0.935035</td>\n",
       "      <td>0.459649</td>\n",
       "      <td>0.540156</td>\n",
       "      <td>0.867550</td>\n",
       "      <td>0.312649</td>\n",
       "    </tr>\n",
       "    <tr>\n",
       "      <th>11</th>\n",
       "      <td>0.829361</td>\n",
       "      <td>0.381025</td>\n",
       "      <td>0.483783</td>\n",
       "      <td>0.280405</td>\n",
       "      <td>0.594272</td>\n",
       "    </tr>\n",
       "    <tr>\n",
       "      <th>12</th>\n",
       "      <td>0.929340</td>\n",
       "      <td>0.497751</td>\n",
       "      <td>0.486094</td>\n",
       "      <td>0.669355</td>\n",
       "      <td>0.396181</td>\n",
       "    </tr>\n",
       "    <tr>\n",
       "      <th>13</th>\n",
       "      <td>0.928285</td>\n",
       "      <td>0.504373</td>\n",
       "      <td>0.463077</td>\n",
       "      <td>0.647940</td>\n",
       "      <td>0.412888</td>\n",
       "    </tr>\n",
       "    <tr>\n",
       "      <th>14</th>\n",
       "      <td>0.931449</td>\n",
       "      <td>0.578470</td>\n",
       "      <td>0.385664</td>\n",
       "      <td>0.633523</td>\n",
       "      <td>0.532220</td>\n",
       "    </tr>\n",
       "    <tr>\n",
       "      <th>15</th>\n",
       "      <td>0.869226</td>\n",
       "      <td>0.387352</td>\n",
       "      <td>0.548632</td>\n",
       "      <td>0.330523</td>\n",
       "      <td>0.467780</td>\n",
       "    </tr>\n",
       "    <tr>\n",
       "      <th>16</th>\n",
       "      <td>0.938621</td>\n",
       "      <td>0.572687</td>\n",
       "      <td>0.418808</td>\n",
       "      <td>0.744275</td>\n",
       "      <td>0.465394</td>\n",
       "    </tr>\n",
       "    <tr>\n",
       "      <th>17</th>\n",
       "      <td>0.928496</td>\n",
       "      <td>0.560311</td>\n",
       "      <td>0.394221</td>\n",
       "      <td>0.613636</td>\n",
       "      <td>0.515513</td>\n",
       "    </tr>\n",
       "    <tr>\n",
       "      <th>18</th>\n",
       "      <td>0.935035</td>\n",
       "      <td>0.583784</td>\n",
       "      <td>0.405776</td>\n",
       "      <td>0.672897</td>\n",
       "      <td>0.515513</td>\n",
       "    </tr>\n",
       "    <tr>\n",
       "      <th>19</th>\n",
       "      <td>0.910146</td>\n",
       "      <td>0.477941</td>\n",
       "      <td>0.490314</td>\n",
       "      <td>0.491184</td>\n",
       "      <td>0.465394</td>\n",
       "    </tr>\n",
       "    <tr>\n",
       "      <th>20</th>\n",
       "      <td>0.931449</td>\n",
       "      <td>0.517088</td>\n",
       "      <td>0.482042</td>\n",
       "      <td>0.685039</td>\n",
       "      <td>0.415274</td>\n",
       "    </tr>\n",
       "    <tr>\n",
       "      <th>21</th>\n",
       "      <td>0.924910</td>\n",
       "      <td>0.518919</td>\n",
       "      <td>0.495034</td>\n",
       "      <td>0.598131</td>\n",
       "      <td>0.458234</td>\n",
       "    </tr>\n",
       "    <tr>\n",
       "      <th>22</th>\n",
       "      <td>0.938410</td>\n",
       "      <td>0.589888</td>\n",
       "      <td>0.413969</td>\n",
       "      <td>0.716724</td>\n",
       "      <td>0.501193</td>\n",
       "    </tr>\n",
       "    <tr>\n",
       "      <th>23</th>\n",
       "      <td>0.932926</td>\n",
       "      <td>0.526786</td>\n",
       "      <td>0.510568</td>\n",
       "      <td>0.699605</td>\n",
       "      <td>0.422434</td>\n",
       "    </tr>\n",
       "    <tr>\n",
       "      <th>24</th>\n",
       "      <td>0.932504</td>\n",
       "      <td>0.509202</td>\n",
       "      <td>0.533355</td>\n",
       "      <td>0.712446</td>\n",
       "      <td>0.396181</td>\n",
       "    </tr>\n",
       "    <tr>\n",
       "      <th>25</th>\n",
       "      <td>0.932082</td>\n",
       "      <td>0.506135</td>\n",
       "      <td>0.530237</td>\n",
       "      <td>0.708155</td>\n",
       "      <td>0.393795</td>\n",
       "    </tr>\n",
       "    <tr>\n",
       "      <th>26</th>\n",
       "      <td>0.923856</td>\n",
       "      <td>0.515436</td>\n",
       "      <td>0.496562</td>\n",
       "      <td>0.588957</td>\n",
       "      <td>0.458234</td>\n",
       "    </tr>\n",
       "    <tr>\n",
       "      <th>27</th>\n",
       "      <td>0.929973</td>\n",
       "      <td>0.522989</td>\n",
       "      <td>0.505016</td>\n",
       "      <td>0.657040</td>\n",
       "      <td>0.434368</td>\n",
       "    </tr>\n",
       "    <tr>\n",
       "      <th>28</th>\n",
       "      <td>0.927020</td>\n",
       "      <td>0.523416</td>\n",
       "      <td>0.480622</td>\n",
       "      <td>0.618893</td>\n",
       "      <td>0.453461</td>\n",
       "    </tr>\n",
       "    <tr>\n",
       "      <th>29</th>\n",
       "      <td>0.935879</td>\n",
       "      <td>0.558140</td>\n",
       "      <td>0.490028</td>\n",
       "      <td>0.713755</td>\n",
       "      <td>0.458234</td>\n",
       "    </tr>\n",
       "    <tr>\n",
       "      <th>30</th>\n",
       "      <td>0.931027</td>\n",
       "      <td>0.505295</td>\n",
       "      <td>0.570509</td>\n",
       "      <td>0.690083</td>\n",
       "      <td>0.398568</td>\n",
       "    </tr>\n",
       "    <tr>\n",
       "      <th>31</th>\n",
       "      <td>0.929129</td>\n",
       "      <td>0.521368</td>\n",
       "      <td>0.513965</td>\n",
       "      <td>0.646643</td>\n",
       "      <td>0.436754</td>\n",
       "    </tr>\n",
       "    <tr>\n",
       "      <th>32</th>\n",
       "      <td>0.932504</td>\n",
       "      <td>0.525223</td>\n",
       "      <td>0.526262</td>\n",
       "      <td>0.694118</td>\n",
       "      <td>0.422434</td>\n",
       "    </tr>\n",
       "    <tr>\n",
       "      <th>33</th>\n",
       "      <td>0.929340</td>\n",
       "      <td>0.534075</td>\n",
       "      <td>0.491071</td>\n",
       "      <td>0.640000</td>\n",
       "      <td>0.458234</td>\n",
       "    </tr>\n",
       "    <tr>\n",
       "      <th>34</th>\n",
       "      <td>0.931449</td>\n",
       "      <td>0.519941</td>\n",
       "      <td>0.508007</td>\n",
       "      <td>0.682171</td>\n",
       "      <td>0.420048</td>\n",
       "    </tr>\n",
       "    <tr>\n",
       "      <th>35</th>\n",
       "      <td>0.935668</td>\n",
       "      <td>0.549483</td>\n",
       "      <td>0.508313</td>\n",
       "      <td>0.720930</td>\n",
       "      <td>0.443914</td>\n",
       "    </tr>\n",
       "    <tr>\n",
       "      <th>36</th>\n",
       "      <td>0.936089</td>\n",
       "      <td>0.547085</td>\n",
       "      <td>0.513542</td>\n",
       "      <td>0.732000</td>\n",
       "      <td>0.436754</td>\n",
       "    </tr>\n",
       "    <tr>\n",
       "      <th>37</th>\n",
       "      <td>0.932293</td>\n",
       "      <td>0.531387</td>\n",
       "      <td>0.523796</td>\n",
       "      <td>0.684211</td>\n",
       "      <td>0.434368</td>\n",
       "    </tr>\n",
       "    <tr>\n",
       "      <th>38</th>\n",
       "      <td>0.933347</td>\n",
       "      <td>0.528358</td>\n",
       "      <td>0.549990</td>\n",
       "      <td>0.705179</td>\n",
       "      <td>0.422434</td>\n",
       "    </tr>\n",
       "    <tr>\n",
       "      <th>39</th>\n",
       "      <td>0.930184</td>\n",
       "      <td>0.512518</td>\n",
       "      <td>0.548741</td>\n",
       "      <td>0.669231</td>\n",
       "      <td>0.415274</td>\n",
       "    </tr>\n",
       "    <tr>\n",
       "      <th>40</th>\n",
       "      <td>0.931871</td>\n",
       "      <td>0.543140</td>\n",
       "      <td>0.503911</td>\n",
       "      <td>0.666667</td>\n",
       "      <td>0.458234</td>\n",
       "    </tr>\n",
       "  </tbody>\n",
       "</table>\n",
       "</div>"
      ],
      "text/plain": [
       "    accuracy        f1       nll  precision    recall\n",
       "1   0.617380  0.254725  0.773548   0.153846  0.739857\n",
       "2   0.759755  0.279570  0.546239   0.190189  0.527446\n",
       "3   0.889475  0.340050  0.433296   0.360000  0.322196\n",
       "4   0.927020  0.454259  0.388901   0.669767  0.343675\n",
       "5   0.917106  0.439372  0.419865   0.546099  0.367542\n",
       "6   0.672643  0.236971  0.673203   0.149226  0.575179\n",
       "7   0.904240  0.520085  0.357694   0.466793  0.587112\n",
       "8   0.903185  0.409266  0.505089   0.444134  0.379475\n",
       "9   0.916895  0.461749  0.446874   0.539936  0.403341\n",
       "10  0.935035  0.459649  0.540156   0.867550  0.312649\n",
       "11  0.829361  0.381025  0.483783   0.280405  0.594272\n",
       "12  0.929340  0.497751  0.486094   0.669355  0.396181\n",
       "13  0.928285  0.504373  0.463077   0.647940  0.412888\n",
       "14  0.931449  0.578470  0.385664   0.633523  0.532220\n",
       "15  0.869226  0.387352  0.548632   0.330523  0.467780\n",
       "16  0.938621  0.572687  0.418808   0.744275  0.465394\n",
       "17  0.928496  0.560311  0.394221   0.613636  0.515513\n",
       "18  0.935035  0.583784  0.405776   0.672897  0.515513\n",
       "19  0.910146  0.477941  0.490314   0.491184  0.465394\n",
       "20  0.931449  0.517088  0.482042   0.685039  0.415274\n",
       "21  0.924910  0.518919  0.495034   0.598131  0.458234\n",
       "22  0.938410  0.589888  0.413969   0.716724  0.501193\n",
       "23  0.932926  0.526786  0.510568   0.699605  0.422434\n",
       "24  0.932504  0.509202  0.533355   0.712446  0.396181\n",
       "25  0.932082  0.506135  0.530237   0.708155  0.393795\n",
       "26  0.923856  0.515436  0.496562   0.588957  0.458234\n",
       "27  0.929973  0.522989  0.505016   0.657040  0.434368\n",
       "28  0.927020  0.523416  0.480622   0.618893  0.453461\n",
       "29  0.935879  0.558140  0.490028   0.713755  0.458234\n",
       "30  0.931027  0.505295  0.570509   0.690083  0.398568\n",
       "31  0.929129  0.521368  0.513965   0.646643  0.436754\n",
       "32  0.932504  0.525223  0.526262   0.694118  0.422434\n",
       "33  0.929340  0.534075  0.491071   0.640000  0.458234\n",
       "34  0.931449  0.519941  0.508007   0.682171  0.420048\n",
       "35  0.935668  0.549483  0.508313   0.720930  0.443914\n",
       "36  0.936089  0.547085  0.513542   0.732000  0.436754\n",
       "37  0.932293  0.531387  0.523796   0.684211  0.434368\n",
       "38  0.933347  0.528358  0.549990   0.705179  0.422434\n",
       "39  0.930184  0.512518  0.548741   0.669231  0.415274\n",
       "40  0.931871  0.543140  0.503911   0.666667  0.458234"
      ]
     },
     "execution_count": 17,
     "metadata": {},
     "output_type": "execute_result"
    }
   ],
   "source": [
    "import pandas as pd\n",
    "df = pd.DataFrame(trainer.epoch_state).T\n",
    "df"
   ]
  },
  {
   "cell_type": "code",
   "execution_count": 18,
   "metadata": {},
   "outputs": [
    {
     "name": "stderr",
     "output_type": "stream",
     "text": [
      "/home/ubuntu/anaconda3/envs/pytorch_p36/lib/python3.6/site-packages/ipykernel/__main__.py:1: FutureWarning: \n",
      "The current behaviour of 'Series.argmax' is deprecated, use 'idxmax'\n",
      "instead.\n",
      "The behavior of 'argmax' will be corrected to return the positional\n",
      "maximum in the future. For now, use 'series.values.argmax' or\n",
      "'np.argmax(np.array(values))' to get the position of the maximum\n",
      "row.\n",
      "  if __name__ == '__main__':\n"
     ]
    },
    {
     "data": {
      "text/plain": [
       "22"
      ]
     },
     "execution_count": 18,
     "metadata": {},
     "output_type": "execute_result"
    }
   ],
   "source": [
    "df['f1'].argmax()"
   ]
  },
  {
   "cell_type": "code",
   "execution_count": null,
   "metadata": {
    "collapsed": true
   },
   "outputs": [],
   "source": []
  }
 ],
 "metadata": {
  "kernelspec": {
   "display_name": "Insight",
   "language": "python",
   "name": "python3"
  },
  "language_info": {
   "codemirror_mode": {
    "name": "ipython",
    "version": 3
   },
   "file_extension": ".py",
   "mimetype": "text/x-python",
   "name": "python",
   "nbconvert_exporter": "python",
   "pygments_lexer": "ipython3",
   "version": "3.7.3"
  }
 },
 "nbformat": 4,
 "nbformat_minor": 2
}
