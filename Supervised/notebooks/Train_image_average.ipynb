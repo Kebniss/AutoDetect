{
 "cells": [
  {
   "cell_type": "code",
   "execution_count": 1,
   "metadata": {},
   "outputs": [],
   "source": [
    "import torch\n",
    "from torch import nn\n",
    "\n",
    "import torchvision\n",
    "from torchvision.datasets import ImageFolder\n",
    "\n",
    "from torchvision import transforms\n",
    "\n",
    "from torch.utils.data import DataLoader\n",
    "from pathlib import Path\n",
    "from torchvision.models import vgg16"
   ]
  },
  {
   "cell_type": "code",
   "execution_count": 2,
   "metadata": {},
   "outputs": [],
   "source": [
    "import sys\n",
    "sys.path.append(\"..\")"
   ]
  },
  {
   "cell_type": "code",
   "execution_count": 3,
   "metadata": {},
   "outputs": [],
   "source": [
    "from video_classification.datasets import FolderOfFrameFoldersDataset, FrameWindowDataset"
   ]
  },
  {
   "cell_type": "code",
   "execution_count": 4,
   "metadata": {},
   "outputs": [],
   "source": [
    "device = torch.device(\"cuda\" if torch.cuda.is_available() else \"cpu\")"
   ]
  },
  {
   "cell_type": "code",
   "execution_count": 5,
   "metadata": {},
   "outputs": [],
   "source": [
    "ROOT = Path(\"/home/ubuntu/SupervisedVideoClassification\")\n",
    "DATA_ROOT = Path(ROOT/\"data\")"
   ]
  },
  {
   "cell_type": "code",
   "execution_count": 6,
   "metadata": {},
   "outputs": [],
   "source": [
    "train_transforms = transforms.Compose([\n",
    "    torchvision.transforms.ColorJitter(),\n",
    "    transforms.RandomHorizontalFlip(p=0.25),\n",
    "    transforms.RandomVerticalFlip(p=0.25),\n",
    "    transforms.ToTensor(),\n",
    "    transforms.Normalize(mean=[0.485, 0.456, 0.406],std=[0.229, 0.224, 0.225]),\n",
    "])\n",
    "\n",
    "valid_transforms = transforms.Compose([\n",
    "    transforms.ToTensor(),\n",
    "    transforms.Normalize(mean=[0.485, 0.456, 0.406],std=[0.229, 0.224, 0.225]),\n",
    "])"
   ]
  },
  {
   "cell_type": "code",
   "execution_count": 7,
   "metadata": {},
   "outputs": [],
   "source": [
    "train_ds = FolderOfFrameFoldersDataset(DATA_ROOT/'train', transform=train_transforms, base_class=FrameWindowDataset)\n",
    "valid_ds = FolderOfFrameFoldersDataset(DATA_ROOT/'validation', transform=valid_transforms, base_class=FrameWindowDataset)"
   ]
  },
  {
   "cell_type": "code",
   "execution_count": 8,
   "metadata": {},
   "outputs": [],
   "source": [
    "class AverageImagesModel(nn.Module):\n",
    "    def __init__(self, mlp_sizes=[768, 128, 2]):\n",
    "        super().__init__()\n",
    "        self.vgg = vgg16(pretrained=True)\n",
    "        self.vgg.classifier = nn.Sequential(self.vgg.classifier[:-1])  # Remove imagenet output layer\n",
    "        in_features = 4096  # vgg feats\n",
    "        out_features = mlp_sizes[0]\n",
    "\n",
    "        layers = []\n",
    "        for i, size in enumerate(mlp_sizes):\n",
    "            out_features = mlp_sizes[i]\n",
    "\n",
    "            layers.append(nn.Linear(in_features, out_features))\n",
    "            layers.append(nn.ReLU())\n",
    "            layers.append(nn.BatchNorm1d(out_features)),\n",
    "            layers.append(nn.Dropout(p=0.3))\n",
    "            in_features = out_features\n",
    "\n",
    "        layers.pop()  # Remove last dropout\n",
    "        layers.pop()  # Remove last BN\n",
    "        layers.pop()  # Remove last ReLU\n",
    "        self.clf = nn.Sequential(*layers)\n",
    "        self.freeze_vgg()\n",
    "        \n",
    "    def forward(self, x):\n",
    "        # x is of size (B, T, C, H, W)\n",
    "        x = x.mean(1)\n",
    "        x = self.vgg(x)\n",
    "        x = self.clf(x)\n",
    "        return x\n",
    "    \n",
    "    def freeze_vgg(self):\n",
    "        # Freeze the VGG classifier\n",
    "        for p in self.vgg.parameters():\n",
    "            p.requires_grad = False\n",
    "            \n",
    "    def unfreeze_vgg(self):\n",
    "        # Unfreeze the VGG classifier. Training the whole VGG is a no-go, so we only train the classifier part.\n",
    "        for p in self.vgg.classifier[1:].parameters():\n",
    "            p.requires_grad = True "
   ]
  },
  {
   "cell_type": "code",
   "execution_count": 9,
   "metadata": {},
   "outputs": [],
   "source": [
    "model = AverageImagesModel(mlp_sizes=[1024, 256, 2])\n",
    "\n",
    "model = model.to(device)"
   ]
  },
  {
   "cell_type": "code",
   "execution_count": 10,
   "metadata": {},
   "outputs": [],
   "source": [
    "from video_classification.trainer import Trainer\n",
    "\n",
    "classes_weights = torch.Tensor([0.3, 1.0]).to(device)\n",
    "criterion = nn.CrossEntropyLoss(weight=classes_weights)"
   ]
  },
  {
   "cell_type": "code",
   "execution_count": 11,
   "metadata": {},
   "outputs": [
    {
     "name": "stdout",
     "output_type": "stream",
     "text": [
      "Selected optimization level O1:  Insert automatic casts around Pytorch functions and Tensor methods.\n",
      "\n",
      "Defaults for this optimization level are:\n",
      "enabled                : True\n",
      "opt_level              : O1\n",
      "cast_model_type        : None\n",
      "patch_torch_functions  : True\n",
      "keep_batchnorm_fp32    : None\n",
      "master_weights         : None\n",
      "loss_scale             : dynamic\n",
      "Processing user overrides (additional kwargs that are not None)...\n",
      "After processing overrides, optimization options are:\n",
      "enabled                : True\n",
      "opt_level              : O1\n",
      "cast_model_type        : None\n",
      "patch_torch_functions  : True\n",
      "keep_batchnorm_fp32    : None\n",
      "master_weights         : None\n",
      "loss_scale             : dynamic\n"
     ]
    }
   ],
   "source": [
    "trainer = Trainer(train_ds, \n",
    "                  valid_ds, \n",
    "                  model, \n",
    "                  criterion,\n",
    "                  \"multi_frame_vgg\",\n",
    "                  str(ROOT/'checkpoints'),\n",
    "                  device=device,\n",
    "                  amp_opt_level=\"O1\",\n",
    "                 )"
   ]
  },
  {
   "cell_type": "code",
   "execution_count": 12,
   "metadata": {},
   "outputs": [
    {
     "name": "stderr",
     "output_type": "stream",
     "text": [
      "/home/ubuntu/anaconda3/envs/pytorch_p36/lib/python3.6/site-packages/tqdm/autonotebook/__init__.py:14: TqdmExperimentalWarning: Using `tqdm.autonotebook.tqdm` in notebook mode. Use `tqdm.tqdm` instead to force console mode (e.g. in jupyter console)\n",
      "  \" (e.g. in jupyter console)\", TqdmExperimentalWarning)\n"
     ]
    },
    {
     "data": {
      "application/vnd.jupyter.widget-view+json": {
       "model_id": "",
       "version_major": 2,
       "version_minor": 0
      },
      "text/plain": [
       "HBox(children=(IntProgress(value=0, max=556), HTML(value='')))"
      ]
     },
     "metadata": {},
     "output_type": "display_data"
    },
    {
     "name": "stdout",
     "output_type": "stream",
     "text": [
      "Training Results - Epoch: 1: Avg accuracy: 0.94 |Precision: 0.95, 0.61 |Recall: 0.98, 0.35 | F1: 0.70 | Avg loss: 0.36\n",
      "Validation Results - Epoch: 1: Avg accuracy: 0.87 |Precision: 0.93, 0.28 |Recall: 0.92, 0.30 | F1: 0.61 | Avg loss: 0.48\n"
     ]
    },
    {
     "data": {
      "application/vnd.jupyter.widget-view+json": {
       "model_id": "",
       "version_major": 2,
       "version_minor": 0
      },
      "text/plain": [
       "HBox(children=(IntProgress(value=0, max=556), HTML(value='')))"
      ]
     },
     "metadata": {},
     "output_type": "display_data"
    },
    {
     "name": "stdout",
     "output_type": "stream",
     "text": [
      "Training Results - Epoch: 2: Avg accuracy: 0.95 |Precision: 0.95, 0.88 |Recall: 1.00, 0.31 | F1: 0.71 | Avg loss: 0.35\n",
      "Validation Results - Epoch: 2: Avg accuracy: 0.73 |Precision: 0.92, 0.10 |Recall: 0.77, 0.28 | F1: 0.49 | Avg loss: 0.54\n"
     ]
    },
    {
     "data": {
      "application/vnd.jupyter.widget-view+json": {
       "model_id": "",
       "version_major": 2,
       "version_minor": 0
      },
      "text/plain": [
       "HBox(children=(IntProgress(value=0, max=556), HTML(value='')))"
      ]
     },
     "metadata": {},
     "output_type": "display_data"
    },
    {
     "name": "stdout",
     "output_type": "stream",
     "text": [
      "Training Results - Epoch: 3: Avg accuracy: 0.94 |Precision: 0.95, 0.72 |Recall: 0.99, 0.36 | F1: 0.73 | Avg loss: 0.33\n",
      "Validation Results - Epoch: 3: Avg accuracy: 0.77 |Precision: 0.93, 0.15 |Recall: 0.81, 0.35 | F1: 0.54 | Avg loss: 0.55\n"
     ]
    },
    {
     "data": {
      "application/vnd.jupyter.widget-view+json": {
       "model_id": "",
       "version_major": 2,
       "version_minor": 0
      },
      "text/plain": [
       "HBox(children=(IntProgress(value=0, max=556), HTML(value='')))"
      ]
     },
     "metadata": {},
     "output_type": "display_data"
    },
    {
     "name": "stdout",
     "output_type": "stream",
     "text": [
      "Training Results - Epoch: 4: Avg accuracy: 0.94 |Precision: 0.96, 0.64 |Recall: 0.98, 0.43 | F1: 0.74 | Avg loss: 0.32\n",
      "Validation Results - Epoch: 4: Avg accuracy: 0.70 |Precision: 0.92, 0.12 |Recall: 0.73, 0.38 | F1: 0.50 | Avg loss: 0.67\n"
     ]
    },
    {
     "data": {
      "application/vnd.jupyter.widget-view+json": {
       "model_id": "",
       "version_major": 2,
       "version_minor": 0
      },
      "text/plain": [
       "HBox(children=(IntProgress(value=0, max=556), HTML(value='')))"
      ]
     },
     "metadata": {},
     "output_type": "display_data"
    },
    {
     "name": "stdout",
     "output_type": "stream",
     "text": [
      "Gradient overflow.  Skipping step, loss scaler 0 reducing loss scale to 65536.0\n",
      "Training Results - Epoch: 5: Avg accuracy: 0.95 |Precision: 0.95, 0.90 |Recall: 1.00, 0.36 | F1: 0.74 | Avg loss: 0.33\n",
      "Validation Results - Epoch: 5: Avg accuracy: 0.81 |Precision: 0.93, 0.18 |Recall: 0.86, 0.32 | F1: 0.56 | Avg loss: 0.51\n"
     ]
    },
    {
     "data": {
      "application/vnd.jupyter.widget-view+json": {
       "model_id": "",
       "version_major": 2,
       "version_minor": 0
      },
      "text/plain": [
       "HBox(children=(IntProgress(value=0, max=556), HTML(value='')))"
      ]
     },
     "metadata": {},
     "output_type": "display_data"
    },
    {
     "name": "stdout",
     "output_type": "stream",
     "text": [
      "Gradient overflow.  Skipping step, loss scaler 0 reducing loss scale to 32768.0\n",
      "Training Results - Epoch: 6: Avg accuracy: 0.95 |Precision: 0.96, 0.74 |Recall: 0.99, 0.42 | F1: 0.75 | Avg loss: 0.31\n",
      "Validation Results - Epoch: 6: Avg accuracy: 0.80 |Precision: 0.93, 0.17 |Recall: 0.85, 0.31 | F1: 0.55 | Avg loss: 0.52\n"
     ]
    },
    {
     "data": {
      "application/vnd.jupyter.widget-view+json": {
       "model_id": "",
       "version_major": 2,
       "version_minor": 0
      },
      "text/plain": [
       "HBox(children=(IntProgress(value=0, max=556), HTML(value='')))"
      ]
     },
     "metadata": {},
     "output_type": "display_data"
    },
    {
     "name": "stdout",
     "output_type": "stream",
     "text": [
      "Training Results - Epoch: 7: Avg accuracy: 0.95 |Precision: 0.95, 0.93 |Recall: 1.00, 0.35 | F1: 0.74 | Avg loss: 0.32\n",
      "Validation Results - Epoch: 7: Avg accuracy: 0.85 |Precision: 0.92, 0.19 |Recall: 0.91, 0.21 | F1: 0.56 | Avg loss: 0.52\n"
     ]
    }
   ],
   "source": [
    "trainer.train(lr=1e-3, \n",
    "              batch_size=48, \n",
    "              n_epochs=7,\n",
    "              gradient_accumulation_steps=4,\n",
    "              num_workers=8,\n",
    "              max_gradient_norm=2.0,\n",
    "             )"
   ]
  },
  {
   "cell_type": "code",
   "execution_count": 13,
   "metadata": {},
   "outputs": [
    {
     "data": {
      "text/html": [
       "<div>\n",
       "<style scoped>\n",
       "    .dataframe tbody tr th:only-of-type {\n",
       "        vertical-align: middle;\n",
       "    }\n",
       "\n",
       "    .dataframe tbody tr th {\n",
       "        vertical-align: top;\n",
       "    }\n",
       "\n",
       "    .dataframe thead th {\n",
       "        text-align: right;\n",
       "    }\n",
       "</style>\n",
       "<table border=\"1\" class=\"dataframe\">\n",
       "  <thead>\n",
       "    <tr style=\"text-align: right;\">\n",
       "      <th></th>\n",
       "      <th></th>\n",
       "      <th>accuracy</th>\n",
       "      <th>f1</th>\n",
       "      <th>nll</th>\n",
       "      <th>precision</th>\n",
       "      <th>recall</th>\n",
       "    </tr>\n",
       "  </thead>\n",
       "  <tbody>\n",
       "    <tr>\n",
       "      <th rowspan=\"2\" valign=\"top\">1</th>\n",
       "      <th>train</th>\n",
       "      <td>0.935532</td>\n",
       "      <td>0.704179</td>\n",
       "      <td>0.358496</td>\n",
       "      <td>[0.9497865340174689, 0.6100178890876565]</td>\n",
       "      <td>[0.9823374518938627, 0.34725050916496947]</td>\n",
       "    </tr>\n",
       "    <tr>\n",
       "      <th>test</th>\n",
       "      <td>0.869437</td>\n",
       "      <td>0.607909</td>\n",
       "      <td>0.47811</td>\n",
       "      <td>[0.9314845024469821, 0.2777777777777778]</td>\n",
       "      <td>[0.9248033317908376, 0.29832935560859186]</td>\n",
       "    </tr>\n",
       "    <tr>\n",
       "      <th rowspan=\"2\" valign=\"top\">2</th>\n",
       "      <th>train</th>\n",
       "      <td>0.945889</td>\n",
       "      <td>0.714302</td>\n",
       "      <td>0.345166</td>\n",
       "      <td>[0.9477212312670956, 0.8771676300578035]</td>\n",
       "      <td>[0.996556613327932, 0.3090631364562118]</td>\n",
       "    </tr>\n",
       "    <tr>\n",
       "      <th>test</th>\n",
       "      <td>0.725163</td>\n",
       "      <td>0.494121</td>\n",
       "      <td>0.535822</td>\n",
       "      <td>[0.9166436654706045, 0.10465116279069768]</td>\n",
       "      <td>[0.7683942619157798, 0.27923627684964203]</td>\n",
       "    </tr>\n",
       "    <tr>\n",
       "      <th rowspan=\"2\" valign=\"top\">3</th>\n",
       "      <th>train</th>\n",
       "      <td>0.94285</td>\n",
       "      <td>0.727175</td>\n",
       "      <td>0.331032</td>\n",
       "      <td>[0.9513601995478993, 0.722502522704339]</td>\n",
       "      <td>[0.9888596313550739, 0.3645621181262729]</td>\n",
       "    </tr>\n",
       "    <tr>\n",
       "      <th>test</th>\n",
       "      <td>0.769458</td>\n",
       "      <td>0.538473</td>\n",
       "      <td>0.553788</td>\n",
       "      <td>[0.9279088258680095, 0.1518595041322314]</td>\n",
       "      <td>[0.8100416473854697, 0.35083532219570407]</td>\n",
       "    </tr>\n",
       "    <tr>\n",
       "      <th rowspan=\"2\" valign=\"top\">4</th>\n",
       "      <th>train</th>\n",
       "      <td>0.940185</td>\n",
       "      <td>0.741373</td>\n",
       "      <td>0.32305</td>\n",
       "      <td>[0.9558213905010068, 0.6401515151515151]</td>\n",
       "      <td>[0.980757545067855, 0.430244399185336]</td>\n",
       "    </tr>\n",
       "    <tr>\n",
       "      <th>test</th>\n",
       "      <td>0.702383</td>\n",
       "      <td>0.501412</td>\n",
       "      <td>0.671125</td>\n",
       "      <td>[0.9244677748614757, 0.12195121951219512]</td>\n",
       "      <td>[0.7334567329939843, 0.3818615751789976]</td>\n",
       "    </tr>\n",
       "    <tr>\n",
       "      <th rowspan=\"2\" valign=\"top\">5</th>\n",
       "      <th>train</th>\n",
       "      <td>0.949979</td>\n",
       "      <td>0.744187</td>\n",
       "      <td>0.325232</td>\n",
       "      <td>[0.9514033866852238, 0.9029374201787995]</td>\n",
       "      <td>[0.9969212072108568, 0.359979633401222]</td>\n",
       "    </tr>\n",
       "    <tr>\n",
       "      <th>test</th>\n",
       "      <td>0.812276</td>\n",
       "      <td>0.560951</td>\n",
       "      <td>0.509712</td>\n",
       "      <td>[0.9283574638042935, 0.17959183673469387]</td>\n",
       "      <td>[0.8604812586765387, 0.315035799522673]</td>\n",
       "    </tr>\n",
       "    <tr>\n",
       "      <th rowspan=\"2\" valign=\"top\">6</th>\n",
       "      <th>train</th>\n",
       "      <td>0.946152</td>\n",
       "      <td>0.752078</td>\n",
       "      <td>0.313679</td>\n",
       "      <td>[0.955132722574583, 0.7389340560072267]</td>\n",
       "      <td>[0.9882924853149686, 0.4164969450101833]</td>\n",
       "    </tr>\n",
       "    <tr>\n",
       "      <th>test</th>\n",
       "      <td>0.80405</td>\n",
       "      <td>0.55268</td>\n",
       "      <td>0.519756</td>\n",
       "      <td>[0.927007299270073, 0.16796875]</td>\n",
       "      <td>[0.8521517815826006, 0.30787589498806683]</td>\n",
       "    </tr>\n",
       "    <tr>\n",
       "      <th rowspan=\"2\" valign=\"top\">7</th>\n",
       "      <th>train</th>\n",
       "      <td>0.949979</td>\n",
       "      <td>0.739336</td>\n",
       "      <td>0.321033</td>\n",
       "      <td>[0.950462962962963, 0.9327846364883402]</td>\n",
       "      <td>[0.9980149888596314, 0.34623217922606925]</td>\n",
       "    </tr>\n",
       "    <tr>\n",
       "      <th>test</th>\n",
       "      <td>0.847711</td>\n",
       "      <td>0.557704</td>\n",
       "      <td>0.520745</td>\n",
       "      <td>[0.9227336777829968, 0.18633540372670807]</td>\n",
       "      <td>[0.9090698750578436, 0.21479713603818615]</td>\n",
       "    </tr>\n",
       "  </tbody>\n",
       "</table>\n",
       "</div>"
      ],
      "text/plain": [
       "         accuracy        f1       nll  \\\n",
       "1 train  0.935532  0.704179  0.358496   \n",
       "  test   0.869437  0.607909   0.47811   \n",
       "2 train  0.945889  0.714302  0.345166   \n",
       "  test   0.725163  0.494121  0.535822   \n",
       "3 train   0.94285  0.727175  0.331032   \n",
       "  test   0.769458  0.538473  0.553788   \n",
       "4 train  0.940185  0.741373   0.32305   \n",
       "  test   0.702383  0.501412  0.671125   \n",
       "5 train  0.949979  0.744187  0.325232   \n",
       "  test   0.812276  0.560951  0.509712   \n",
       "6 train  0.946152  0.752078  0.313679   \n",
       "  test    0.80405   0.55268  0.519756   \n",
       "7 train  0.949979  0.739336  0.321033   \n",
       "  test   0.847711  0.557704  0.520745   \n",
       "\n",
       "                                         precision  \\\n",
       "1 train   [0.9497865340174689, 0.6100178890876565]   \n",
       "  test    [0.9314845024469821, 0.2777777777777778]   \n",
       "2 train   [0.9477212312670956, 0.8771676300578035]   \n",
       "  test   [0.9166436654706045, 0.10465116279069768]   \n",
       "3 train    [0.9513601995478993, 0.722502522704339]   \n",
       "  test    [0.9279088258680095, 0.1518595041322314]   \n",
       "4 train   [0.9558213905010068, 0.6401515151515151]   \n",
       "  test   [0.9244677748614757, 0.12195121951219512]   \n",
       "5 train   [0.9514033866852238, 0.9029374201787995]   \n",
       "  test   [0.9283574638042935, 0.17959183673469387]   \n",
       "6 train    [0.955132722574583, 0.7389340560072267]   \n",
       "  test             [0.927007299270073, 0.16796875]   \n",
       "7 train    [0.950462962962963, 0.9327846364883402]   \n",
       "  test   [0.9227336777829968, 0.18633540372670807]   \n",
       "\n",
       "                                            recall  \n",
       "1 train  [0.9823374518938627, 0.34725050916496947]  \n",
       "  test   [0.9248033317908376, 0.29832935560859186]  \n",
       "2 train    [0.996556613327932, 0.3090631364562118]  \n",
       "  test   [0.7683942619157798, 0.27923627684964203]  \n",
       "3 train   [0.9888596313550739, 0.3645621181262729]  \n",
       "  test   [0.8100416473854697, 0.35083532219570407]  \n",
       "4 train     [0.980757545067855, 0.430244399185336]  \n",
       "  test    [0.7334567329939843, 0.3818615751789976]  \n",
       "5 train    [0.9969212072108568, 0.359979633401222]  \n",
       "  test     [0.8604812586765387, 0.315035799522673]  \n",
       "6 train   [0.9882924853149686, 0.4164969450101833]  \n",
       "  test   [0.8521517815826006, 0.30787589498806683]  \n",
       "7 train  [0.9980149888596314, 0.34623217922606925]  \n",
       "  test   [0.9090698750578436, 0.21479713603818615]  "
      ]
     },
     "execution_count": 13,
     "metadata": {},
     "output_type": "execute_result"
    }
   ],
   "source": [
    "import pandas as pd\n",
    "reform = {(outerKey, innerKey): values for outerKey, innerDict in trainer.epoch_state.items() for innerKey, values in innerDict.items()}\n",
    "pd.DataFrame(reform).T"
   ]
  },
  {
   "cell_type": "code",
   "execution_count": null,
   "metadata": {},
   "outputs": [],
   "source": []
  }
 ],
 "metadata": {
  "kernelspec": {
   "display_name": "Environment (conda_pytorch_p36)",
   "language": "python",
   "name": "conda_pytorch_p36"
  },
  "language_info": {
   "codemirror_mode": {
    "name": "ipython",
    "version": 3
   },
   "file_extension": ".py",
   "mimetype": "text/x-python",
   "name": "python",
   "nbconvert_exporter": "python",
   "pygments_lexer": "ipython3",
   "version": "3.6.5"
  }
 },
 "nbformat": 4,
 "nbformat_minor": 2
}
