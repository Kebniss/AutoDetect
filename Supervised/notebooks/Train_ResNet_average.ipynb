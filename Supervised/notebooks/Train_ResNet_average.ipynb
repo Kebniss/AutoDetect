{
 "cells": [
  {
   "cell_type": "code",
   "execution_count": 1,
   "metadata": {
    "collapsed": true
   },
   "outputs": [],
   "source": [
    "import torch\n",
    "from torch import nn\n",
    "\n",
    "import torchvision\n",
    "from torchvision.datasets import ImageFolder\n",
    "\n",
    "from torchvision import transforms\n",
    "\n",
    "from torch.utils.data import DataLoader\n",
    "from pathlib import Path\n",
    "from torchvision.models import resnet101"
   ]
  },
  {
   "cell_type": "code",
   "execution_count": 2,
   "metadata": {
    "collapsed": true
   },
   "outputs": [],
   "source": [
    "import sys\n",
    "sys.path.append(\"..\")"
   ]
  },
  {
   "cell_type": "code",
   "execution_count": 3,
   "metadata": {
    "collapsed": true
   },
   "outputs": [],
   "source": [
    "from video_classification.datasets import FolderOfFrameFoldersDataset, FrameWindowDataset"
   ]
  },
  {
   "cell_type": "code",
   "execution_count": 4,
   "metadata": {
    "collapsed": true
   },
   "outputs": [],
   "source": [
    "device = torch.device(\"cuda\" if torch.cuda.is_available() else \"cpu\")"
   ]
  },
  {
   "cell_type": "code",
   "execution_count": 5,
   "metadata": {
    "collapsed": true
   },
   "outputs": [],
   "source": [
    "ROOT = Path(\"/home/ubuntu/SupervisedVideoClassification\")\n",
    "DATA_ROOT = Path(ROOT/\"data\")"
   ]
  },
  {
   "cell_type": "code",
   "execution_count": 6,
   "metadata": {
    "collapsed": true
   },
   "outputs": [],
   "source": [
    "train_transforms = transforms.Compose([\n",
    "    torchvision.transforms.ColorJitter(),\n",
    "    transforms.RandomHorizontalFlip(p=0.25),\n",
    "    transforms.RandomVerticalFlip(p=0.25),\n",
    "    transforms.ToTensor(),\n",
    "    transforms.Normalize(mean=[0.485, 0.456, 0.406],std=[0.229, 0.224, 0.225]),\n",
    "])\n",
    "\n",
    "valid_transforms = transforms.Compose([\n",
    "    transforms.ToTensor(),\n",
    "    transforms.Normalize(mean=[0.485, 0.456, 0.406],std=[0.229, 0.224, 0.225]),\n",
    "])"
   ]
  },
  {
   "cell_type": "code",
   "execution_count": 7,
   "metadata": {
    "collapsed": true
   },
   "outputs": [],
   "source": [
    "train_ds = FolderOfFrameFoldersDataset(DATA_ROOT/'train', \n",
    "                                       transform=train_transforms, \n",
    "                                       base_class=FrameWindowDataset,\n",
    "                                       window_size=3,\n",
    "                                       overlapping=True,)\n",
    "valid_ds = FolderOfFrameFoldersDataset(DATA_ROOT/'validation', \n",
    "                                       transform=valid_transforms, \n",
    "                                       base_class=FrameWindowDataset,\n",
    "                                       window_size=3,\n",
    "                                       overlapping=True,)"
   ]
  },
  {
   "cell_type": "code",
   "execution_count": 8,
   "metadata": {
    "collapsed": true
   },
   "outputs": [],
   "source": [
    "from torch import nn\n",
    "from torchvision.models import resnet101\n",
    "from video_classification.models.mlp import MLP\n",
    "\n",
    "\n",
    "class SingleImageResNetModel(nn.Module):\n",
    "    def __init__(self, mlp_sizes=[768, 128, 2]):\n",
    "        super().__init__()\n",
    "        resnet = resnet101(pretrained=True)\n",
    "        modules = list(resnet.children())[:-1]\n",
    "        self.resnet = nn.Sequential(*modules)\n",
    "\n",
    "        self.clf = MLP(2048, mlp_sizes)\n",
    "        self.freeze_resnet()\n",
    "\n",
    "    def forward(self, x):\n",
    "        x = self.resnet(x).squeeze()\n",
    "        x = self.clf(x)\n",
    "        return x\n",
    "\n",
    "    def freeze_resnet(self):\n",
    "        for p in self.resnet.parameters():\n",
    "            p.requires_grad = False\n",
    "\n",
    "    def unfreeze_resnet(self):\n",
    "        for p in self.resnet.parameters():\n",
    "            p.requires_grad = True\n"
   ]
  },
  {
   "cell_type": "code",
   "execution_count": 9,
   "metadata": {
    "collapsed": true
   },
   "outputs": [],
   "source": [
    "from torch import nn\n",
    "\n",
    "\n",
    "class AverageImagesModel(nn.Module):\n",
    "    def __init__(self, mlp_sizes=[768, 128, 2]):\n",
    "        super().__init__()\n",
    "        self.single_image_model = SingleImageResNetModel(mlp_sizes)\n",
    "\n",
    "    def forward(self, x):\n",
    "        # x is of size (B, T, C, H, W)\n",
    "        x = x.mean(1)  # We average all images in axis T\n",
    "        x = self.single_image_model(x)  # and then it's business as usual\n",
    "        return x\n",
    "\n",
    "    def freeze_vgg(self):\n",
    "        # Freeze the VGG classifier\n",
    "        self.single_image_model.freeze_vgg()\n",
    "\n",
    "    def unfreeze_vgg(self):\n",
    "        self.single_image_model.unfreeze_vgg()\n"
   ]
  },
  {
   "cell_type": "code",
   "execution_count": 10,
   "metadata": {
    "collapsed": true
   },
   "outputs": [],
   "source": [
    "model = AverageImagesModel(\n",
    "                 mlp_sizes=[1024, 256, 2]\n",
    ")\n",
    "\n",
    "model = model.to(device)"
   ]
  },
  {
   "cell_type": "code",
   "execution_count": 11,
   "metadata": {
    "collapsed": true
   },
   "outputs": [],
   "source": [
    "x = torch.stack([train_ds[0][0], train_ds[1][0], train_ds[2][0], train_ds[3][0]]).to(device)"
   ]
  },
  {
   "cell_type": "code",
   "execution_count": 12,
   "metadata": {},
   "outputs": [
    {
     "data": {
      "text/plain": [
       "tensor([[-0.0064,  0.2145],\n",
       "        [ 0.3605,  0.3722],\n",
       "        [-0.1629,  0.2921],\n",
       "        [-0.4763,  0.1611]], device='cuda:0', grad_fn=<AddmmBackward>)"
      ]
     },
     "execution_count": 12,
     "metadata": {},
     "output_type": "execute_result"
    }
   ],
   "source": [
    "model(x)"
   ]
  },
  {
   "cell_type": "code",
   "execution_count": 13,
   "metadata": {
    "collapsed": true
   },
   "outputs": [],
   "source": [
    "from video_classification.trainer import Trainer\n",
    "\n",
    "classes_weights = torch.Tensor([0.3, 1.0]).to(device)\n",
    "criterion = nn.CrossEntropyLoss(weight=classes_weights)"
   ]
  },
  {
   "cell_type": "code",
   "execution_count": 14,
   "metadata": {},
   "outputs": [
    {
     "name": "stdout",
     "output_type": "stream",
     "text": [
      "Selected optimization level O1:  Insert automatic casts around Pytorch functions and Tensor methods.\n",
      "\n",
      "Defaults for this optimization level are:\n",
      "enabled                : True\n",
      "opt_level              : O1\n",
      "cast_model_type        : None\n",
      "patch_torch_functions  : True\n",
      "keep_batchnorm_fp32    : None\n",
      "master_weights         : None\n",
      "loss_scale             : dynamic\n",
      "Processing user overrides (additional kwargs that are not None)...\n",
      "After processing overrides, optimization options are:\n",
      "enabled                : True\n",
      "opt_level              : O1\n",
      "cast_model_type        : None\n",
      "patch_torch_functions  : True\n",
      "keep_batchnorm_fp32    : None\n",
      "master_weights         : None\n",
      "loss_scale             : dynamic\n"
     ]
    }
   ],
   "source": [
    "trainer = Trainer(train_ds, \n",
    "                  valid_ds, \n",
    "                  model, \n",
    "                  criterion,\n",
    "                  \"multi_frame_resnet101_from_scratch\",\n",
    "                  str(ROOT/'checkpoints'),\n",
    "                  device=device,\n",
    "                  amp_opt_level=\"O1\",\n",
    "                  cycle_mult=0.9,\n",
    "                 )"
   ]
  },
  {
   "cell_type": "code",
   "execution_count": 15,
   "metadata": {},
   "outputs": [
    {
     "name": "stderr",
     "output_type": "stream",
     "text": [
      "/home/ubuntu/anaconda3/envs/pytorch_p36/lib/python3.6/site-packages/tqdm/autonotebook/__init__.py:14: TqdmExperimentalWarning: Using `tqdm.autonotebook.tqdm` in notebook mode. Use `tqdm.tqdm` instead to force console mode (e.g. in jupyter console)\n",
      "  \" (e.g. in jupyter console)\", TqdmExperimentalWarning)\n"
     ]
    },
    {
     "data": {
      "application/vnd.jupyter.widget-view+json": {
       "model_id": "",
       "version_major": 2,
       "version_minor": 0
      },
      "text/plain": [
       "HBox(children=(IntProgress(value=0, max=417), HTML(value='')))"
      ]
     },
     "metadata": {},
     "output_type": "display_data"
    },
    {
     "name": "stdout",
     "output_type": "stream",
     "text": [
      "Training Results - Epoch: 1: Avg accuracy: 0.91 |Precision: 0.96, 0.42 |Recall: 0.94, 0.56 | F1: 0.72 | Avg loss: 0.38\n",
      "Validation Results - Epoch: 1: Avg accuracy: 0.73 |Precision: 0.93, 0.15 |Recall: 0.77, 0.41 | F1: 0.53 | Avg loss: 0.55\n"
     ]
    },
    {
     "data": {
      "application/vnd.jupyter.widget-view+json": {
       "model_id": "",
       "version_major": 2,
       "version_minor": 0
      },
      "text/plain": [
       "HBox(children=(IntProgress(value=0, max=417), HTML(value='')))"
      ]
     },
     "metadata": {},
     "output_type": "display_data"
    },
    {
     "name": "stdout",
     "output_type": "stream",
     "text": [
      "Training Results - Epoch: 2: Avg accuracy: 0.86 |Precision: 0.97, 0.30 |Recall: 0.87, 0.71 | F1: 0.67 | Avg loss: 0.38\n",
      "Validation Results - Epoch: 2: Avg accuracy: 0.52 |Precision: 0.95, 0.12 |Recall: 0.50, 0.73 | F1: 0.43 | Avg loss: 0.78\n"
     ]
    },
    {
     "data": {
      "application/vnd.jupyter.widget-view+json": {
       "model_id": "",
       "version_major": 2,
       "version_minor": 0
      },
      "text/plain": [
       "HBox(children=(IntProgress(value=0, max=417), HTML(value='')))"
      ]
     },
     "metadata": {},
     "output_type": "display_data"
    },
    {
     "name": "stdout",
     "output_type": "stream",
     "text": [
      "Training Results - Epoch: 3: Avg accuracy: 0.95 |Precision: 0.96, 0.82 |Recall: 0.99, 0.42 | F1: 0.77 | Avg loss: 0.29\n",
      "Validation Results - Epoch: 3: Avg accuracy: 0.93 |Precision: 0.93, 0.79 |Recall: 0.99, 0.27 | F1: 0.69 | Avg loss: 0.43\n"
     ]
    },
    {
     "data": {
      "application/vnd.jupyter.widget-view+json": {
       "model_id": "",
       "version_major": 2,
       "version_minor": 0
      },
      "text/plain": [
       "HBox(children=(IntProgress(value=0, max=417), HTML(value='')))"
      ]
     },
     "metadata": {},
     "output_type": "display_data"
    },
    {
     "name": "stdout",
     "output_type": "stream",
     "text": [
      "Training Results - Epoch: 4: Avg accuracy: 0.94 |Precision: 0.96, 0.59 |Recall: 0.97, 0.51 | F1: 0.76 | Avg loss: 0.29\n",
      "Validation Results - Epoch: 4: Avg accuracy: 0.87 |Precision: 0.93, 0.28 |Recall: 0.92, 0.32 | F1: 0.61 | Avg loss: 0.50\n"
     ]
    },
    {
     "data": {
      "application/vnd.jupyter.widget-view+json": {
       "model_id": "",
       "version_major": 2,
       "version_minor": 0
      },
      "text/plain": [
       "HBox(children=(IntProgress(value=0, max=417), HTML(value='')))"
      ]
     },
     "metadata": {},
     "output_type": "display_data"
    },
    {
     "name": "stdout",
     "output_type": "stream",
     "text": [
      "Training Results - Epoch: 5: Avg accuracy: 0.94 |Precision: 0.97, 0.62 |Recall: 0.97, 0.57 | F1: 0.78 | Avg loss: 0.26\n",
      "Validation Results - Epoch: 5: Avg accuracy: 0.88 |Precision: 0.94, 0.32 |Recall: 0.93, 0.33 | F1: 0.63 | Avg loss: 0.47\n"
     ]
    },
    {
     "data": {
      "application/vnd.jupyter.widget-view+json": {
       "model_id": "",
       "version_major": 2,
       "version_minor": 0
      },
      "text/plain": [
       "HBox(children=(IntProgress(value=0, max=417), HTML(value='')))"
      ]
     },
     "metadata": {},
     "output_type": "display_data"
    },
    {
     "name": "stdout",
     "output_type": "stream",
     "text": [
      "Training Results - Epoch: 6: Avg accuracy: 0.95 |Precision: 0.97, 0.70 |Recall: 0.98, 0.58 | F1: 0.80 | Avg loss: 0.25\n",
      "Validation Results - Epoch: 6: Avg accuracy: 0.93 |Precision: 0.93, 0.72 |Recall: 0.99, 0.28 | F1: 0.68 | Avg loss: 0.45\n"
     ]
    },
    {
     "data": {
      "application/vnd.jupyter.widget-view+json": {
       "model_id": "",
       "version_major": 2,
       "version_minor": 0
      },
      "text/plain": [
       "HBox(children=(IntProgress(value=0, max=417), HTML(value='')))"
      ]
     },
     "metadata": {},
     "output_type": "display_data"
    },
    {
     "name": "stdout",
     "output_type": "stream",
     "text": [
      "Training Results - Epoch: 7: Avg accuracy: 0.94 |Precision: 0.97, 0.58 |Recall: 0.96, 0.63 | F1: 0.78 | Avg loss: 0.25\n",
      "Validation Results - Epoch: 7: Avg accuracy: 0.91 |Precision: 0.93, 0.48 |Recall: 0.97, 0.29 | F1: 0.66 | Avg loss: 0.54\n"
     ]
    },
    {
     "data": {
      "application/vnd.jupyter.widget-view+json": {
       "model_id": "",
       "version_major": 2,
       "version_minor": 0
      },
      "text/plain": [
       "HBox(children=(IntProgress(value=0, max=417), HTML(value='')))"
      ]
     },
     "metadata": {},
     "output_type": "display_data"
    },
    {
     "name": "stdout",
     "output_type": "stream",
     "text": [
      "Gradient overflow.  Skipping step, loss scaler 0 reducing loss scale to 65536.0\n",
      "Training Results - Epoch: 8: Avg accuracy: 0.93 |Precision: 0.97, 0.54 |Recall: 0.95, 0.66 | F1: 0.78 | Avg loss: 0.25\n",
      "Validation Results - Epoch: 8: Avg accuracy: 0.84 |Precision: 0.94, 0.23 |Recall: 0.88, 0.37 | F1: 0.60 | Avg loss: 0.65\n"
     ]
    },
    {
     "data": {
      "application/vnd.jupyter.widget-view+json": {
       "model_id": "",
       "version_major": 2,
       "version_minor": 0
      },
      "text/plain": [
       "HBox(children=(IntProgress(value=0, max=417), HTML(value='')))"
      ]
     },
     "metadata": {},
     "output_type": "display_data"
    },
    {
     "name": "stdout",
     "output_type": "stream",
     "text": [
      "Training Results - Epoch: 9: Avg accuracy: 0.95 |Precision: 0.97, 0.63 |Recall: 0.97, 0.65 | F1: 0.81 | Avg loss: 0.24\n",
      "Validation Results - Epoch: 9: Avg accuracy: 0.91 |Precision: 0.94, 0.51 |Recall: 0.97, 0.32 | F1: 0.67 | Avg loss: 0.42\n"
     ]
    },
    {
     "data": {
      "application/vnd.jupyter.widget-view+json": {
       "model_id": "",
       "version_major": 2,
       "version_minor": 0
      },
      "text/plain": [
       "HBox(children=(IntProgress(value=0, max=417), HTML(value='')))"
      ]
     },
     "metadata": {},
     "output_type": "display_data"
    },
    {
     "name": "stdout",
     "output_type": "stream",
     "text": [
      "Training Results - Epoch: 10: Avg accuracy: 0.94 |Precision: 0.97, 0.60 |Recall: 0.96, 0.67 | F1: 0.80 | Avg loss: 0.23\n",
      "Validation Results - Epoch: 10: Avg accuracy: 0.90 |Precision: 0.93, 0.38 |Recall: 0.95, 0.30 | F1: 0.64 | Avg loss: 0.52\n"
     ]
    },
    {
     "data": {
      "application/vnd.jupyter.widget-view+json": {
       "model_id": "",
       "version_major": 2,
       "version_minor": 0
      },
      "text/plain": [
       "HBox(children=(IntProgress(value=0, max=417), HTML(value='')))"
      ]
     },
     "metadata": {},
     "output_type": "display_data"
    },
    {
     "name": "stdout",
     "output_type": "stream",
     "text": [
      "Training Results - Epoch: 11: Avg accuracy: 0.94 |Precision: 0.97, 0.59 |Recall: 0.96, 0.68 | F1: 0.80 | Avg loss: 0.23\n",
      "Validation Results - Epoch: 11: Avg accuracy: 0.92 |Precision: 0.94, 0.54 |Recall: 0.97, 0.32 | F1: 0.68 | Avg loss: 0.43\n"
     ]
    },
    {
     "data": {
      "application/vnd.jupyter.widget-view+json": {
       "model_id": "",
       "version_major": 2,
       "version_minor": 0
      },
      "text/plain": [
       "HBox(children=(IntProgress(value=0, max=417), HTML(value='')))"
      ]
     },
     "metadata": {},
     "output_type": "display_data"
    },
    {
     "name": "stdout",
     "output_type": "stream",
     "text": [
      "Training Results - Epoch: 12: Avg accuracy: 0.96 |Precision: 0.97, 0.75 |Recall: 0.98, 0.60 | F1: 0.82 | Avg loss: 0.22\n",
      "Validation Results - Epoch: 12: Avg accuracy: 0.92 |Precision: 0.94, 0.54 |Recall: 0.97, 0.32 | F1: 0.68 | Avg loss: 0.46\n"
     ]
    },
    {
     "data": {
      "application/vnd.jupyter.widget-view+json": {
       "model_id": "",
       "version_major": 2,
       "version_minor": 0
      },
      "text/plain": [
       "HBox(children=(IntProgress(value=0, max=417), HTML(value='')))"
      ]
     },
     "metadata": {},
     "output_type": "display_data"
    },
    {
     "name": "stdout",
     "output_type": "stream",
     "text": [
      "Training Results - Epoch: 13: Avg accuracy: 0.95 |Precision: 0.97, 0.74 |Recall: 0.98, 0.59 | F1: 0.82 | Avg loss: 0.23\n",
      "Validation Results - Epoch: 13: Avg accuracy: 0.92 |Precision: 0.93, 0.68 |Recall: 0.99, 0.27 | F1: 0.67 | Avg loss: 0.57\n"
     ]
    },
    {
     "data": {
      "application/vnd.jupyter.widget-view+json": {
       "model_id": "",
       "version_major": 2,
       "version_minor": 0
      },
      "text/plain": [
       "HBox(children=(IntProgress(value=0, max=417), HTML(value='')))"
      ]
     },
     "metadata": {},
     "output_type": "display_data"
    },
    {
     "name": "stdout",
     "output_type": "stream",
     "text": [
      "Training Results - Epoch: 14: Avg accuracy: 0.95 |Precision: 0.98, 0.67 |Recall: 0.97, 0.70 | F1: 0.83 | Avg loss: 0.21\n",
      "Validation Results - Epoch: 14: Avg accuracy: 0.91 |Precision: 0.94, 0.52 |Recall: 0.97, 0.31 | F1: 0.67 | Avg loss: 0.52\n"
     ]
    },
    {
     "data": {
      "application/vnd.jupyter.widget-view+json": {
       "model_id": "",
       "version_major": 2,
       "version_minor": 0
      },
      "text/plain": [
       "HBox(children=(IntProgress(value=0, max=417), HTML(value='')))"
      ]
     },
     "metadata": {},
     "output_type": "display_data"
    },
    {
     "name": "stdout",
     "output_type": "stream",
     "text": [
      "Training Results - Epoch: 15: Avg accuracy: 0.95 |Precision: 0.97, 0.66 |Recall: 0.97, 0.67 | F1: 0.82 | Avg loss: 0.21\n",
      "Validation Results - Epoch: 15: Avg accuracy: 0.88 |Precision: 0.93, 0.30 |Recall: 0.93, 0.31 | F1: 0.62 | Avg loss: 0.58\n"
     ]
    },
    {
     "data": {
      "application/vnd.jupyter.widget-view+json": {
       "model_id": "",
       "version_major": 2,
       "version_minor": 0
      },
      "text/plain": [
       "HBox(children=(IntProgress(value=0, max=417), HTML(value='')))"
      ]
     },
     "metadata": {},
     "output_type": "display_data"
    },
    {
     "name": "stdout",
     "output_type": "stream",
     "text": [
      "Training Results - Epoch: 16: Avg accuracy: 0.95 |Precision: 0.98, 0.63 |Recall: 0.97, 0.69 | F1: 0.81 | Avg loss: 0.21\n",
      "Validation Results - Epoch: 16: Avg accuracy: 0.89 |Precision: 0.94, 0.37 |Recall: 0.95, 0.33 | F1: 0.64 | Avg loss: 0.52\n"
     ]
    },
    {
     "data": {
      "application/vnd.jupyter.widget-view+json": {
       "model_id": "",
       "version_major": 2,
       "version_minor": 0
      },
      "text/plain": [
       "HBox(children=(IntProgress(value=0, max=417), HTML(value='')))"
      ]
     },
     "metadata": {},
     "output_type": "display_data"
    },
    {
     "name": "stdout",
     "output_type": "stream",
     "text": [
      "Training Results - Epoch: 17: Avg accuracy: 0.96 |Precision: 0.97, 0.74 |Recall: 0.98, 0.65 | F1: 0.84 | Avg loss: 0.20\n",
      "Validation Results - Epoch: 17: Avg accuracy: 0.92 |Precision: 0.93, 0.56 |Recall: 0.98, 0.30 | F1: 0.67 | Avg loss: 0.51\n"
     ]
    },
    {
     "data": {
      "application/vnd.jupyter.widget-view+json": {
       "model_id": "",
       "version_major": 2,
       "version_minor": 0
      },
      "text/plain": [
       "HBox(children=(IntProgress(value=0, max=417), HTML(value='')))"
      ]
     },
     "metadata": {},
     "output_type": "display_data"
    },
    {
     "name": "stdout",
     "output_type": "stream",
     "text": [
      "Gradient overflow.  Skipping step, loss scaler 0 reducing loss scale to 131072.0\n",
      "Training Results - Epoch: 18: Avg accuracy: 0.96 |Precision: 0.97, 0.71 |Recall: 0.98, 0.68 | F1: 0.84 | Avg loss: 0.20\n",
      "Validation Results - Epoch: 18: Avg accuracy: 0.92 |Precision: 0.94, 0.62 |Recall: 0.98, 0.30 | F1: 0.68 | Avg loss: 0.49\n"
     ]
    },
    {
     "data": {
      "application/vnd.jupyter.widget-view+json": {
       "model_id": "",
       "version_major": 2,
       "version_minor": 0
      },
      "text/plain": [
       "HBox(children=(IntProgress(value=0, max=417), HTML(value='')))"
      ]
     },
     "metadata": {},
     "output_type": "display_data"
    },
    {
     "name": "stdout",
     "output_type": "stream",
     "text": [
      "Training Results - Epoch: 19: Avg accuracy: 0.96 |Precision: 0.97, 0.73 |Recall: 0.98, 0.68 | F1: 0.84 | Avg loss: 0.20\n",
      "Validation Results - Epoch: 19: Avg accuracy: 0.91 |Precision: 0.94, 0.51 |Recall: 0.97, 0.33 | F1: 0.68 | Avg loss: 0.45\n"
     ]
    },
    {
     "data": {
      "application/vnd.jupyter.widget-view+json": {
       "model_id": "",
       "version_major": 2,
       "version_minor": 0
      },
      "text/plain": [
       "HBox(children=(IntProgress(value=0, max=417), HTML(value='')))"
      ]
     },
     "metadata": {},
     "output_type": "display_data"
    },
    {
     "name": "stdout",
     "output_type": "stream",
     "text": [
      "Training Results - Epoch: 20: Avg accuracy: 0.95 |Precision: 0.97, 0.70 |Recall: 0.98, 0.67 | F1: 0.83 | Avg loss: 0.20\n",
      "Validation Results - Epoch: 20: Avg accuracy: 0.91 |Precision: 0.93, 0.51 |Recall: 0.97, 0.30 | F1: 0.67 | Avg loss: 0.56\n"
     ]
    }
   ],
   "source": [
    "trainer.train(lr=1e-3, \n",
    "              batch_size=64, \n",
    "              n_epochs=20,\n",
    "              gradient_accumulation_steps=4,\n",
    "              num_workers=8,\n",
    "              max_gradient_norm=2.0,\n",
    "             )"
   ]
  },
  {
   "cell_type": "code",
   "execution_count": 16,
   "metadata": {
    "scrolled": false
   },
   "outputs": [
    {
     "data": {
      "text/html": [
       "<div>\n",
       "<style scoped>\n",
       "    .dataframe tbody tr th:only-of-type {\n",
       "        vertical-align: middle;\n",
       "    }\n",
       "\n",
       "    .dataframe tbody tr th {\n",
       "        vertical-align: top;\n",
       "    }\n",
       "\n",
       "    .dataframe thead th {\n",
       "        text-align: right;\n",
       "    }\n",
       "</style>\n",
       "<table border=\"1\" class=\"dataframe\">\n",
       "  <thead>\n",
       "    <tr style=\"text-align: right;\">\n",
       "      <th></th>\n",
       "      <th></th>\n",
       "      <th>accuracy</th>\n",
       "      <th>f1</th>\n",
       "      <th>nll</th>\n",
       "      <th>precision</th>\n",
       "      <th>recall</th>\n",
       "    </tr>\n",
       "  </thead>\n",
       "  <tbody>\n",
       "    <tr>\n",
       "      <th rowspan=\"2\" valign=\"top\">1</th>\n",
       "      <th>train</th>\n",
       "      <td>0.910991</td>\n",
       "      <td>0.716367</td>\n",
       "      <td>0.37695</td>\n",
       "      <td>[0.9641000041599068, 0.4218390804597701]</td>\n",
       "      <td>[0.938869758962933, 0.5605906313645621]</td>\n",
       "    </tr>\n",
       "    <tr>\n",
       "      <th>test</th>\n",
       "      <td>0.734655</td>\n",
       "      <td>0.528013</td>\n",
       "      <td>0.549095</td>\n",
       "      <td>[0.9308211473565804, 0.1459915611814346]</td>\n",
       "      <td>[0.7658491439148543, 0.4128878281622912]</td>\n",
       "    </tr>\n",
       "    <tr>\n",
       "      <th rowspan=\"2\" valign=\"top\">2</th>\n",
       "      <th>train</th>\n",
       "      <td>0.857893</td>\n",
       "      <td>0.672003</td>\n",
       "      <td>0.379128</td>\n",
       "      <td>[0.9743938981204031, 0.30283365779796667]</td>\n",
       "      <td>[0.8694348794814665, 0.7128309572301426]</td>\n",
       "    </tr>\n",
       "    <tr>\n",
       "      <th>test</th>\n",
       "      <td>0.521831</td>\n",
       "      <td>0.434401</td>\n",
       "      <td>0.778723</td>\n",
       "      <td>[0.9500657030223391, 0.1240846216436127]</td>\n",
       "      <td>[0.501850994909764, 0.7279236276849642]</td>\n",
       "    </tr>\n",
       "    <tr>\n",
       "      <th rowspan=\"2\" valign=\"top\">3</th>\n",
       "      <th>train</th>\n",
       "      <td>0.950805</td>\n",
       "      <td>0.766638</td>\n",
       "      <td>0.289522</td>\n",
       "      <td>[0.9558467899212107, 0.8229475766567754]</td>\n",
       "      <td>[0.992748632772939, 0.42362525458248473]</td>\n",
       "    </tr>\n",
       "    <tr>\n",
       "      <th>test</th>\n",
       "      <td>0.929551</td>\n",
       "      <td>0.685175</td>\n",
       "      <td>0.430452</td>\n",
       "      <td>[0.9338555265448216, 0.7931034482758621]</td>\n",
       "      <td>[0.993058769088385, 0.2744630071599045]</td>\n",
       "    </tr>\n",
       "    <tr>\n",
       "      <th rowspan=\"2\" valign=\"top\">4</th>\n",
       "      <th>train</th>\n",
       "      <td>0.937709</td>\n",
       "      <td>0.757485</td>\n",
       "      <td>0.288317</td>\n",
       "      <td>[0.961663391747203, 0.5887850467289719]</td>\n",
       "      <td>[0.9714806562689893, 0.5132382892057027]</td>\n",
       "    </tr>\n",
       "    <tr>\n",
       "      <th>test</th>\n",
       "      <td>0.868171</td>\n",
       "      <td>0.614446</td>\n",
       "      <td>0.502802</td>\n",
       "      <td>[0.9334114888628371, 0.28361344537815125]</td>\n",
       "      <td>[0.9211013419713096, 0.3221957040572792]</td>\n",
       "    </tr>\n",
       "    <tr>\n",
       "      <th rowspan=\"2\" valign=\"top\">5</th>\n",
       "      <th>train</th>\n",
       "      <td>0.942212</td>\n",
       "      <td>0.781067</td>\n",
       "      <td>0.261921</td>\n",
       "      <td>[0.9661255890764088, 0.6163556531284303]</td>\n",
       "      <td>[0.9716832084261697, 0.5717922606924644]</td>\n",
       "    </tr>\n",
       "    <tr>\n",
       "      <th>test</th>\n",
       "      <td>0.878296</td>\n",
       "      <td>0.629911</td>\n",
       "      <td>0.469749</td>\n",
       "      <td>[0.9351615152219381, 0.319634703196347]</td>\n",
       "      <td>[0.9310504396112911, 0.3341288782816229]</td>\n",
       "    </tr>\n",
       "    <tr>\n",
       "      <th rowspan=\"2\" valign=\"top\">6</th>\n",
       "      <th>train</th>\n",
       "      <td>0.950317</td>\n",
       "      <td>0.802994</td>\n",
       "      <td>0.253573</td>\n",
       "      <td>[0.9670518613299213, 0.6951219512195121]</td>\n",
       "      <td>[0.9797447842819526, 0.5804480651731161]</td>\n",
       "    </tr>\n",
       "    <tr>\n",
       "      <th>test</th>\n",
       "      <td>0.926809</td>\n",
       "      <td>0.683918</td>\n",
       "      <td>0.447391</td>\n",
       "      <td>[0.9344262295081968, 0.7168674698795181]</td>\n",
       "      <td>[0.9891254049051366, 0.2840095465393795]</td>\n",
       "    </tr>\n",
       "    <tr>\n",
       "      <th rowspan=\"2\" valign=\"top\">7</th>\n",
       "      <th>train</th>\n",
       "      <td>0.938459</td>\n",
       "      <td>0.784201</td>\n",
       "      <td>0.248277</td>\n",
       "      <td>[0.9704021228822208, 0.575208913649025]</td>\n",
       "      <td>[0.9629329552359732, 0.6308553971486762]</td>\n",
       "    </tr>\n",
       "    <tr>\n",
       "      <th>test</th>\n",
       "      <td>0.909935</td>\n",
       "      <td>0.657587</td>\n",
       "      <td>0.537911</td>\n",
       "      <td>[0.9338382713299176, 0.48412698412698413]</td>\n",
       "      <td>[0.9699213327163351, 0.2911694510739857]</td>\n",
       "    </tr>\n",
       "    <tr>\n",
       "      <th rowspan=\"2\" valign=\"top\">8</th>\n",
       "      <th>train</th>\n",
       "      <td>0.933506</td>\n",
       "      <td>0.779697</td>\n",
       "      <td>0.245756</td>\n",
       "      <td>[0.9728034336180925, 0.5397022332506204]</td>\n",
       "      <td>[0.9549118898116264, 0.6644602851323829]</td>\n",
       "    </tr>\n",
       "    <tr>\n",
       "      <th>test</th>\n",
       "      <td>0.836954</td>\n",
       "      <td>0.596454</td>\n",
       "      <td>0.645272</td>\n",
       "      <td>[0.9350330963471439, 0.2326283987915408]</td>\n",
       "      <td>[0.8824618232299861, 0.36754176610978523]</td>\n",
       "    </tr>\n",
       "    <tr>\n",
       "      <th rowspan=\"2\" valign=\"top\">9</th>\n",
       "      <th>train</th>\n",
       "      <td>0.946377</td>\n",
       "      <td>0.805765</td>\n",
       "      <td>0.235605</td>\n",
       "      <td>[0.971953892361393, 0.6330183988065639]</td>\n",
       "      <td>[0.970103301600162, 0.6481670061099797]</td>\n",
       "    </tr>\n",
       "    <tr>\n",
       "      <th>test</th>\n",
       "      <td>0.912677</td>\n",
       "      <td>0.672958</td>\n",
       "      <td>0.415801</td>\n",
       "      <td>[0.9363555158552925, 0.5095057034220533]</td>\n",
       "      <td>[0.9701527070800555, 0.3198090692124105]</td>\n",
       "    </tr>\n",
       "    <tr>\n",
       "      <th rowspan=\"2\" valign=\"top\">10</th>\n",
       "      <th>train</th>\n",
       "      <td>0.942287</td>\n",
       "      <td>0.800721</td>\n",
       "      <td>0.233027</td>\n",
       "      <td>[0.9738382804503583, 0.595773381294964]</td>\n",
       "      <td>[0.9635811221389508, 0.674643584521385]</td>\n",
       "    </tr>\n",
       "    <tr>\n",
       "      <th>test</th>\n",
       "      <td>0.895381</td>\n",
       "      <td>0.639172</td>\n",
       "      <td>0.51999</td>\n",
       "      <td>[0.9333937471681015, 0.382262996941896]</td>\n",
       "      <td>[0.9532623785284591, 0.29832935560859186]</td>\n",
       "    </tr>\n",
       "    <tr>\n",
       "      <th rowspan=\"2\" valign=\"top\">11</th>\n",
       "      <th>train</th>\n",
       "      <td>0.941461</td>\n",
       "      <td>0.800052</td>\n",
       "      <td>0.230357</td>\n",
       "      <td>[0.9743589743589743, 0.588830255057168]</td>\n",
       "      <td>[0.9621227466072514, 0.6817718940936863]</td>\n",
       "    </tr>\n",
       "    <tr>\n",
       "      <th>test</th>\n",
       "      <td>0.916051</td>\n",
       "      <td>0.680402</td>\n",
       "      <td>0.427468</td>\n",
       "      <td>[0.9369710467706014, 0.5418326693227091]</td>\n",
       "      <td>[0.9733919481721425, 0.324582338902148]</td>\n",
       "    </tr>\n",
       "    <tr>\n",
       "      <th rowspan=\"2\" valign=\"top\">12</th>\n",
       "      <th>train</th>\n",
       "      <td>0.956208</td>\n",
       "      <td>0.823582</td>\n",
       "      <td>0.222684</td>\n",
       "      <td>[0.9690466693258876, 0.7523749208359721]</td>\n",
       "      <td>[0.9841604213084869, 0.604887983706721]</td>\n",
       "    </tr>\n",
       "    <tr>\n",
       "      <th>test</th>\n",
       "      <td>0.91563</td>\n",
       "      <td>0.676114</td>\n",
       "      <td>0.457568</td>\n",
       "      <td>[0.9361654804270463, 0.5387755102040817]</td>\n",
       "      <td>[0.9738546968995835, 0.315035799522673]</td>\n",
       "    </tr>\n",
       "    <tr>\n",
       "      <th rowspan=\"2\" valign=\"top\">13</th>\n",
       "      <th>train</th>\n",
       "      <td>0.95482</td>\n",
       "      <td>0.817077</td>\n",
       "      <td>0.232036</td>\n",
       "      <td>[0.9679540834628722, 0.7435897435897436]</td>\n",
       "      <td>[0.983795827425562, 0.5906313645621182]</td>\n",
       "    </tr>\n",
       "    <tr>\n",
       "      <th>test</th>\n",
       "      <td>0.924278</td>\n",
       "      <td>0.672987</td>\n",
       "      <td>0.57181</td>\n",
       "      <td>[0.9331147540983606, 0.6807228915662651]</td>\n",
       "      <td>[0.9877371587228135, 0.26968973747016706]</td>\n",
       "    </tr>\n",
       "    <tr>\n",
       "      <th rowspan=\"2\" valign=\"top\">14</th>\n",
       "      <th>train</th>\n",
       "      <td>0.952268</td>\n",
       "      <td>0.828414</td>\n",
       "      <td>0.211018</td>\n",
       "      <td>[0.9757772810404389, 0.6692759295499021]</td>\n",
       "      <td>[0.9726149483491999, 0.6965376782077393]</td>\n",
       "    </tr>\n",
       "    <tr>\n",
       "      <th>test</th>\n",
       "      <td>0.91352</td>\n",
       "      <td>0.668939</td>\n",
       "      <td>0.517782</td>\n",
       "      <td>[0.9352469959946595, 0.5182186234817814]</td>\n",
       "      <td>[0.9724664507172606, 0.3054892601431981]</td>\n",
       "    </tr>\n",
       "    <tr>\n",
       "      <th rowspan=\"2\" valign=\"top\">15</th>\n",
       "      <th>train</th>\n",
       "      <td>0.950129</td>\n",
       "      <td>0.819358</td>\n",
       "      <td>0.211747</td>\n",
       "      <td>[0.973983277863463, 0.6578816509199403]</td>\n",
       "      <td>[0.9721288231719668, 0.6736252545824847]</td>\n",
       "    </tr>\n",
       "    <tr>\n",
       "      <th>test</th>\n",
       "      <td>0.875976</td>\n",
       "      <td>0.620058</td>\n",
       "      <td>0.578824</td>\n",
       "      <td>[0.9331786542923434, 0.3039443155452436]</td>\n",
       "      <td>[0.9305876908838501, 0.3126491646778043]</td>\n",
       "    </tr>\n",
       "    <tr>\n",
       "      <th rowspan=\"2\" valign=\"top\">16</th>\n",
       "      <th>train</th>\n",
       "      <td>0.94679</td>\n",
       "      <td>0.813909</td>\n",
       "      <td>0.212972</td>\n",
       "      <td>[0.9751664420209941, 0.6260387811634349]</td>\n",
       "      <td>[0.9671865505367632, 0.6904276985743381]</td>\n",
       "    </tr>\n",
       "    <tr>\n",
       "      <th>test</th>\n",
       "      <td>0.891162</td>\n",
       "      <td>0.643735</td>\n",
       "      <td>0.516924</td>\n",
       "      <td>[0.9354691075514874, 0.3692722371967655]</td>\n",
       "      <td>[0.945858398889403, 0.3269689737470167]</td>\n",
       "    </tr>\n",
       "    <tr>\n",
       "      <th rowspan=\"2\" valign=\"top\">17</th>\n",
       "      <th>train</th>\n",
       "      <td>0.957747</td>\n",
       "      <td>0.836159</td>\n",
       "      <td>0.203194</td>\n",
       "      <td>[0.9726736487299867, 0.7424768518518519]</td>\n",
       "      <td>[0.9819728580109378, 0.6532586558044806]</td>\n",
       "    </tr>\n",
       "    <tr>\n",
       "      <th>test</th>\n",
       "      <td>0.917317</td>\n",
       "      <td>0.672532</td>\n",
       "      <td>0.514596</td>\n",
       "      <td>[0.9349269588313412, 0.5605381165919282]</td>\n",
       "      <td>[0.977325312355391, 0.29832935560859186]</td>\n",
       "    </tr>\n",
       "    <tr>\n",
       "      <th rowspan=\"2\" valign=\"top\">18</th>\n",
       "      <th>train</th>\n",
       "      <td>0.956058</td>\n",
       "      <td>0.83549</td>\n",
       "      <td>0.201526</td>\n",
       "      <td>[0.9744935023004277, 0.711918760021379]</td>\n",
       "      <td>[0.9781648774559449, 0.6782077393075356]</td>\n",
       "    </tr>\n",
       "    <tr>\n",
       "      <th>test</th>\n",
       "      <td>0.921746</td>\n",
       "      <td>0.681308</td>\n",
       "      <td>0.487482</td>\n",
       "      <td>[0.9354198809786203, 0.6176470588235294]</td>\n",
       "      <td>[0.981952799629801, 0.30071599045346065]</td>\n",
       "    </tr>\n",
       "    <tr>\n",
       "      <th rowspan=\"2\" valign=\"top\">19</th>\n",
       "      <th>train</th>\n",
       "      <td>0.957972</td>\n",
       "      <td>0.841164</td>\n",
       "      <td>0.202719</td>\n",
       "      <td>[0.9747753556030141, 0.730349344978166]</td>\n",
       "      <td>[0.9799878468705692, 0.6812627291242362]</td>\n",
       "    </tr>\n",
       "    <tr>\n",
       "      <th>test</th>\n",
       "      <td>0.912466</td>\n",
       "      <td>0.676107</td>\n",
       "      <td>0.446676</td>\n",
       "      <td>[0.9371223987469233, 0.5073529411764706]</td>\n",
       "      <td>[0.968995835261453, 0.32935560859188545]</td>\n",
       "    </tr>\n",
       "    <tr>\n",
       "      <th rowspan=\"2\" valign=\"top\">20</th>\n",
       "      <th>train</th>\n",
       "      <td>0.954933</td>\n",
       "      <td>0.831922</td>\n",
       "      <td>0.204358</td>\n",
       "      <td>[0.9741943300218076, 0.7021727609962904]</td>\n",
       "      <td>[0.9772331375329147, 0.674643584521385]</td>\n",
       "    </tr>\n",
       "    <tr>\n",
       "      <th>test</th>\n",
       "      <td>0.913099</td>\n",
       "      <td>0.665466</td>\n",
       "      <td>0.561372</td>\n",
       "      <td>[0.9346376167185416, 0.51440329218107]</td>\n",
       "      <td>[0.972697825080981, 0.29832935560859186]</td>\n",
       "    </tr>\n",
       "  </tbody>\n",
       "</table>\n",
       "</div>"
      ],
      "text/plain": [
       "          accuracy        f1       nll  \\\n",
       "1  train  0.910991  0.716367   0.37695   \n",
       "   test   0.734655  0.528013  0.549095   \n",
       "2  train  0.857893  0.672003  0.379128   \n",
       "   test   0.521831  0.434401  0.778723   \n",
       "3  train  0.950805  0.766638  0.289522   \n",
       "   test   0.929551  0.685175  0.430452   \n",
       "4  train  0.937709  0.757485  0.288317   \n",
       "   test   0.868171  0.614446  0.502802   \n",
       "5  train  0.942212  0.781067  0.261921   \n",
       "   test   0.878296  0.629911  0.469749   \n",
       "6  train  0.950317  0.802994  0.253573   \n",
       "   test   0.926809  0.683918  0.447391   \n",
       "7  train  0.938459  0.784201  0.248277   \n",
       "   test   0.909935  0.657587  0.537911   \n",
       "8  train  0.933506  0.779697  0.245756   \n",
       "   test   0.836954  0.596454  0.645272   \n",
       "9  train  0.946377  0.805765  0.235605   \n",
       "   test   0.912677  0.672958  0.415801   \n",
       "10 train  0.942287  0.800721  0.233027   \n",
       "   test   0.895381  0.639172   0.51999   \n",
       "11 train  0.941461  0.800052  0.230357   \n",
       "   test   0.916051  0.680402  0.427468   \n",
       "12 train  0.956208  0.823582  0.222684   \n",
       "   test    0.91563  0.676114  0.457568   \n",
       "13 train   0.95482  0.817077  0.232036   \n",
       "   test   0.924278  0.672987   0.57181   \n",
       "14 train  0.952268  0.828414  0.211018   \n",
       "   test    0.91352  0.668939  0.517782   \n",
       "15 train  0.950129  0.819358  0.211747   \n",
       "   test   0.875976  0.620058  0.578824   \n",
       "16 train   0.94679  0.813909  0.212972   \n",
       "   test   0.891162  0.643735  0.516924   \n",
       "17 train  0.957747  0.836159  0.203194   \n",
       "   test   0.917317  0.672532  0.514596   \n",
       "18 train  0.956058   0.83549  0.201526   \n",
       "   test   0.921746  0.681308  0.487482   \n",
       "19 train  0.957972  0.841164  0.202719   \n",
       "   test   0.912466  0.676107  0.446676   \n",
       "20 train  0.954933  0.831922  0.204358   \n",
       "   test   0.913099  0.665466  0.561372   \n",
       "\n",
       "                                          precision  \\\n",
       "1  train   [0.9641000041599068, 0.4218390804597701]   \n",
       "   test    [0.9308211473565804, 0.1459915611814346]   \n",
       "2  train  [0.9743938981204031, 0.30283365779796667]   \n",
       "   test    [0.9500657030223391, 0.1240846216436127]   \n",
       "3  train   [0.9558467899212107, 0.8229475766567754]   \n",
       "   test    [0.9338555265448216, 0.7931034482758621]   \n",
       "4  train    [0.961663391747203, 0.5887850467289719]   \n",
       "   test   [0.9334114888628371, 0.28361344537815125]   \n",
       "5  train   [0.9661255890764088, 0.6163556531284303]   \n",
       "   test     [0.9351615152219381, 0.319634703196347]   \n",
       "6  train   [0.9670518613299213, 0.6951219512195121]   \n",
       "   test    [0.9344262295081968, 0.7168674698795181]   \n",
       "7  train    [0.9704021228822208, 0.575208913649025]   \n",
       "   test   [0.9338382713299176, 0.48412698412698413]   \n",
       "8  train   [0.9728034336180925, 0.5397022332506204]   \n",
       "   test    [0.9350330963471439, 0.2326283987915408]   \n",
       "9  train    [0.971953892361393, 0.6330183988065639]   \n",
       "   test    [0.9363555158552925, 0.5095057034220533]   \n",
       "10 train    [0.9738382804503583, 0.595773381294964]   \n",
       "   test     [0.9333937471681015, 0.382262996941896]   \n",
       "11 train    [0.9743589743589743, 0.588830255057168]   \n",
       "   test    [0.9369710467706014, 0.5418326693227091]   \n",
       "12 train   [0.9690466693258876, 0.7523749208359721]   \n",
       "   test    [0.9361654804270463, 0.5387755102040817]   \n",
       "13 train   [0.9679540834628722, 0.7435897435897436]   \n",
       "   test    [0.9331147540983606, 0.6807228915662651]   \n",
       "14 train   [0.9757772810404389, 0.6692759295499021]   \n",
       "   test    [0.9352469959946595, 0.5182186234817814]   \n",
       "15 train    [0.973983277863463, 0.6578816509199403]   \n",
       "   test    [0.9331786542923434, 0.3039443155452436]   \n",
       "16 train   [0.9751664420209941, 0.6260387811634349]   \n",
       "   test    [0.9354691075514874, 0.3692722371967655]   \n",
       "17 train   [0.9726736487299867, 0.7424768518518519]   \n",
       "   test    [0.9349269588313412, 0.5605381165919282]   \n",
       "18 train    [0.9744935023004277, 0.711918760021379]   \n",
       "   test    [0.9354198809786203, 0.6176470588235294]   \n",
       "19 train    [0.9747753556030141, 0.730349344978166]   \n",
       "   test    [0.9371223987469233, 0.5073529411764706]   \n",
       "20 train   [0.9741943300218076, 0.7021727609962904]   \n",
       "   test      [0.9346376167185416, 0.51440329218107]   \n",
       "\n",
       "                                             recall  \n",
       "1  train    [0.938869758962933, 0.5605906313645621]  \n",
       "   test    [0.7658491439148543, 0.4128878281622912]  \n",
       "2  train   [0.8694348794814665, 0.7128309572301426]  \n",
       "   test     [0.501850994909764, 0.7279236276849642]  \n",
       "3  train   [0.992748632772939, 0.42362525458248473]  \n",
       "   test     [0.993058769088385, 0.2744630071599045]  \n",
       "4  train   [0.9714806562689893, 0.5132382892057027]  \n",
       "   test    [0.9211013419713096, 0.3221957040572792]  \n",
       "5  train   [0.9716832084261697, 0.5717922606924644]  \n",
       "   test    [0.9310504396112911, 0.3341288782816229]  \n",
       "6  train   [0.9797447842819526, 0.5804480651731161]  \n",
       "   test    [0.9891254049051366, 0.2840095465393795]  \n",
       "7  train   [0.9629329552359732, 0.6308553971486762]  \n",
       "   test    [0.9699213327163351, 0.2911694510739857]  \n",
       "8  train   [0.9549118898116264, 0.6644602851323829]  \n",
       "   test   [0.8824618232299861, 0.36754176610978523]  \n",
       "9  train    [0.970103301600162, 0.6481670061099797]  \n",
       "   test    [0.9701527070800555, 0.3198090692124105]  \n",
       "10 train    [0.9635811221389508, 0.674643584521385]  \n",
       "   test   [0.9532623785284591, 0.29832935560859186]  \n",
       "11 train   [0.9621227466072514, 0.6817718940936863]  \n",
       "   test     [0.9733919481721425, 0.324582338902148]  \n",
       "12 train    [0.9841604213084869, 0.604887983706721]  \n",
       "   test     [0.9738546968995835, 0.315035799522673]  \n",
       "13 train    [0.983795827425562, 0.5906313645621182]  \n",
       "   test   [0.9877371587228135, 0.26968973747016706]  \n",
       "14 train   [0.9726149483491999, 0.6965376782077393]  \n",
       "   test    [0.9724664507172606, 0.3054892601431981]  \n",
       "15 train   [0.9721288231719668, 0.6736252545824847]  \n",
       "   test    [0.9305876908838501, 0.3126491646778043]  \n",
       "16 train   [0.9671865505367632, 0.6904276985743381]  \n",
       "   test     [0.945858398889403, 0.3269689737470167]  \n",
       "17 train   [0.9819728580109378, 0.6532586558044806]  \n",
       "   test    [0.977325312355391, 0.29832935560859186]  \n",
       "18 train   [0.9781648774559449, 0.6782077393075356]  \n",
       "   test    [0.981952799629801, 0.30071599045346065]  \n",
       "19 train   [0.9799878468705692, 0.6812627291242362]  \n",
       "   test    [0.968995835261453, 0.32935560859188545]  \n",
       "20 train    [0.9772331375329147, 0.674643584521385]  \n",
       "   test    [0.972697825080981, 0.29832935560859186]  "
      ]
     },
     "execution_count": 16,
     "metadata": {},
     "output_type": "execute_result"
    }
   ],
   "source": [
    "import pandas as pd\n",
    "reform = {(outerKey, innerKey): values for outerKey, innerDict in trainer.epoch_state.items() for innerKey, values in innerDict.items()}\n",
    "df = pd.DataFrame(reform).T\n",
    "df"
   ]
  },
  {
   "cell_type": "code",
   "execution_count": null,
   "metadata": {
    "collapsed": true
   },
   "outputs": [],
   "source": []
  }
 ],
 "metadata": {
  "kernelspec": {
   "display_name": "Insight",
   "language": "python",
   "name": "python3"
  },
  "language_info": {
   "codemirror_mode": {
    "name": "ipython",
    "version": 3
   },
   "file_extension": ".py",
   "mimetype": "text/x-python",
   "name": "python",
   "nbconvert_exporter": "python",
   "pygments_lexer": "ipython3",
   "version": "3.7.3"
  }
 },
 "nbformat": 4,
 "nbformat_minor": 2
}
