{
 "cells": [
  {
   "cell_type": "code",
   "execution_count": 1,
   "metadata": {
    "collapsed": true
   },
   "outputs": [],
   "source": [
    "import torch\n",
    "from torch import nn\n",
    "\n",
    "import torchvision\n",
    "from torchvision.datasets import ImageFolder\n",
    "\n",
    "from torchvision import transforms\n",
    "\n",
    "from torch.utils.data import DataLoader\n",
    "from pathlib import Path\n",
    "from torchvision.models import vgg16"
   ]
  },
  {
   "cell_type": "code",
   "execution_count": 2,
   "metadata": {
    "collapsed": true
   },
   "outputs": [],
   "source": [
    "import sys\n",
    "sys.path.append(\"..\")"
   ]
  },
  {
   "cell_type": "code",
   "execution_count": 3,
   "metadata": {
    "collapsed": true
   },
   "outputs": [],
   "source": [
    "from video_classification.datasets import FolderOfFrameFoldersDataset"
   ]
  },
  {
   "cell_type": "code",
   "execution_count": 4,
   "metadata": {
    "collapsed": true
   },
   "outputs": [],
   "source": [
    "device = torch.device(\"cuda\" if torch.cuda.is_available() else \"cpu\")"
   ]
  },
  {
   "cell_type": "code",
   "execution_count": 5,
   "metadata": {
    "collapsed": true
   },
   "outputs": [],
   "source": [
    "ROOT = Path(\"/home/ubuntu/SupervisedVideoClassification\")\n",
    "DATA_ROOT = Path(ROOT/\"data\")"
   ]
  },
  {
   "cell_type": "code",
   "execution_count": 6,
   "metadata": {
    "collapsed": true
   },
   "outputs": [],
   "source": [
    "train_transforms = transforms.Compose([\n",
    "    torchvision.transforms.ColorJitter(),\n",
    "    transforms.RandomHorizontalFlip(p=0.25),\n",
    "    transforms.RandomVerticalFlip(p=0.25),\n",
    "    transforms.ToTensor(),\n",
    "    transforms.Normalize(mean=[0.485, 0.456, 0.406],std=[0.229, 0.224, 0.225]),\n",
    "])\n",
    "\n",
    "valid_transforms = transforms.Compose([\n",
    "    transforms.ToTensor(),\n",
    "    transforms.Normalize(mean=[0.485, 0.456, 0.406],std=[0.229, 0.224, 0.225]),\n",
    "])"
   ]
  },
  {
   "cell_type": "code",
   "execution_count": 7,
   "metadata": {
    "collapsed": true
   },
   "outputs": [],
   "source": [
    "train_ds = FolderOfFrameFoldersDataset(DATA_ROOT/'train', transform=train_transforms)\n",
    "valid_ds = FolderOfFrameFoldersDataset(DATA_ROOT/'validation', transform=valid_transforms)"
   ]
  },
  {
   "cell_type": "code",
   "execution_count": 8,
   "metadata": {},
   "outputs": [
    {
     "data": {
      "text/plain": [
       "FolderOfFrameFoldersDataset with 26711 samples.\n",
       "\tOverall data distribution: {'negative': 24747, 'positive': 1964}"
      ]
     },
     "execution_count": 8,
     "metadata": {},
     "output_type": "execute_result"
    }
   ],
   "source": [
    "train_ds"
   ]
  },
  {
   "cell_type": "code",
   "execution_count": 9,
   "metadata": {},
   "outputs": [
    {
     "data": {
      "text/plain": [
       "FolderOfFrameFoldersDataset with 4751 samples.\n",
       "\tOverall data distribution: {'negative': 4332, 'positive': 419}"
      ]
     },
     "execution_count": 9,
     "metadata": {},
     "output_type": "execute_result"
    }
   ],
   "source": [
    "valid_ds"
   ]
  },
  {
   "cell_type": "code",
   "execution_count": 10,
   "metadata": {
    "collapsed": true
   },
   "outputs": [],
   "source": [
    "class SingleImageModel(nn.Module):\n",
    "    def __init__(self, mlp_sizes=[768, 128, 2]):\n",
    "        super().__init__()\n",
    "        self.vgg = vgg16(pretrained=True)\n",
    "        self.vgg.classifier = nn.Sequential(self.vgg.classifier[:-1])  # Remove imagenet output layer\n",
    "        in_features = 4096  # vgg feats\n",
    "        out_features = mlp_sizes[0]\n",
    "\n",
    "        layers = []\n",
    "        for i, size in enumerate(mlp_sizes):\n",
    "            out_features = mlp_sizes[i]\n",
    "\n",
    "            layers.append(nn.Linear(in_features, out_features))\n",
    "            layers.append(nn.ReLU())\n",
    "            layers.append(nn.BatchNorm1d(out_features)),\n",
    "            layers.append(nn.Dropout(p=0.3))\n",
    "            in_features = out_features\n",
    "\n",
    "        layers.pop()  # Remove last dropout\n",
    "        layers.pop()  # Remove last BN\n",
    "        layers.pop()  # Remove last ReLU\n",
    "        self.clf = nn.Sequential(*layers)\n",
    "        self.freeze_vgg()\n",
    "        \n",
    "    def forward(self, x):\n",
    "        x = self.vgg(x)\n",
    "        x = self.clf(x)\n",
    "        return x\n",
    "    \n",
    "    def freeze_vgg(self):\n",
    "        # Freeze the VGG classifier\n",
    "        for p in self.vgg.parameters():\n",
    "            p.requires_grad = False\n",
    "            \n",
    "    def unfreeze_vgg(self):\n",
    "        # Unfreeze the VGG classifier. Training the whole VGG is a no-go, so we only train the classifier part.\n",
    "        for p in self.vgg.classifier[1:].parameters():\n",
    "            p.requires_grad = True "
   ]
  },
  {
   "cell_type": "code",
   "execution_count": 11,
   "metadata": {
    "collapsed": true
   },
   "outputs": [],
   "source": [
    "model = SingleImageModel(mlp_sizes=[1024, 256, 2])\n",
    "\n",
    "model = model.to(device)"
   ]
  },
  {
   "cell_type": "code",
   "execution_count": 12,
   "metadata": {
    "collapsed": true
   },
   "outputs": [],
   "source": [
    "from video_classification.trainer import Trainer\n",
    "\n",
    "classes_weights = torch.Tensor([0.3, 1.0]).to(device)\n",
    "criterion = nn.CrossEntropyLoss(weight=classes_weights)"
   ]
  },
  {
   "cell_type": "code",
   "execution_count": 14,
   "metadata": {},
   "outputs": [
    {
     "name": "stdout",
     "output_type": "stream",
     "text": [
      "Selected optimization level O1:  Insert automatic casts around Pytorch functions and Tensor methods.\n",
      "\n",
      "Defaults for this optimization level are:\n",
      "enabled                : True\n",
      "opt_level              : O1\n",
      "cast_model_type        : None\n",
      "patch_torch_functions  : True\n",
      "keep_batchnorm_fp32    : None\n",
      "master_weights         : None\n",
      "loss_scale             : dynamic\n",
      "Processing user overrides (additional kwargs that are not None)...\n",
      "After processing overrides, optimization options are:\n",
      "enabled                : True\n",
      "opt_level              : O1\n",
      "cast_model_type        : None\n",
      "patch_torch_functions  : True\n",
      "keep_batchnorm_fp32    : None\n",
      "master_weights         : None\n",
      "loss_scale             : dynamic\n"
     ]
    }
   ],
   "source": [
    "trainer = Trainer(train_ds, \n",
    "                  valid_ds, \n",
    "                  model, \n",
    "                  criterion,\n",
    "                  \"single_frame_vgg\",\n",
    "                  str(ROOT/'checkpoints'),\n",
    "                  device=device,\n",
    "                  amp_opt_level=\"O1\",\n",
    "                 )"
   ]
  },
  {
   "cell_type": "code",
   "execution_count": 15,
   "metadata": {},
   "outputs": [
    {
     "name": "stderr",
     "output_type": "stream",
     "text": [
      "/home/ubuntu/anaconda3/envs/pytorch_p36/lib/python3.6/site-packages/tqdm/autonotebook/__init__.py:14: TqdmExperimentalWarning: Using `tqdm.autonotebook.tqdm` in notebook mode. Use `tqdm.tqdm` instead to force console mode (e.g. in jupyter console)\n",
      "  \" (e.g. in jupyter console)\", TqdmExperimentalWarning)\n"
     ]
    },
    {
     "data": {
      "application/vnd.jupyter.widget-view+json": {
       "model_id": "",
       "version_major": 2,
       "version_minor": 0
      },
      "text/plain": [
       "HBox(children=(IntProgress(value=0, max=557), HTML(value='')))"
      ]
     },
     "metadata": {},
     "output_type": "display_data"
    },
    {
     "name": "stdout",
     "output_type": "stream",
     "text": [
      "Training Results - Epoch: 1: Avg accuracy: 0.93 |Precision: 0.96, 0.50 |Recall: 0.96, 0.45 | F1: 0.72 | Avg loss: 0.35\n",
      "Validation Results - Epoch: 1: Avg accuracy: 0.82 |Precision: 0.93, 0.20 |Recall: 0.86, 0.36 | F1: 0.58 | Avg loss: 0.56\n"
     ]
    },
    {
     "data": {
      "application/vnd.jupyter.widget-view+json": {
       "model_id": "",
       "version_major": 2,
       "version_minor": 0
      },
      "text/plain": [
       "HBox(children=(IntProgress(value=0, max=557), HTML(value='')))"
      ]
     },
     "metadata": {},
     "output_type": "display_data"
    },
    {
     "name": "stdout",
     "output_type": "stream",
     "text": [
      "Gradient overflow.  Skipping step, loss scaler 0 reducing loss scale to 32768.0\n",
      "Training Results - Epoch: 2: Avg accuracy: 0.95 |Precision: 0.95, 0.92 |Recall: 1.00, 0.38 | F1: 0.76 | Avg loss: 0.31\n",
      "Validation Results - Epoch: 2: Avg accuracy: 0.88 |Precision: 0.93, 0.32 |Recall: 0.93, 0.33 | F1: 0.63 | Avg loss: 0.48\n"
     ]
    },
    {
     "data": {
      "application/vnd.jupyter.widget-view+json": {
       "model_id": "",
       "version_major": 2,
       "version_minor": 0
      },
      "text/plain": [
       "HBox(children=(IntProgress(value=0, max=557), HTML(value='')))"
      ]
     },
     "metadata": {},
     "output_type": "display_data"
    },
    {
     "name": "stdout",
     "output_type": "stream",
     "text": [
      "Training Results - Epoch: 3: Avg accuracy: 0.95 |Precision: 0.95, 0.96 |Recall: 1.00, 0.36 | F1: 0.75 | Avg loss: 0.31\n",
      "Validation Results - Epoch: 3: Avg accuracy: 0.92 |Precision: 0.93, 0.58 |Recall: 0.98, 0.24 | F1: 0.65 | Avg loss: 0.41\n"
     ]
    },
    {
     "data": {
      "application/vnd.jupyter.widget-view+json": {
       "model_id": "",
       "version_major": 2,
       "version_minor": 0
      },
      "text/plain": [
       "HBox(children=(IntProgress(value=0, max=557), HTML(value='')))"
      ]
     },
     "metadata": {},
     "output_type": "display_data"
    },
    {
     "name": "stdout",
     "output_type": "stream",
     "text": [
      "Training Results - Epoch: 4: Avg accuracy: 0.95 |Precision: 0.95, 0.97 |Recall: 1.00, 0.37 | F1: 0.75 | Avg loss: 0.32\n",
      "Validation Results - Epoch: 4: Avg accuracy: 0.91 |Precision: 0.93, 0.49 |Recall: 0.98, 0.19 | F1: 0.61 | Avg loss: 0.48\n"
     ]
    },
    {
     "data": {
      "application/vnd.jupyter.widget-view+json": {
       "model_id": "",
       "version_major": 2,
       "version_minor": 0
      },
      "text/plain": [
       "HBox(children=(IntProgress(value=0, max=557), HTML(value='')))"
      ]
     },
     "metadata": {},
     "output_type": "display_data"
    },
    {
     "name": "stdout",
     "output_type": "stream",
     "text": [
      "Training Results - Epoch: 5: Avg accuracy: 0.95 |Precision: 0.96, 0.82 |Recall: 0.99, 0.44 | F1: 0.77 | Avg loss: 0.29\n",
      "Validation Results - Epoch: 5: Avg accuracy: 0.91 |Precision: 0.93, 0.44 |Recall: 0.97, 0.27 | F1: 0.64 | Avg loss: 0.46\n"
     ]
    },
    {
     "data": {
      "application/vnd.jupyter.widget-view+json": {
       "model_id": "",
       "version_major": 2,
       "version_minor": 0
      },
      "text/plain": [
       "HBox(children=(IntProgress(value=0, max=557), HTML(value='')))"
      ]
     },
     "metadata": {},
     "output_type": "display_data"
    },
    {
     "name": "stdout",
     "output_type": "stream",
     "text": [
      "Training Results - Epoch: 6: Avg accuracy: 0.96 |Precision: 0.96, 0.96 |Recall: 1.00, 0.42 | F1: 0.78 | Avg loss: 0.28\n",
      "Validation Results - Epoch: 6: Avg accuracy: 0.91 |Precision: 0.93, 0.48 |Recall: 0.97, 0.29 | F1: 0.66 | Avg loss: 0.42\n"
     ]
    },
    {
     "data": {
      "application/vnd.jupyter.widget-view+json": {
       "model_id": "",
       "version_major": 2,
       "version_minor": 0
      },
      "text/plain": [
       "HBox(children=(IntProgress(value=0, max=557), HTML(value='')))"
      ]
     },
     "metadata": {},
     "output_type": "display_data"
    },
    {
     "name": "stdout",
     "output_type": "stream",
     "text": [
      "Training Results - Epoch: 7: Avg accuracy: 0.95 |Precision: 0.96, 0.94 |Recall: 1.00, 0.41 | F1: 0.77 | Avg loss: 0.29\n",
      "Validation Results - Epoch: 7: Avg accuracy: 0.91 |Precision: 0.93, 0.51 |Recall: 0.98, 0.24 | F1: 0.64 | Avg loss: 0.45\n"
     ]
    }
   ],
   "source": [
    "trainer.train(lr=1e-3, \n",
    "              batch_size=48, \n",
    "              n_epochs=7,\n",
    "              gradient_accumulation_steps=4,\n",
    "              num_workers=8,\n",
    "              max_gradient_norm=2.0,\n",
    "             )"
   ]
  },
  {
   "cell_type": "code",
   "execution_count": 16,
   "metadata": {},
   "outputs": [
    {
     "data": {
      "text/html": [
       "<div>\n",
       "<style scoped>\n",
       "    .dataframe tbody tr th:only-of-type {\n",
       "        vertical-align: middle;\n",
       "    }\n",
       "\n",
       "    .dataframe tbody tr th {\n",
       "        vertical-align: top;\n",
       "    }\n",
       "\n",
       "    .dataframe thead th {\n",
       "        text-align: right;\n",
       "    }\n",
       "</style>\n",
       "<table border=\"1\" class=\"dataframe\">\n",
       "  <thead>\n",
       "    <tr style=\"text-align: right;\">\n",
       "      <th></th>\n",
       "      <th></th>\n",
       "      <th>accuracy</th>\n",
       "      <th>f1</th>\n",
       "      <th>nll</th>\n",
       "      <th>precision</th>\n",
       "      <th>recall</th>\n",
       "    </tr>\n",
       "  </thead>\n",
       "  <tbody>\n",
       "    <tr>\n",
       "      <th rowspan=\"2\" valign=\"top\">1</th>\n",
       "      <th>train</th>\n",
       "      <td>0.926547</td>\n",
       "      <td>0.715988</td>\n",
       "      <td>0.349815</td>\n",
       "      <td>[0.9563754356447542, 0.5005720823798627]</td>\n",
       "      <td>[0.964722996726876, 0.4455193482688391]</td>\n",
       "    </tr>\n",
       "    <tr>\n",
       "      <th>test</th>\n",
       "      <td>0.817512</td>\n",
       "      <td>0.577148</td>\n",
       "      <td>0.557422</td>\n",
       "      <td>[0.9330167458135467, 0.20133333333333334]</td>\n",
       "      <td>[0.8617266851338874, 0.360381861575179]</td>\n",
       "    </tr>\n",
       "    <tr>\n",
       "      <th rowspan=\"2\" valign=\"top\">2</th>\n",
       "      <th>train</th>\n",
       "      <td>0.952005</td>\n",
       "      <td>0.75577</td>\n",
       "      <td>0.310784</td>\n",
       "      <td>[0.9528698807272166, 0.9241293532338308]</td>\n",
       "      <td>[0.9975350547541116, 0.37830957230142565]</td>\n",
       "    </tr>\n",
       "    <tr>\n",
       "      <th>test</th>\n",
       "      <td>0.879815</td>\n",
       "      <td>0.629151</td>\n",
       "      <td>0.47519</td>\n",
       "      <td>[0.9347976878612717, 0.3215962441314554]</td>\n",
       "      <td>[0.9332871652816251, 0.3269689737470167]</td>\n",
       "    </tr>\n",
       "    <tr>\n",
       "      <th rowspan=\"2\" valign=\"top\">3</th>\n",
       "      <th>train</th>\n",
       "      <td>0.951818</td>\n",
       "      <td>0.749244</td>\n",
       "      <td>0.311438</td>\n",
       "      <td>[0.9516402279377791, 0.9580514208389715]</td>\n",
       "      <td>[0.9987473229078272, 0.3604887983706721]</td>\n",
       "    </tr>\n",
       "    <tr>\n",
       "      <th>test</th>\n",
       "      <td>0.917912</td>\n",
       "      <td>0.647611</td>\n",
       "      <td>0.409342</td>\n",
       "      <td>[0.9303493449781659, 0.5847953216374269]</td>\n",
       "      <td>[0.9836103416435826, 0.2386634844868735]</td>\n",
       "    </tr>\n",
       "    <tr>\n",
       "      <th rowspan=\"2\" valign=\"top\">4</th>\n",
       "      <th>train</th>\n",
       "      <td>0.952641</td>\n",
       "      <td>0.753875</td>\n",
       "      <td>0.321788</td>\n",
       "      <td>[0.9521333949476278, 0.9703903095558546]</td>\n",
       "      <td>[0.9991110033539419, 0.36710794297352345]</td>\n",
       "    </tr>\n",
       "    <tr>\n",
       "      <th>test</th>\n",
       "      <td>0.910966</td>\n",
       "      <td>0.614743</td>\n",
       "      <td>0.481181</td>\n",
       "      <td>[0.9262813522355507, 0.4879518072289157]</td>\n",
       "      <td>[0.9803785780240074, 0.19331742243436753]</td>\n",
       "    </tr>\n",
       "    <tr>\n",
       "      <th rowspan=\"2\" valign=\"top\">5</th>\n",
       "      <th>train</th>\n",
       "      <td>0.95163</td>\n",
       "      <td>0.773135</td>\n",
       "      <td>0.29255</td>\n",
       "      <td>[0.9570877343415053, 0.818785578747628]</td>\n",
       "      <td>[0.9922818927546774, 0.4394093686354379]</td>\n",
       "    </tr>\n",
       "    <tr>\n",
       "      <th>test</th>\n",
       "      <td>0.905915</td>\n",
       "      <td>0.642591</td>\n",
       "      <td>0.463544</td>\n",
       "      <td>[0.9319546364242829, 0.4448818897637795]</td>\n",
       "      <td>[0.9674515235457064, 0.26968973747016706]</td>\n",
       "    </tr>\n",
       "    <tr>\n",
       "      <th rowspan=\"2\" valign=\"top\">6</th>\n",
       "      <th>train</th>\n",
       "      <td>0.956198</td>\n",
       "      <td>0.782159</td>\n",
       "      <td>0.283272</td>\n",
       "      <td>[0.9562289562289562, 0.9552752293577982]</td>\n",
       "      <td>[0.9984240514001698, 0.4241344195519348]</td>\n",
       "    </tr>\n",
       "    <tr>\n",
       "      <th>test</th>\n",
       "      <td>0.910124</td>\n",
       "      <td>0.658582</td>\n",
       "      <td>0.42246</td>\n",
       "      <td>[0.9341783411162997, 0.484251968503937]</td>\n",
       "      <td>[0.9697599261311173, 0.2935560859188544]</td>\n",
       "    </tr>\n",
       "    <tr>\n",
       "      <th rowspan=\"2\" valign=\"top\">7</th>\n",
       "      <th>train</th>\n",
       "      <td>0.954625</td>\n",
       "      <td>0.773434</td>\n",
       "      <td>0.292907</td>\n",
       "      <td>[0.9552048276662412, 0.9372093023255814]</td>\n",
       "      <td>[0.9978179173233119, 0.4103869653767821]</td>\n",
       "    </tr>\n",
       "    <tr>\n",
       "      <th>test</th>\n",
       "      <td>0.91286</td>\n",
       "      <td>0.639577</td>\n",
       "      <td>0.448084</td>\n",
       "      <td>[0.929982440737489, 0.5128205128205128]</td>\n",
       "      <td>[0.9780701754385965, 0.2386634844868735]</td>\n",
       "    </tr>\n",
       "  </tbody>\n",
       "</table>\n",
       "</div>"
      ],
      "text/plain": [
       "         accuracy        f1       nll  \\\n",
       "1 train  0.926547  0.715988  0.349815   \n",
       "  test   0.817512  0.577148  0.557422   \n",
       "2 train  0.952005   0.75577  0.310784   \n",
       "  test   0.879815  0.629151   0.47519   \n",
       "3 train  0.951818  0.749244  0.311438   \n",
       "  test   0.917912  0.647611  0.409342   \n",
       "4 train  0.952641  0.753875  0.321788   \n",
       "  test   0.910966  0.614743  0.481181   \n",
       "5 train   0.95163  0.773135   0.29255   \n",
       "  test   0.905915  0.642591  0.463544   \n",
       "6 train  0.956198  0.782159  0.283272   \n",
       "  test   0.910124  0.658582   0.42246   \n",
       "7 train  0.954625  0.773434  0.292907   \n",
       "  test    0.91286  0.639577  0.448084   \n",
       "\n",
       "                                         precision  \\\n",
       "1 train   [0.9563754356447542, 0.5005720823798627]   \n",
       "  test   [0.9330167458135467, 0.20133333333333334]   \n",
       "2 train   [0.9528698807272166, 0.9241293532338308]   \n",
       "  test    [0.9347976878612717, 0.3215962441314554]   \n",
       "3 train   [0.9516402279377791, 0.9580514208389715]   \n",
       "  test    [0.9303493449781659, 0.5847953216374269]   \n",
       "4 train   [0.9521333949476278, 0.9703903095558546]   \n",
       "  test    [0.9262813522355507, 0.4879518072289157]   \n",
       "5 train    [0.9570877343415053, 0.818785578747628]   \n",
       "  test    [0.9319546364242829, 0.4448818897637795]   \n",
       "6 train   [0.9562289562289562, 0.9552752293577982]   \n",
       "  test     [0.9341783411162997, 0.484251968503937]   \n",
       "7 train   [0.9552048276662412, 0.9372093023255814]   \n",
       "  test     [0.929982440737489, 0.5128205128205128]   \n",
       "\n",
       "                                            recall  \n",
       "1 train    [0.964722996726876, 0.4455193482688391]  \n",
       "  test     [0.8617266851338874, 0.360381861575179]  \n",
       "2 train  [0.9975350547541116, 0.37830957230142565]  \n",
       "  test    [0.9332871652816251, 0.3269689737470167]  \n",
       "3 train   [0.9987473229078272, 0.3604887983706721]  \n",
       "  test    [0.9836103416435826, 0.2386634844868735]  \n",
       "4 train  [0.9991110033539419, 0.36710794297352345]  \n",
       "  test   [0.9803785780240074, 0.19331742243436753]  \n",
       "5 train   [0.9922818927546774, 0.4394093686354379]  \n",
       "  test   [0.9674515235457064, 0.26968973747016706]  \n",
       "6 train   [0.9984240514001698, 0.4241344195519348]  \n",
       "  test    [0.9697599261311173, 0.2935560859188544]  \n",
       "7 train   [0.9978179173233119, 0.4103869653767821]  \n",
       "  test    [0.9780701754385965, 0.2386634844868735]  "
      ]
     },
     "execution_count": 16,
     "metadata": {},
     "output_type": "execute_result"
    }
   ],
   "source": [
    "import pandas as pd\n",
    "reform = {(outerKey, innerKey): values for outerKey, innerDict in trainer.epoch_state.items() for innerKey, values in innerDict.items()}\n",
    "pd.DataFrame(reform).T"
   ]
  },
  {
   "cell_type": "code",
   "execution_count": 16,
   "metadata": {},
   "outputs": [
    {
     "data": {
      "text/plain": [
       "{'accuracy': 0.7371079772679436,\n",
       " 'nll': 0.5739234951709953,\n",
       " 'precision': [0.9280755345737295, 0.1391304347826087],\n",
       " 'recall': [0.7714681440443213, 0.3818615751789976],\n",
       " 'f1': 0.5232539857186665}"
      ]
     },
     "execution_count": 16,
     "metadata": {},
     "output_type": "execute_result"
    }
   ],
   "source": [
    "trainer.evaluator.state.metrics"
   ]
  },
  {
   "cell_type": "code",
   "execution_count": 17,
   "metadata": {},
   "outputs": [
    {
     "data": {
      "text/plain": [
       "{'accuracy': 0.9122290044201221,\n",
       " 'nll': 0.661812626883949,\n",
       " 'precision': [0.9121920404295641, 1.0],\n",
       " 'recall': [1.0, 0.00477326968973747],\n",
       " 'f1': 0.48179056739542064}"
      ]
     },
     "execution_count": 17,
     "metadata": {},
     "output_type": "execute_result"
    }
   ],
   "source": [
    "trainer.evaluator.state.metrics"
   ]
  },
  {
   "cell_type": "code",
   "execution_count": 1,
   "metadata": {},
   "outputs": [
    {
     "name": "stdout",
     "output_type": "stream",
     "text": [
      "Sun Jul  7 18:21:20 2019       \r\n",
      "+-----------------------------------------------------------------------------+\r\n",
      "| NVIDIA-SMI 418.40.04    Driver Version: 418.40.04    CUDA Version: 10.1     |\r\n",
      "|-------------------------------+----------------------+----------------------+\r\n",
      "| GPU  Name        Persistence-M| Bus-Id        Disp.A | Volatile Uncorr. ECC |\r\n",
      "| Fan  Temp  Perf  Pwr:Usage/Cap|         Memory-Usage | GPU-Util  Compute M. |\r\n",
      "|===============================+======================+======================|\r\n",
      "|   0  Tesla V100-SXM2...  On   | 00000000:00:1E.0 Off |                    0 |\r\n",
      "| N/A   41C    P0    27W / 300W |      0MiB / 16130MiB |      0%      Default |\r\n",
      "+-------------------------------+----------------------+----------------------+\r\n",
      "                                                                               \r\n",
      "+-----------------------------------------------------------------------------+\r\n",
      "| Processes:                                                       GPU Memory |\r\n",
      "|  GPU       PID   Type   Process name                             Usage      |\r\n",
      "|=============================================================================|\r\n",
      "|  No running processes found                                                 |\r\n",
      "+-----------------------------------------------------------------------------+\r\n"
     ]
    }
   ],
   "source": [
    "!nvidia-smi"
   ]
  },
  {
   "cell_type": "markdown",
   "metadata": {},
   "source": [
    "# Error analysis"
   ]
  },
  {
   "cell_type": "code",
   "execution_count": null,
   "metadata": {
    "collapsed": true
   },
   "outputs": [],
   "source": [
    "best_model_weights = torch.load(str(ROOT/'checkpoints/single_frame_vgg_SingleImageModel_6_f1=0.6585821.pth'))\n",
    "model.load_state_dict(best_model_weights)"
   ]
  },
  {
   "cell_type": "code",
   "execution_count": 27,
   "metadata": {},
   "outputs": [
    {
     "name": "stderr",
     "output_type": "stream",
     "text": [
      "100%|██████████| 99/99 [01:23<00:00,  1.18it/s]\n"
     ]
    }
   ],
   "source": [
    "from tqdm import tqdm\n",
    "import numpy as np\n",
    "\n",
    "valid_loader = DataLoader(valid_ds, batch_size=48, shuffle=False)\n",
    "y_probs = []\n",
    "y_true = []\n",
    "with torch.no_grad():\n",
    "    for i, (x, y) in enumerate(tqdm(valid_loader)):\n",
    "        x = x.to(device)\n",
    "        x = model(x)\n",
    "        batch_pred = torch.softmax(x, dim=-1).cpu().tolist()\n",
    "        batch_true = y.tolist()\n",
    "        y_probs.extend((y for y in batch_pred))\n",
    "        y_true.extend((y for y in batch_true))\n",
    "        \n",
    "y_probs = np.array(y_probs)\n",
    "y_true = np.array(y_true)\n",
    "y_pred = np.argmax(y_probs, 1)"
   ]
  },
  {
   "cell_type": "code",
   "execution_count": 44,
   "metadata": {},
   "outputs": [
    {
     "data": {
      "text/plain": [
       "(4751, 2)"
      ]
     },
     "execution_count": 44,
     "metadata": {},
     "output_type": "execute_result"
    }
   ],
   "source": [
    "np.stack([y_pred, y_true], 1).shape"
   ]
  },
  {
   "cell_type": "code",
   "execution_count": 37,
   "metadata": {},
   "outputs": [
    {
     "data": {
      "text/plain": [
       "array([0, 0, 0, ..., 0, 0, 0])"
      ]
     },
     "execution_count": 37,
     "metadata": {},
     "output_type": "execute_result"
    }
   ],
   "source": []
  },
  {
   "cell_type": "code",
   "execution_count": 68,
   "metadata": {
    "collapsed": true
   },
   "outputs": [],
   "source": [
    "false_positives = []\n",
    "false_negatives = []\n",
    "true_positives = []\n",
    "true_negatives = []\n",
    "\n",
    "for i, (pred, real) in enumerate(zip(y_pred, y_true)):\n",
    "    if pred == 1 and real == 1:\n",
    "        true_positives.append(i)\n",
    "    elif pred == 0 and real == 0:\n",
    "        true_negatives.append(i)\n",
    "    elif pred == 1 and real == 0:\n",
    "        false_positives.append(i)\n",
    "    elif pred == 0 and real == 1:\n",
    "        false_negatives.append(i)"
   ]
  },
  {
   "cell_type": "code",
   "execution_count": 53,
   "metadata": {
    "collapsed": true
   },
   "outputs": [],
   "source": [
    "valid_ds = FolderOfFrameFoldersDataset(DATA_ROOT/'validation', transform=None)"
   ]
  },
  {
   "cell_type": "code",
   "execution_count": 72,
   "metadata": {},
   "outputs": [
    {
     "data": {
      "text/plain": [
       "[1444,\n",
       " 1448,\n",
       " 1596,\n",
       " 1647,\n",
       " 1648,\n",
       " 1649,\n",
       " 1650,\n",
       " 1651,\n",
       " 1652,\n",
       " 1653,\n",
       " 1654,\n",
       " 1655,\n",
       " 1656,\n",
       " 1657,\n",
       " 1658,\n",
       " 1659,\n",
       " 1660,\n",
       " 1661,\n",
       " 1662,\n",
       " 1663,\n",
       " 1664,\n",
       " 1665,\n",
       " 1666,\n",
       " 1667,\n",
       " 1668,\n",
       " 1669,\n",
       " 1670,\n",
       " 1671,\n",
       " 1672,\n",
       " 1673,\n",
       " 1674,\n",
       " 1675,\n",
       " 1676,\n",
       " 1677,\n",
       " 1678,\n",
       " 1679,\n",
       " 1680,\n",
       " 1681,\n",
       " 1682,\n",
       " 1683,\n",
       " 1684,\n",
       " 1685,\n",
       " 1686,\n",
       " 1687,\n",
       " 1688,\n",
       " 1689,\n",
       " 1690,\n",
       " 1691,\n",
       " 1692,\n",
       " 1693,\n",
       " 1694,\n",
       " 1695,\n",
       " 1696,\n",
       " 1697,\n",
       " 1698,\n",
       " 1699,\n",
       " 1700,\n",
       " 1701,\n",
       " 1702,\n",
       " 1703,\n",
       " 1704,\n",
       " 1705,\n",
       " 1706,\n",
       " 1707,\n",
       " 1708,\n",
       " 1709,\n",
       " 1710,\n",
       " 1711,\n",
       " 1712,\n",
       " 1713,\n",
       " 1714,\n",
       " 1715,\n",
       " 1716,\n",
       " 1717,\n",
       " 1718,\n",
       " 1719,\n",
       " 1720,\n",
       " 1721,\n",
       " 1722,\n",
       " 1723,\n",
       " 1724,\n",
       " 1725,\n",
       " 1726,\n",
       " 1727,\n",
       " 1728,\n",
       " 1729,\n",
       " 1730,\n",
       " 1731,\n",
       " 1732,\n",
       " 1733,\n",
       " 1734,\n",
       " 1735,\n",
       " 1736,\n",
       " 1737,\n",
       " 1738,\n",
       " 1739,\n",
       " 1740,\n",
       " 1741,\n",
       " 1742,\n",
       " 1743,\n",
       " 1744,\n",
       " 1745,\n",
       " 1746,\n",
       " 1747,\n",
       " 1748,\n",
       " 1749,\n",
       " 1750,\n",
       " 1751,\n",
       " 1752,\n",
       " 1753,\n",
       " 1754,\n",
       " 1755,\n",
       " 1756,\n",
       " 1757,\n",
       " 1758,\n",
       " 1759,\n",
       " 2001,\n",
       " 2002,\n",
       " 2003,\n",
       " 2004,\n",
       " 2005,\n",
       " 2006,\n",
       " 2007,\n",
       " 2008,\n",
       " 2174,\n",
       " 2175,\n",
       " 2176,\n",
       " 2177,\n",
       " 2178,\n",
       " 2179,\n",
       " 2180,\n",
       " 2269,\n",
       " 2270,\n",
       " 2271,\n",
       " 2272,\n",
       " 2273,\n",
       " 2274,\n",
       " 2275,\n",
       " 2276,\n",
       " 2277,\n",
       " 2278]"
      ]
     },
     "execution_count": 72,
     "metadata": {},
     "output_type": "execute_result"
    }
   ],
   "source": [
    "true_positives"
   ]
  },
  {
   "cell_type": "code",
   "execution_count": null,
   "metadata": {
    "scrolled": false
   },
   "outputs": [],
   "source": [
    "valid_ds[2274][0]"
   ]
  },
  {
   "cell_type": "code",
   "execution_count": null,
   "metadata": {
    "collapsed": true
   },
   "outputs": [],
   "source": []
  },
  {
   "cell_type": "code",
   "execution_count": 85,
   "metadata": {},
   "outputs": [
    {
     "data": {
      "text/plain": [
       "[157,\n",
       " 158,\n",
       " 159,\n",
       " 160,\n",
       " 161,\n",
       " 162,\n",
       " 163,\n",
       " 164,\n",
       " 165,\n",
       " 166,\n",
       " 167,\n",
       " 168,\n",
       " 169,\n",
       " 170,\n",
       " 171,\n",
       " 382,\n",
       " 383,\n",
       " 384,\n",
       " 385,\n",
       " 386,\n",
       " 387,\n",
       " 388,\n",
       " 389,\n",
       " 390,\n",
       " 391,\n",
       " 392,\n",
       " 393,\n",
       " 394,\n",
       " 395,\n",
       " 998,\n",
       " 999,\n",
       " 1000,\n",
       " 1001,\n",
       " 1002,\n",
       " 1003,\n",
       " 1004,\n",
       " 1005,\n",
       " 1006,\n",
       " 1007,\n",
       " 1008,\n",
       " 1009,\n",
       " 1162,\n",
       " 1163,\n",
       " 1164,\n",
       " 1165,\n",
       " 1166,\n",
       " 1167,\n",
       " 1168,\n",
       " 1169,\n",
       " 1170,\n",
       " 1171,\n",
       " 1372,\n",
       " 1373,\n",
       " 1374,\n",
       " 1375,\n",
       " 1376,\n",
       " 1377,\n",
       " 1378,\n",
       " 1379,\n",
       " 1443,\n",
       " 1445,\n",
       " 1446,\n",
       " 1447,\n",
       " 1449,\n",
       " 1450,\n",
       " 1451,\n",
       " 1591,\n",
       " 1592,\n",
       " 1593,\n",
       " 1594,\n",
       " 1595,\n",
       " 1597,\n",
       " 1598,\n",
       " 2606,\n",
       " 2607,\n",
       " 2608,\n",
       " 2609,\n",
       " 2610,\n",
       " 2611,\n",
       " 2612,\n",
       " 2613,\n",
       " 2614,\n",
       " 2615,\n",
       " 2616,\n",
       " 2617,\n",
       " 2618,\n",
       " 2619,\n",
       " 2620,\n",
       " 2621,\n",
       " 2622,\n",
       " 2623,\n",
       " 2624,\n",
       " 2625,\n",
       " 2626,\n",
       " 2627,\n",
       " 2628,\n",
       " 2629,\n",
       " 2630,\n",
       " 2631,\n",
       " 2632,\n",
       " 2633,\n",
       " 2634,\n",
       " 2635,\n",
       " 2636,\n",
       " 2637,\n",
       " 2638,\n",
       " 2639,\n",
       " 2640,\n",
       " 2641,\n",
       " 2642,\n",
       " 2643,\n",
       " 2644,\n",
       " 2645,\n",
       " 2973,\n",
       " 2974,\n",
       " 2975,\n",
       " 2976,\n",
       " 2977,\n",
       " 2978,\n",
       " 2979,\n",
       " 2980,\n",
       " 2981,\n",
       " 2982,\n",
       " 2983,\n",
       " 2984,\n",
       " 2985,\n",
       " 2986,\n",
       " 2987,\n",
       " 2988,\n",
       " 2989,\n",
       " 2990,\n",
       " 2991,\n",
       " 2992,\n",
       " 2993,\n",
       " 2994,\n",
       " 2995,\n",
       " 2996,\n",
       " 2997,\n",
       " 2998,\n",
       " 2999,\n",
       " 3000,\n",
       " 3001,\n",
       " 3002,\n",
       " 3003,\n",
       " 3004,\n",
       " 3005,\n",
       " 3006,\n",
       " 3007,\n",
       " 3008,\n",
       " 3009,\n",
       " 3010,\n",
       " 3011,\n",
       " 3251,\n",
       " 3252,\n",
       " 3253,\n",
       " 3254,\n",
       " 3255,\n",
       " 3256,\n",
       " 3257,\n",
       " 3258,\n",
       " 3259,\n",
       " 3260,\n",
       " 3261,\n",
       " 3262,\n",
       " 3263,\n",
       " 3264,\n",
       " 3265,\n",
       " 3266,\n",
       " 3267,\n",
       " 3268,\n",
       " 3269,\n",
       " 3270,\n",
       " 3271,\n",
       " 3272,\n",
       " 3273,\n",
       " 3274,\n",
       " 3275,\n",
       " 3276,\n",
       " 3277,\n",
       " 3278,\n",
       " 3279,\n",
       " 3280,\n",
       " 3281,\n",
       " 3282,\n",
       " 3283,\n",
       " 3284,\n",
       " 3379,\n",
       " 3380,\n",
       " 3381,\n",
       " 3382,\n",
       " 3383,\n",
       " 3384,\n",
       " 3385,\n",
       " 3386,\n",
       " 3387,\n",
       " 3388,\n",
       " 3389,\n",
       " 3390,\n",
       " 3391,\n",
       " 3392,\n",
       " 3393,\n",
       " 3394,\n",
       " 3395,\n",
       " 3396,\n",
       " 3397,\n",
       " 3398,\n",
       " 3399,\n",
       " 3400,\n",
       " 3401,\n",
       " 3402,\n",
       " 3403,\n",
       " 3404,\n",
       " 3405,\n",
       " 3406,\n",
       " 3407,\n",
       " 3408,\n",
       " 3409,\n",
       " 3410,\n",
       " 3411,\n",
       " 3412,\n",
       " 3413,\n",
       " 3414,\n",
       " 3415,\n",
       " 3840,\n",
       " 3841,\n",
       " 3842,\n",
       " 3843,\n",
       " 3844,\n",
       " 3845,\n",
       " 3846,\n",
       " 3847,\n",
       " 3848,\n",
       " 3849,\n",
       " 3850,\n",
       " 3851,\n",
       " 3852,\n",
       " 3853,\n",
       " 3854,\n",
       " 3855,\n",
       " 3856,\n",
       " 3857,\n",
       " 3858,\n",
       " 3859,\n",
       " 3979,\n",
       " 3980,\n",
       " 3981,\n",
       " 3982,\n",
       " 3983,\n",
       " 3984,\n",
       " 3985,\n",
       " 3986,\n",
       " 3987,\n",
       " 3988,\n",
       " 3989,\n",
       " 3990,\n",
       " 3991,\n",
       " 3992,\n",
       " 3993,\n",
       " 3994,\n",
       " 3995,\n",
       " 3996,\n",
       " 4128,\n",
       " 4129,\n",
       " 4130,\n",
       " 4131,\n",
       " 4132,\n",
       " 4133,\n",
       " 4134,\n",
       " 4135,\n",
       " 4136,\n",
       " 4137,\n",
       " 4138,\n",
       " 4139,\n",
       " 4140,\n",
       " 4141,\n",
       " 4142,\n",
       " 4143,\n",
       " 4144]"
      ]
     },
     "execution_count": 85,
     "metadata": {},
     "output_type": "execute_result"
    }
   ],
   "source": [
    "false_negatives"
   ]
  },
  {
   "cell_type": "code",
   "execution_count": null,
   "metadata": {
    "scrolled": false
   },
   "outputs": [],
   "source": [
    "valid_ds[163][0]"
   ]
  },
  {
   "cell_type": "code",
   "execution_count": null,
   "metadata": {},
   "outputs": [],
   "source": [
    "valid_ds[1000][0]"
   ]
  },
  {
   "cell_type": "code",
   "execution_count": null,
   "metadata": {},
   "outputs": [],
   "source": [
    "valid_ds[1163][0]"
   ]
  },
  {
   "cell_type": "code",
   "execution_count": null,
   "metadata": {},
   "outputs": [],
   "source": [
    "valid_ds[1448][0]"
   ]
  },
  {
   "cell_type": "code",
   "execution_count": null,
   "metadata": {
    "collapsed": true
   },
   "outputs": [],
   "source": []
  }
 ],
 "metadata": {
  "kernelspec": {
   "display_name": "Insight",
   "language": "python",
   "name": "python3"
  },
  "language_info": {
   "codemirror_mode": {
    "name": "ipython",
    "version": 3
   },
   "file_extension": ".py",
   "mimetype": "text/x-python",
   "name": "python",
   "nbconvert_exporter": "python",
   "pygments_lexer": "ipython3",
   "version": "3.7.3"
  }
 },
 "nbformat": 4,
 "nbformat_minor": 2
}
